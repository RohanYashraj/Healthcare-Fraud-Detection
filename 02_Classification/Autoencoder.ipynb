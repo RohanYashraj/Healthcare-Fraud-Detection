{
 "cells": [
  {
   "cell_type": "code",
   "execution_count": 5,
   "metadata": {
    "colab": {
     "base_uri": "https://localhost:8080/",
     "height": 125
    },
    "id": "vVJU0jv5x9s8",
    "outputId": "2244b975-02f8-4dd8-bf85-e4728cbf0c24"
   },
   "outputs": [],
   "source": [
    "# from google.colab import drive\n",
    "# drive.mount('/content/drive')"
   ]
  },
  {
   "cell_type": "code",
   "execution_count": 6,
   "metadata": {
    "colab": {
     "base_uri": "https://localhost:8080/",
     "height": 81
    },
    "id": "HnNeFzl5udt-",
    "outputId": "30dbea4a-d746-444c-913d-1b9ff53ccbd8"
   },
   "outputs": [
    {
     "name": "stderr",
     "output_type": "stream",
     "text": [
      "Using TensorFlow backend.\n"
     ]
    }
   ],
   "source": [
    "import pandas as pd\n",
    "import numpy as np\n",
    "import pickle\n",
    "import matplotlib.pyplot as plt\n",
    "from scipy import stats\n",
    "import tensorflow as tf\n",
    "import seaborn as sns\n",
    "from pylab import rcParams\n",
    "from sklearn.model_selection import train_test_split\n",
    "from keras.models import Model, load_model\n",
    "from keras.layers import Input, Dense\n",
    "from keras.callbacks import ModelCheckpoint, TensorBoard\n",
    "from keras import regularizers\n",
    "\n",
    "%matplotlib inline\n",
    "\n",
    "sns.set(style='whitegrid', palette='muted', font_scale=1.5)\n",
    "\n",
    "rcParams['figure.figsize'] = 14, 8\n",
    "\n",
    "RANDOM_SEED = 42\n",
    "LABELS = [\"Normal\", \"Fraud\"]"
   ]
  },
  {
   "cell_type": "code",
   "execution_count": 7,
   "metadata": {
    "id": "UNtzXMYJuduG"
   },
   "outputs": [],
   "source": [
    "df = pd.read_csv(\"./Data/df_final_preprocessed.csv\")"
   ]
  },
  {
   "cell_type": "markdown",
   "metadata": {
    "id": "iMGhg2IduduM"
   },
   "source": [
    "# Exploration"
   ]
  },
  {
   "cell_type": "code",
   "execution_count": 8,
   "metadata": {
    "colab": {
     "base_uri": "https://localhost:8080/",
     "height": 263
    },
    "id": "Al4dBqTTuduN",
    "outputId": "80f465ee-cd3b-45fd-f747-30a018c3b37c"
   },
   "outputs": [
    {
     "data": {
      "text/html": [
       "<div>\n",
       "<style scoped>\n",
       "    .dataframe tbody tr th:only-of-type {\n",
       "        vertical-align: middle;\n",
       "    }\n",
       "\n",
       "    .dataframe tbody tr th {\n",
       "        vertical-align: top;\n",
       "    }\n",
       "\n",
       "    .dataframe thead th {\n",
       "        text-align: right;\n",
       "    }\n",
       "</style>\n",
       "<table border=\"1\" class=\"dataframe\">\n",
       "  <thead>\n",
       "    <tr style=\"text-align: right;\">\n",
       "      <th></th>\n",
       "      <th>No of Days Stayed</th>\n",
       "      <th>Net Amt</th>\n",
       "      <th>settlement_delay</th>\n",
       "      <th>age</th>\n",
       "      <th>Start_year</th>\n",
       "      <th>Start_month</th>\n",
       "      <th>Start_week</th>\n",
       "      <th>Start_day</th>\n",
       "      <th>Start_dayofweek</th>\n",
       "      <th>Reported_year</th>\n",
       "      <th>...</th>\n",
       "      <th>Residence Location_PATIALA</th>\n",
       "      <th>Residence Location_RUPNAGAR</th>\n",
       "      <th>Residence Location_S.A.S Nagar</th>\n",
       "      <th>Residence Location_SANGRUR</th>\n",
       "      <th>Residence Location_SRI MUKTSAR SAHIB</th>\n",
       "      <th>Residence Location_Shahid Bhagat Singh Nagar</th>\n",
       "      <th>Residence Location_Tarn Taran</th>\n",
       "      <th>Reject status more than 3 months_0</th>\n",
       "      <th>Reject status more than 3 months_1</th>\n",
       "      <th>FraudFound</th>\n",
       "    </tr>\n",
       "  </thead>\n",
       "  <tbody>\n",
       "    <tr>\n",
       "      <th>0</th>\n",
       "      <td>0.176955</td>\n",
       "      <td>0.021340</td>\n",
       "      <td>0.386719</td>\n",
       "      <td>1.0</td>\n",
       "      <td>0.0</td>\n",
       "      <td>0.181818</td>\n",
       "      <td>0.176471</td>\n",
       "      <td>0.300000</td>\n",
       "      <td>1.000000</td>\n",
       "      <td>1.0</td>\n",
       "      <td>...</td>\n",
       "      <td>1.0</td>\n",
       "      <td>0.0</td>\n",
       "      <td>0.0</td>\n",
       "      <td>0.0</td>\n",
       "      <td>0.0</td>\n",
       "      <td>0.0</td>\n",
       "      <td>0.0</td>\n",
       "      <td>1.0</td>\n",
       "      <td>0.0</td>\n",
       "      <td>0</td>\n",
       "    </tr>\n",
       "    <tr>\n",
       "      <th>1</th>\n",
       "      <td>0.008230</td>\n",
       "      <td>0.019917</td>\n",
       "      <td>0.327148</td>\n",
       "      <td>1.0</td>\n",
       "      <td>1.0</td>\n",
       "      <td>0.454545</td>\n",
       "      <td>0.470588</td>\n",
       "      <td>0.466667</td>\n",
       "      <td>0.000000</td>\n",
       "      <td>1.0</td>\n",
       "      <td>...</td>\n",
       "      <td>0.0</td>\n",
       "      <td>0.0</td>\n",
       "      <td>0.0</td>\n",
       "      <td>1.0</td>\n",
       "      <td>0.0</td>\n",
       "      <td>0.0</td>\n",
       "      <td>0.0</td>\n",
       "      <td>1.0</td>\n",
       "      <td>0.0</td>\n",
       "      <td>0</td>\n",
       "    </tr>\n",
       "    <tr>\n",
       "      <th>2</th>\n",
       "      <td>0.004115</td>\n",
       "      <td>0.005691</td>\n",
       "      <td>0.351562</td>\n",
       "      <td>0.0</td>\n",
       "      <td>0.0</td>\n",
       "      <td>0.909091</td>\n",
       "      <td>0.921569</td>\n",
       "      <td>0.833333</td>\n",
       "      <td>0.166667</td>\n",
       "      <td>0.0</td>\n",
       "      <td>...</td>\n",
       "      <td>0.0</td>\n",
       "      <td>0.0</td>\n",
       "      <td>0.0</td>\n",
       "      <td>0.0</td>\n",
       "      <td>0.0</td>\n",
       "      <td>0.0</td>\n",
       "      <td>0.0</td>\n",
       "      <td>1.0</td>\n",
       "      <td>0.0</td>\n",
       "      <td>0</td>\n",
       "    </tr>\n",
       "    <tr>\n",
       "      <th>3</th>\n",
       "      <td>0.020576</td>\n",
       "      <td>0.019917</td>\n",
       "      <td>0.188477</td>\n",
       "      <td>1.0</td>\n",
       "      <td>1.0</td>\n",
       "      <td>0.454545</td>\n",
       "      <td>0.470588</td>\n",
       "      <td>0.666667</td>\n",
       "      <td>1.000000</td>\n",
       "      <td>1.0</td>\n",
       "      <td>...</td>\n",
       "      <td>0.0</td>\n",
       "      <td>0.0</td>\n",
       "      <td>0.0</td>\n",
       "      <td>1.0</td>\n",
       "      <td>0.0</td>\n",
       "      <td>0.0</td>\n",
       "      <td>0.0</td>\n",
       "      <td>1.0</td>\n",
       "      <td>0.0</td>\n",
       "      <td>0</td>\n",
       "    </tr>\n",
       "    <tr>\n",
       "      <th>4</th>\n",
       "      <td>0.004115</td>\n",
       "      <td>0.021340</td>\n",
       "      <td>0.354492</td>\n",
       "      <td>1.0</td>\n",
       "      <td>1.0</td>\n",
       "      <td>0.000000</td>\n",
       "      <td>0.058824</td>\n",
       "      <td>0.633333</td>\n",
       "      <td>0.000000</td>\n",
       "      <td>1.0</td>\n",
       "      <td>...</td>\n",
       "      <td>0.0</td>\n",
       "      <td>0.0</td>\n",
       "      <td>0.0</td>\n",
       "      <td>0.0</td>\n",
       "      <td>0.0</td>\n",
       "      <td>0.0</td>\n",
       "      <td>0.0</td>\n",
       "      <td>1.0</td>\n",
       "      <td>0.0</td>\n",
       "      <td>0</td>\n",
       "    </tr>\n",
       "  </tbody>\n",
       "</table>\n",
       "<p>5 rows × 99 columns</p>\n",
       "</div>"
      ],
      "text/plain": [
       "   No of Days Stayed   Net Amt  settlement_delay  age  Start_year  \\\n",
       "0           0.176955  0.021340          0.386719  1.0         0.0   \n",
       "1           0.008230  0.019917          0.327148  1.0         1.0   \n",
       "2           0.004115  0.005691          0.351562  0.0         0.0   \n",
       "3           0.020576  0.019917          0.188477  1.0         1.0   \n",
       "4           0.004115  0.021340          0.354492  1.0         1.0   \n",
       "\n",
       "   Start_month  Start_week  Start_day  Start_dayofweek  Reported_year  ...  \\\n",
       "0     0.181818    0.176471   0.300000         1.000000            1.0  ...   \n",
       "1     0.454545    0.470588   0.466667         0.000000            1.0  ...   \n",
       "2     0.909091    0.921569   0.833333         0.166667            0.0  ...   \n",
       "3     0.454545    0.470588   0.666667         1.000000            1.0  ...   \n",
       "4     0.000000    0.058824   0.633333         0.000000            1.0  ...   \n",
       "\n",
       "   Residence Location_PATIALA  Residence Location_RUPNAGAR  \\\n",
       "0                         1.0                          0.0   \n",
       "1                         0.0                          0.0   \n",
       "2                         0.0                          0.0   \n",
       "3                         0.0                          0.0   \n",
       "4                         0.0                          0.0   \n",
       "\n",
       "   Residence Location_S.A.S Nagar  Residence Location_SANGRUR  \\\n",
       "0                             0.0                         0.0   \n",
       "1                             0.0                         1.0   \n",
       "2                             0.0                         0.0   \n",
       "3                             0.0                         1.0   \n",
       "4                             0.0                         0.0   \n",
       "\n",
       "   Residence Location_SRI MUKTSAR SAHIB  \\\n",
       "0                                   0.0   \n",
       "1                                   0.0   \n",
       "2                                   0.0   \n",
       "3                                   0.0   \n",
       "4                                   0.0   \n",
       "\n",
       "   Residence Location_Shahid Bhagat Singh Nagar  \\\n",
       "0                                           0.0   \n",
       "1                                           0.0   \n",
       "2                                           0.0   \n",
       "3                                           0.0   \n",
       "4                                           0.0   \n",
       "\n",
       "   Residence Location_Tarn Taran  Reject status more than 3 months_0  \\\n",
       "0                            0.0                                 1.0   \n",
       "1                            0.0                                 1.0   \n",
       "2                            0.0                                 1.0   \n",
       "3                            0.0                                 1.0   \n",
       "4                            0.0                                 1.0   \n",
       "\n",
       "   Reject status more than 3 months_1  FraudFound  \n",
       "0                                 0.0           0  \n",
       "1                                 0.0           0  \n",
       "2                                 0.0           0  \n",
       "3                                 0.0           0  \n",
       "4                                 0.0           0  \n",
       "\n",
       "[5 rows x 99 columns]"
      ]
     },
     "execution_count": 8,
     "metadata": {},
     "output_type": "execute_result"
    }
   ],
   "source": [
    "df.head()\n",
    "# import requests\n",
    "# requests.get('https://www.google.com/')"
   ]
  },
  {
   "cell_type": "code",
   "execution_count": 9,
   "metadata": {
    "colab": {
     "base_uri": "https://localhost:8080/",
     "height": 34
    },
    "id": "RJI8jSpOuduT",
    "outputId": "6ac86080-5d67-42ea-fdda-a910c1203f7d"
   },
   "outputs": [
    {
     "data": {
      "text/plain": [
       "False"
      ]
     },
     "execution_count": 9,
     "metadata": {},
     "output_type": "execute_result"
    }
   ],
   "source": [
    "df.isnull().values.any()"
   ]
  },
  {
   "cell_type": "code",
   "execution_count": 10,
   "metadata": {
    "colab": {
     "base_uri": "https://localhost:8080/",
     "height": 534
    },
    "id": "wcVK6qzxuduY",
    "outputId": "dd0d0df6-273c-446d-df24-ce19d5d82720"
   },
   "outputs": [
    {
     "data": {
      "image/png": "[encoded data removed]",
      "text/plain": [
       "<Figure size 1008x576 with 1 Axes>"
      ]
     },
     "metadata": {},
     "output_type": "display_data"
    }
   ],
   "source": [
    "count_classes = pd.value_counts(df['FraudFound'], sort = True)\n",
    "count_classes.plot(kind = 'bar', rot=0)\n",
    "plt.title(\"Transaction class distribution\")\n",
    "plt.xticks(range(2), LABELS)\n",
    "plt.xlabel(\"Fraud\")\n",
    "plt.ylabel(\"Frequency\");"
   ]
  },
  {
   "cell_type": "markdown",
   "metadata": {
    "id": "kXaGHwLFudug"
   },
   "source": [
    "We have a highly imbalanced dataset on our hands. Normal transactions overwhelm the fraudulent ones by a large margin. Let's look at the two types of transactions: "
   ]
  },
  {
   "cell_type": "code",
   "execution_count": 11,
   "metadata": {
    "id": "i5cadARzuduh"
   },
   "outputs": [],
   "source": [
    "frauds = df[df.FraudFound == 1]\n",
    "normal = df[df.FraudFound == 0]"
   ]
  },
  {
   "cell_type": "code",
   "execution_count": 12,
   "metadata": {
    "colab": {
     "base_uri": "https://localhost:8080/",
     "height": 34
    },
    "id": "HY41553dudum",
    "outputId": "9a23ac15-fb9d-4969-e885-d6ac899ee398"
   },
   "outputs": [
    {
     "data": {
      "text/plain": [
       "(46400, 99)"
      ]
     },
     "execution_count": 12,
     "metadata": {},
     "output_type": "execute_result"
    }
   ],
   "source": [
    "frauds.shape"
   ]
  },
  {
   "cell_type": "code",
   "execution_count": 13,
   "metadata": {
    "colab": {
     "base_uri": "https://localhost:8080/",
     "height": 34
    },
    "id": "JUYFMQHGudup",
    "outputId": "670ae8eb-5bfa-4a2d-a9f6-00f63b8d9870"
   },
   "outputs": [
    {
     "data": {
      "text/plain": [
       "(336187, 99)"
      ]
     },
     "execution_count": 13,
     "metadata": {},
     "output_type": "execute_result"
    }
   ],
   "source": [
    "normal.shape"
   ]
  },
  {
   "cell_type": "markdown",
   "metadata": {
    "id": "ClfhVFInudut"
   },
   "source": [
    "How different are the amount of money used in different transaction classes?"
   ]
  },
  {
   "cell_type": "code",
   "execution_count": 14,
   "metadata": {
    "id": "AiH1QIfUuduu"
   },
   "outputs": [
    {
     "data": {
      "text/plain": [
       "count    46400.000000\n",
       "mean         0.033577\n",
       "std          0.064470\n",
       "min          0.000000\n",
       "25%          0.004837\n",
       "50%          0.006829\n",
       "75%          0.028454\n",
       "max          0.735524\n",
       "Name: Net Amt, dtype: float64"
      ]
     },
     "execution_count": 14,
     "metadata": {},
     "output_type": "execute_result"
    }
   ],
   "source": [
    "frauds['Net Amt'].describe()"
   ]
  },
  {
   "cell_type": "code",
   "execution_count": 15,
   "metadata": {
    "id": "RxoZ6oqLuduz",
    "scrolled": true
   },
   "outputs": [
    {
     "data": {
      "text/plain": [
       "count    336187.000000\n",
       "mean          0.030668\n",
       "std           0.049827\n",
       "min           0.000000\n",
       "25%           0.005691\n",
       "50%           0.015365\n",
       "75%           0.030730\n",
       "max           1.000000\n",
       "Name: Net Amt, dtype: float64"
      ]
     },
     "execution_count": 15,
     "metadata": {},
     "output_type": "execute_result"
    }
   ],
   "source": [
    "normal['Net Amt'].describe()"
   ]
  },
  {
   "cell_type": "markdown",
   "metadata": {
    "id": "rOWNaf3rudu2"
   },
   "source": [
    "Let's have a more graphical representation:"
   ]
  },
  {
   "cell_type": "code",
   "execution_count": 17,
   "metadata": {
    "id": "Rxjc_wcmudu3"
   },
   "outputs": [
    {
     "data": {
      "image/png": "[encoded data removed]",
      "text/plain": [
       "<Figure size 1008x576 with 2 Axes>"
      ]
     },
     "metadata": {},
     "output_type": "display_data"
    }
   ],
   "source": [
    "f, (ax1, ax2) = plt.subplots(2, 1, sharex=True)\n",
    "f.suptitle('Amount per transaction by class')\n",
    "\n",
    "bins = 50\n",
    "\n",
    "ax1.hist(frauds['Net Amt'], bins = bins)\n",
    "ax1.set_title('Fraud')\n",
    "\n",
    "ax2.hist(normal['Net Amt'], bins = bins)\n",
    "ax2.set_title('Normal')\n",
    "\n",
    "plt.xlabel('Amount ($)')\n",
    "plt.ylabel('Number of Transactions')\n",
    "plt.xlim((0, 1))\n",
    "plt.yscale('log')\n",
    "plt.show();"
   ]
  },
  {
   "cell_type": "markdown",
   "metadata": {
    "id": "jPxKGhkpudu7"
   },
   "source": [
    "Do fraudulent transactions occur more often during certain time?"
   ]
  },
  {
   "cell_type": "code",
   "execution_count": 18,
   "metadata": {
    "id": "5jsyfPZ4udu8"
   },
   "outputs": [],
   "source": [
    "# f, (ax1, ax2) = plt.subplots(2, 1, sharex=True)\n",
    "# f.suptitle('Time of transaction vs Amount by class')\n",
    "\n",
    "# ax1.scatter(frauds.Time, frauds.Amount)\n",
    "# ax1.set_title('Fraud')\n",
    "\n",
    "# ax2.scatter(normal.Time, normal.Amount)\n",
    "# ax2.set_title('Normal')\n",
    "\n",
    "# plt.xlabel('Time (in Seconds)')\n",
    "# plt.ylabel('Amount')\n",
    "# plt.show()"
   ]
  },
  {
   "cell_type": "markdown",
   "metadata": {
    "id": "LVpAYrIkudvA"
   },
   "source": [
    "Doesn't seem like the time of transaction really matters.\n",
    "\n",
    "# Autoencoders\n",
    "\n",
    "Autoencoders can seem quite bizarre at first. The job of those models is to predict the input, given that same input. Puzzling? Definitely was for me, the first time I heard it.\n",
    "\n",
    "More specifically, let’s take a look at Autoencoder Neural Networks. This autoencoder tries to learn to approximate the following identity function:\n",
    "\n",
    "$$\\textstyle f_{W,b}(x) \\approx x$$\n",
    "\n",
    "While trying to do just that might sound trivial at first, it is important to note that we want to learn a compressed representation of the data, thus find structure. This can be done by limiting the number of hidden units in the model. Those kind of autoencoders are called *undercomplete*.\n",
    "\n",
    "Here's a visual representation of what an Autoencoder might learn:\n",
    "\n",
    "![](http://curiousily.com/assets/12.what_to_do_when_data_is_missing_part_ii_files/mushroom_encoder.png)\n",
    "\n",
    "## Reconstruction error\n",
    "\n",
    "We optimize the parameters of our Autoencoder model in such way that a special kind of error - reconstruction error is minimized. In practice, the traditional squared error is often used:\n",
    "\n",
    "$$\\textstyle L(x,x') = ||\\, x - x'||^2$$\n",
    "\n",
    "If you want to learn more about Autoencoders I highly recommend the following videos by Hugo Larochelle:\n",
    "\n",
    "<iframe width=\"100%\" height=\"480\" src=\"https://www.youtube.com/embed/FzS3tMl4Nsc\" frameborder=\"0\" allowfullscreen></iframe>"
   ]
  },
  {
   "cell_type": "markdown",
   "metadata": {
    "id": "4e8lKZowudvC"
   },
   "source": [
    "# Preparing the data\n",
    "\n",
    "First, let's drop the Time column (not going to use it) and use the scikit's StandardScaler on the Amount. The scaler removes the mean and scales the values to unit variance:"
   ]
  },
  {
   "cell_type": "code",
   "execution_count": 19,
   "metadata": {
    "id": "BGEafjQHudvE"
   },
   "outputs": [],
   "source": [
    "from sklearn.preprocessing import StandardScaler\n",
    "\n",
    "# data = df.drop(['Time'], axis=1)\n",
    "\n",
    "# data['Amount'] = StandardScaler().fit_transform(data['Amount'].values.reshape(-1, 1))\n",
    "\n",
    "data=df"
   ]
  },
  {
   "cell_type": "code",
   "execution_count": 20,
   "metadata": {
    "colab": {
     "base_uri": "https://localhost:8080/",
     "height": 443
    },
    "id": "wktlLG69uCJP",
    "outputId": "b22a7f33-48cd-4e8d-f3a5-0a465be9d0a4"
   },
   "outputs": [
    {
     "data": {
      "text/html": [
       "<div>\n",
       "<style scoped>\n",
       "    .dataframe tbody tr th:only-of-type {\n",
       "        vertical-align: middle;\n",
       "    }\n",
       "\n",
       "    .dataframe tbody tr th {\n",
       "        vertical-align: top;\n",
       "    }\n",
       "\n",
       "    .dataframe thead th {\n",
       "        text-align: right;\n",
       "    }\n",
       "</style>\n",
       "<table border=\"1\" class=\"dataframe\">\n",
       "  <thead>\n",
       "    <tr style=\"text-align: right;\">\n",
       "      <th></th>\n",
       "      <th>No of Days Stayed</th>\n",
       "      <th>Net Amt</th>\n",
       "      <th>settlement_delay</th>\n",
       "      <th>age</th>\n",
       "      <th>Start_year</th>\n",
       "      <th>Start_month</th>\n",
       "      <th>Start_week</th>\n",
       "      <th>Start_day</th>\n",
       "      <th>Start_dayofweek</th>\n",
       "      <th>Reported_year</th>\n",
       "      <th>...</th>\n",
       "      <th>Residence Location_PATIALA</th>\n",
       "      <th>Residence Location_RUPNAGAR</th>\n",
       "      <th>Residence Location_S.A.S Nagar</th>\n",
       "      <th>Residence Location_SANGRUR</th>\n",
       "      <th>Residence Location_SRI MUKTSAR SAHIB</th>\n",
       "      <th>Residence Location_Shahid Bhagat Singh Nagar</th>\n",
       "      <th>Residence Location_Tarn Taran</th>\n",
       "      <th>Reject status more than 3 months_0</th>\n",
       "      <th>Reject status more than 3 months_1</th>\n",
       "      <th>FraudFound</th>\n",
       "    </tr>\n",
       "  </thead>\n",
       "  <tbody>\n",
       "    <tr>\n",
       "      <th>0</th>\n",
       "      <td>0.176955</td>\n",
       "      <td>0.021340</td>\n",
       "      <td>0.386719</td>\n",
       "      <td>1.0</td>\n",
       "      <td>0.0</td>\n",
       "      <td>0.181818</td>\n",
       "      <td>0.176471</td>\n",
       "      <td>0.300000</td>\n",
       "      <td>1.000000</td>\n",
       "      <td>1.0</td>\n",
       "      <td>...</td>\n",
       "      <td>1.0</td>\n",
       "      <td>0.0</td>\n",
       "      <td>0.0</td>\n",
       "      <td>0.0</td>\n",
       "      <td>0.0</td>\n",
       "      <td>0.0</td>\n",
       "      <td>0.0</td>\n",
       "      <td>1.0</td>\n",
       "      <td>0.0</td>\n",
       "      <td>0</td>\n",
       "    </tr>\n",
       "    <tr>\n",
       "      <th>1</th>\n",
       "      <td>0.008230</td>\n",
       "      <td>0.019917</td>\n",
       "      <td>0.327148</td>\n",
       "      <td>1.0</td>\n",
       "      <td>1.0</td>\n",
       "      <td>0.454545</td>\n",
       "      <td>0.470588</td>\n",
       "      <td>0.466667</td>\n",
       "      <td>0.000000</td>\n",
       "      <td>1.0</td>\n",
       "      <td>...</td>\n",
       "      <td>0.0</td>\n",
       "      <td>0.0</td>\n",
       "      <td>0.0</td>\n",
       "      <td>1.0</td>\n",
       "      <td>0.0</td>\n",
       "      <td>0.0</td>\n",
       "      <td>0.0</td>\n",
       "      <td>1.0</td>\n",
       "      <td>0.0</td>\n",
       "      <td>0</td>\n",
       "    </tr>\n",
       "    <tr>\n",
       "      <th>2</th>\n",
       "      <td>0.004115</td>\n",
       "      <td>0.005691</td>\n",
       "      <td>0.351562</td>\n",
       "      <td>0.0</td>\n",
       "      <td>0.0</td>\n",
       "      <td>0.909091</td>\n",
       "      <td>0.921569</td>\n",
       "      <td>0.833333</td>\n",
       "      <td>0.166667</td>\n",
       "      <td>0.0</td>\n",
       "      <td>...</td>\n",
       "      <td>0.0</td>\n",
       "      <td>0.0</td>\n",
       "      <td>0.0</td>\n",
       "      <td>0.0</td>\n",
       "      <td>0.0</td>\n",
       "      <td>0.0</td>\n",
       "      <td>0.0</td>\n",
       "      <td>1.0</td>\n",
       "      <td>0.0</td>\n",
       "      <td>0</td>\n",
       "    </tr>\n",
       "    <tr>\n",
       "      <th>3</th>\n",
       "      <td>0.020576</td>\n",
       "      <td>0.019917</td>\n",
       "      <td>0.188477</td>\n",
       "      <td>1.0</td>\n",
       "      <td>1.0</td>\n",
       "      <td>0.454545</td>\n",
       "      <td>0.470588</td>\n",
       "      <td>0.666667</td>\n",
       "      <td>1.000000</td>\n",
       "      <td>1.0</td>\n",
       "      <td>...</td>\n",
       "      <td>0.0</td>\n",
       "      <td>0.0</td>\n",
       "      <td>0.0</td>\n",
       "      <td>1.0</td>\n",
       "      <td>0.0</td>\n",
       "      <td>0.0</td>\n",
       "      <td>0.0</td>\n",
       "      <td>1.0</td>\n",
       "      <td>0.0</td>\n",
       "      <td>0</td>\n",
       "    </tr>\n",
       "    <tr>\n",
       "      <th>4</th>\n",
       "      <td>0.004115</td>\n",
       "      <td>0.021340</td>\n",
       "      <td>0.354492</td>\n",
       "      <td>1.0</td>\n",
       "      <td>1.0</td>\n",
       "      <td>0.000000</td>\n",
       "      <td>0.058824</td>\n",
       "      <td>0.633333</td>\n",
       "      <td>0.000000</td>\n",
       "      <td>1.0</td>\n",
       "      <td>...</td>\n",
       "      <td>0.0</td>\n",
       "      <td>0.0</td>\n",
       "      <td>0.0</td>\n",
       "      <td>0.0</td>\n",
       "      <td>0.0</td>\n",
       "      <td>0.0</td>\n",
       "      <td>0.0</td>\n",
       "      <td>1.0</td>\n",
       "      <td>0.0</td>\n",
       "      <td>0</td>\n",
       "    </tr>\n",
       "    <tr>\n",
       "      <th>...</th>\n",
       "      <td>...</td>\n",
       "      <td>...</td>\n",
       "      <td>...</td>\n",
       "      <td>...</td>\n",
       "      <td>...</td>\n",
       "      <td>...</td>\n",
       "      <td>...</td>\n",
       "      <td>...</td>\n",
       "      <td>...</td>\n",
       "      <td>...</td>\n",
       "      <td>...</td>\n",
       "      <td>...</td>\n",
       "      <td>...</td>\n",
       "      <td>...</td>\n",
       "      <td>...</td>\n",
       "      <td>...</td>\n",
       "      <td>...</td>\n",
       "      <td>...</td>\n",
       "      <td>...</td>\n",
       "      <td>...</td>\n",
       "      <td>...</td>\n",
       "    </tr>\n",
       "    <tr>\n",
       "      <th>382582</th>\n",
       "      <td>0.004115</td>\n",
       "      <td>0.021340</td>\n",
       "      <td>0.140625</td>\n",
       "      <td>0.0</td>\n",
       "      <td>0.0</td>\n",
       "      <td>0.818182</td>\n",
       "      <td>0.803922</td>\n",
       "      <td>0.433333</td>\n",
       "      <td>0.000000</td>\n",
       "      <td>0.0</td>\n",
       "      <td>...</td>\n",
       "      <td>0.0</td>\n",
       "      <td>0.0</td>\n",
       "      <td>0.0</td>\n",
       "      <td>0.0</td>\n",
       "      <td>0.0</td>\n",
       "      <td>0.0</td>\n",
       "      <td>0.0</td>\n",
       "      <td>1.0</td>\n",
       "      <td>0.0</td>\n",
       "      <td>0</td>\n",
       "    </tr>\n",
       "    <tr>\n",
       "      <th>382583</th>\n",
       "      <td>0.016461</td>\n",
       "      <td>0.035851</td>\n",
       "      <td>0.222656</td>\n",
       "      <td>1.0</td>\n",
       "      <td>1.0</td>\n",
       "      <td>0.000000</td>\n",
       "      <td>0.078431</td>\n",
       "      <td>1.000000</td>\n",
       "      <td>0.666667</td>\n",
       "      <td>1.0</td>\n",
       "      <td>...</td>\n",
       "      <td>0.0</td>\n",
       "      <td>0.0</td>\n",
       "      <td>0.0</td>\n",
       "      <td>0.0</td>\n",
       "      <td>0.0</td>\n",
       "      <td>0.0</td>\n",
       "      <td>0.0</td>\n",
       "      <td>1.0</td>\n",
       "      <td>0.0</td>\n",
       "      <td>0</td>\n",
       "    </tr>\n",
       "    <tr>\n",
       "      <th>382584</th>\n",
       "      <td>0.000000</td>\n",
       "      <td>0.002845</td>\n",
       "      <td>0.623047</td>\n",
       "      <td>0.0</td>\n",
       "      <td>0.0</td>\n",
       "      <td>0.818182</td>\n",
       "      <td>0.843137</td>\n",
       "      <td>1.000000</td>\n",
       "      <td>0.500000</td>\n",
       "      <td>0.0</td>\n",
       "      <td>...</td>\n",
       "      <td>1.0</td>\n",
       "      <td>0.0</td>\n",
       "      <td>0.0</td>\n",
       "      <td>0.0</td>\n",
       "      <td>0.0</td>\n",
       "      <td>0.0</td>\n",
       "      <td>0.0</td>\n",
       "      <td>1.0</td>\n",
       "      <td>0.0</td>\n",
       "      <td>0</td>\n",
       "    </tr>\n",
       "    <tr>\n",
       "      <th>382585</th>\n",
       "      <td>0.024691</td>\n",
       "      <td>0.068289</td>\n",
       "      <td>0.332031</td>\n",
       "      <td>1.0</td>\n",
       "      <td>1.0</td>\n",
       "      <td>0.727273</td>\n",
       "      <td>0.705882</td>\n",
       "      <td>0.200000</td>\n",
       "      <td>0.000000</td>\n",
       "      <td>1.0</td>\n",
       "      <td>...</td>\n",
       "      <td>0.0</td>\n",
       "      <td>0.0</td>\n",
       "      <td>0.0</td>\n",
       "      <td>0.0</td>\n",
       "      <td>0.0</td>\n",
       "      <td>0.0</td>\n",
       "      <td>0.0</td>\n",
       "      <td>1.0</td>\n",
       "      <td>0.0</td>\n",
       "      <td>0</td>\n",
       "    </tr>\n",
       "    <tr>\n",
       "      <th>382586</th>\n",
       "      <td>0.008230</td>\n",
       "      <td>0.005122</td>\n",
       "      <td>0.134766</td>\n",
       "      <td>0.0</td>\n",
       "      <td>0.0</td>\n",
       "      <td>0.727273</td>\n",
       "      <td>0.725490</td>\n",
       "      <td>0.533333</td>\n",
       "      <td>0.166667</td>\n",
       "      <td>0.0</td>\n",
       "      <td>...</td>\n",
       "      <td>0.0</td>\n",
       "      <td>0.0</td>\n",
       "      <td>0.0</td>\n",
       "      <td>0.0</td>\n",
       "      <td>0.0</td>\n",
       "      <td>0.0</td>\n",
       "      <td>0.0</td>\n",
       "      <td>1.0</td>\n",
       "      <td>0.0</td>\n",
       "      <td>0</td>\n",
       "    </tr>\n",
       "  </tbody>\n",
       "</table>\n",
       "<p>382587 rows × 99 columns</p>\n",
       "</div>"
      ],
      "text/plain": [
       "        No of Days Stayed   Net Amt  settlement_delay  age  Start_year  \\\n",
       "0                0.176955  0.021340          0.386719  1.0         0.0   \n",
       "1                0.008230  0.019917          0.327148  1.0         1.0   \n",
       "2                0.004115  0.005691          0.351562  0.0         0.0   \n",
       "3                0.020576  0.019917          0.188477  1.0         1.0   \n",
       "4                0.004115  0.021340          0.354492  1.0         1.0   \n",
       "...                   ...       ...               ...  ...         ...   \n",
       "382582           0.004115  0.021340          0.140625  0.0         0.0   \n",
       "382583           0.016461  0.035851          0.222656  1.0         1.0   \n",
       "382584           0.000000  0.002845          0.623047  0.0         0.0   \n",
       "382585           0.024691  0.068289          0.332031  1.0         1.0   \n",
       "382586           0.008230  0.005122          0.134766  0.0         0.0   \n",
       "\n",
       "        Start_month  Start_week  Start_day  Start_dayofweek  Reported_year  \\\n",
       "0          0.181818    0.176471   0.300000         1.000000            1.0   \n",
       "1          0.454545    0.470588   0.466667         0.000000            1.0   \n",
       "2          0.909091    0.921569   0.833333         0.166667            0.0   \n",
       "3          0.454545    0.470588   0.666667         1.000000            1.0   \n",
       "4          0.000000    0.058824   0.633333         0.000000            1.0   \n",
       "...             ...         ...        ...              ...            ...   \n",
       "382582     0.818182    0.803922   0.433333         0.000000            0.0   \n",
       "382583     0.000000    0.078431   1.000000         0.666667            1.0   \n",
       "382584     0.818182    0.843137   1.000000         0.500000            0.0   \n",
       "382585     0.727273    0.705882   0.200000         0.000000            1.0   \n",
       "382586     0.727273    0.725490   0.533333         0.166667            0.0   \n",
       "\n",
       "        ...  Residence Location_PATIALA  Residence Location_RUPNAGAR  \\\n",
       "0       ...                         1.0                          0.0   \n",
       "1       ...                         0.0                          0.0   \n",
       "2       ...                         0.0                          0.0   \n",
       "3       ...                         0.0                          0.0   \n",
       "4       ...                         0.0                          0.0   \n",
       "...     ...                         ...                          ...   \n",
       "382582  ...                         0.0                          0.0   \n",
       "382583  ...                         0.0                          0.0   \n",
       "382584  ...                         1.0                          0.0   \n",
       "382585  ...                         0.0                          0.0   \n",
       "382586  ...                         0.0                          0.0   \n",
       "\n",
       "        Residence Location_S.A.S Nagar  Residence Location_SANGRUR  \\\n",
       "0                                  0.0                         0.0   \n",
       "1                                  0.0                         1.0   \n",
       "2                                  0.0                         0.0   \n",
       "3                                  0.0                         1.0   \n",
       "4                                  0.0                         0.0   \n",
       "...                                ...                         ...   \n",
       "382582                             0.0                         0.0   \n",
       "382583                             0.0                         0.0   \n",
       "382584                             0.0                         0.0   \n",
       "382585                             0.0                         0.0   \n",
       "382586                             0.0                         0.0   \n",
       "\n",
       "        Residence Location_SRI MUKTSAR SAHIB  \\\n",
       "0                                        0.0   \n",
       "1                                        0.0   \n",
       "2                                        0.0   \n",
       "3                                        0.0   \n",
       "4                                        0.0   \n",
       "...                                      ...   \n",
       "382582                                   0.0   \n",
       "382583                                   0.0   \n",
       "382584                                   0.0   \n",
       "382585                                   0.0   \n",
       "382586                                   0.0   \n",
       "\n",
       "        Residence Location_Shahid Bhagat Singh Nagar  \\\n",
       "0                                                0.0   \n",
       "1                                                0.0   \n",
       "2                                                0.0   \n",
       "3                                                0.0   \n",
       "4                                                0.0   \n",
       "...                                              ...   \n",
       "382582                                           0.0   \n",
       "382583                                           0.0   \n",
       "382584                                           0.0   \n",
       "382585                                           0.0   \n",
       "382586                                           0.0   \n",
       "\n",
       "        Residence Location_Tarn Taran  Reject status more than 3 months_0  \\\n",
       "0                                 0.0                                 1.0   \n",
       "1                                 0.0                                 1.0   \n",
       "2                                 0.0                                 1.0   \n",
       "3                                 0.0                                 1.0   \n",
       "4                                 0.0                                 1.0   \n",
       "...                               ...                                 ...   \n",
       "382582                            0.0                                 1.0   \n",
       "382583                            0.0                                 1.0   \n",
       "382584                            0.0                                 1.0   \n",
       "382585                            0.0                                 1.0   \n",
       "382586                            0.0                                 1.0   \n",
       "\n",
       "        Reject status more than 3 months_1  FraudFound  \n",
       "0                                      0.0           0  \n",
       "1                                      0.0           0  \n",
       "2                                      0.0           0  \n",
       "3                                      0.0           0  \n",
       "4                                      0.0           0  \n",
       "...                                    ...         ...  \n",
       "382582                                 0.0           0  \n",
       "382583                                 0.0           0  \n",
       "382584                                 0.0           0  \n",
       "382585                                 0.0           0  \n",
       "382586                                 0.0           0  \n",
       "\n",
       "[382587 rows x 99 columns]"
      ]
     },
     "execution_count": 20,
     "metadata": {},
     "output_type": "execute_result"
    }
   ],
   "source": [
    "data"
   ]
  },
  {
   "cell_type": "code",
   "execution_count": 21,
   "metadata": {
    "id": "sklmOdLUvQ1J"
   },
   "outputs": [],
   "source": [
    "# data = data.replace({'FraudFound': {'No': 0, 'Yes': 1}})"
   ]
  },
  {
   "cell_type": "markdown",
   "metadata": {
    "id": "TOFqOfyoudvK"
   },
   "source": [
    "Training our Autoencoder is gonna be a bit different from what we are used to. Let's say you have a dataset containing a lot of non fraudulent transactions at hand. You want to detect any anomaly on new transactions. We will create this situation by training our model on the normal transactions, only. Reserving the correct class on the test set will give us a way to evaluate the performance of our model. We will reserve 20% of our data for testing:"
   ]
  },
  {
   "cell_type": "code",
   "execution_count": 22,
   "metadata": {
    "colab": {
     "base_uri": "https://localhost:8080/",
     "height": 443
    },
    "id": "loTMyQHWvVAD",
    "outputId": "b7b27861-b5fd-4c29-d00f-7f1703ce53fe"
   },
   "outputs": [
    {
     "data": {
      "text/html": [
       "<div>\n",
       "<style scoped>\n",
       "    .dataframe tbody tr th:only-of-type {\n",
       "        vertical-align: middle;\n",
       "    }\n",
       "\n",
       "    .dataframe tbody tr th {\n",
       "        vertical-align: top;\n",
       "    }\n",
       "\n",
       "    .dataframe thead th {\n",
       "        text-align: right;\n",
       "    }\n",
       "</style>\n",
       "<table border=\"1\" class=\"dataframe\">\n",
       "  <thead>\n",
       "    <tr style=\"text-align: right;\">\n",
       "      <th></th>\n",
       "      <th>No of Days Stayed</th>\n",
       "      <th>Net Amt</th>\n",
       "      <th>settlement_delay</th>\n",
       "      <th>age</th>\n",
       "      <th>Start_year</th>\n",
       "      <th>Start_month</th>\n",
       "      <th>Start_week</th>\n",
       "      <th>Start_day</th>\n",
       "      <th>Start_dayofweek</th>\n",
       "      <th>Reported_year</th>\n",
       "      <th>...</th>\n",
       "      <th>Residence Location_PATIALA</th>\n",
       "      <th>Residence Location_RUPNAGAR</th>\n",
       "      <th>Residence Location_S.A.S Nagar</th>\n",
       "      <th>Residence Location_SANGRUR</th>\n",
       "      <th>Residence Location_SRI MUKTSAR SAHIB</th>\n",
       "      <th>Residence Location_Shahid Bhagat Singh Nagar</th>\n",
       "      <th>Residence Location_Tarn Taran</th>\n",
       "      <th>Reject status more than 3 months_0</th>\n",
       "      <th>Reject status more than 3 months_1</th>\n",
       "      <th>FraudFound</th>\n",
       "    </tr>\n",
       "  </thead>\n",
       "  <tbody>\n",
       "    <tr>\n",
       "      <th>0</th>\n",
       "      <td>0.176955</td>\n",
       "      <td>0.021340</td>\n",
       "      <td>0.386719</td>\n",
       "      <td>1.0</td>\n",
       "      <td>0.0</td>\n",
       "      <td>0.181818</td>\n",
       "      <td>0.176471</td>\n",
       "      <td>0.300000</td>\n",
       "      <td>1.000000</td>\n",
       "      <td>1.0</td>\n",
       "      <td>...</td>\n",
       "      <td>1.0</td>\n",
       "      <td>0.0</td>\n",
       "      <td>0.0</td>\n",
       "      <td>0.0</td>\n",
       "      <td>0.0</td>\n",
       "      <td>0.0</td>\n",
       "      <td>0.0</td>\n",
       "      <td>1.0</td>\n",
       "      <td>0.0</td>\n",
       "      <td>0</td>\n",
       "    </tr>\n",
       "    <tr>\n",
       "      <th>1</th>\n",
       "      <td>0.008230</td>\n",
       "      <td>0.019917</td>\n",
       "      <td>0.327148</td>\n",
       "      <td>1.0</td>\n",
       "      <td>1.0</td>\n",
       "      <td>0.454545</td>\n",
       "      <td>0.470588</td>\n",
       "      <td>0.466667</td>\n",
       "      <td>0.000000</td>\n",
       "      <td>1.0</td>\n",
       "      <td>...</td>\n",
       "      <td>0.0</td>\n",
       "      <td>0.0</td>\n",
       "      <td>0.0</td>\n",
       "      <td>1.0</td>\n",
       "      <td>0.0</td>\n",
       "      <td>0.0</td>\n",
       "      <td>0.0</td>\n",
       "      <td>1.0</td>\n",
       "      <td>0.0</td>\n",
       "      <td>0</td>\n",
       "    </tr>\n",
       "    <tr>\n",
       "      <th>2</th>\n",
       "      <td>0.004115</td>\n",
       "      <td>0.005691</td>\n",
       "      <td>0.351562</td>\n",
       "      <td>0.0</td>\n",
       "      <td>0.0</td>\n",
       "      <td>0.909091</td>\n",
       "      <td>0.921569</td>\n",
       "      <td>0.833333</td>\n",
       "      <td>0.166667</td>\n",
       "      <td>0.0</td>\n",
       "      <td>...</td>\n",
       "      <td>0.0</td>\n",
       "      <td>0.0</td>\n",
       "      <td>0.0</td>\n",
       "      <td>0.0</td>\n",
       "      <td>0.0</td>\n",
       "      <td>0.0</td>\n",
       "      <td>0.0</td>\n",
       "      <td>1.0</td>\n",
       "      <td>0.0</td>\n",
       "      <td>0</td>\n",
       "    </tr>\n",
       "    <tr>\n",
       "      <th>3</th>\n",
       "      <td>0.020576</td>\n",
       "      <td>0.019917</td>\n",
       "      <td>0.188477</td>\n",
       "      <td>1.0</td>\n",
       "      <td>1.0</td>\n",
       "      <td>0.454545</td>\n",
       "      <td>0.470588</td>\n",
       "      <td>0.666667</td>\n",
       "      <td>1.000000</td>\n",
       "      <td>1.0</td>\n",
       "      <td>...</td>\n",
       "      <td>0.0</td>\n",
       "      <td>0.0</td>\n",
       "      <td>0.0</td>\n",
       "      <td>1.0</td>\n",
       "      <td>0.0</td>\n",
       "      <td>0.0</td>\n",
       "      <td>0.0</td>\n",
       "      <td>1.0</td>\n",
       "      <td>0.0</td>\n",
       "      <td>0</td>\n",
       "    </tr>\n",
       "    <tr>\n",
       "      <th>4</th>\n",
       "      <td>0.004115</td>\n",
       "      <td>0.021340</td>\n",
       "      <td>0.354492</td>\n",
       "      <td>1.0</td>\n",
       "      <td>1.0</td>\n",
       "      <td>0.000000</td>\n",
       "      <td>0.058824</td>\n",
       "      <td>0.633333</td>\n",
       "      <td>0.000000</td>\n",
       "      <td>1.0</td>\n",
       "      <td>...</td>\n",
       "      <td>0.0</td>\n",
       "      <td>0.0</td>\n",
       "      <td>0.0</td>\n",
       "      <td>0.0</td>\n",
       "      <td>0.0</td>\n",
       "      <td>0.0</td>\n",
       "      <td>0.0</td>\n",
       "      <td>1.0</td>\n",
       "      <td>0.0</td>\n",
       "      <td>0</td>\n",
       "    </tr>\n",
       "    <tr>\n",
       "      <th>...</th>\n",
       "      <td>...</td>\n",
       "      <td>...</td>\n",
       "      <td>...</td>\n",
       "      <td>...</td>\n",
       "      <td>...</td>\n",
       "      <td>...</td>\n",
       "      <td>...</td>\n",
       "      <td>...</td>\n",
       "      <td>...</td>\n",
       "      <td>...</td>\n",
       "      <td>...</td>\n",
       "      <td>...</td>\n",
       "      <td>...</td>\n",
       "      <td>...</td>\n",
       "      <td>...</td>\n",
       "      <td>...</td>\n",
       "      <td>...</td>\n",
       "      <td>...</td>\n",
       "      <td>...</td>\n",
       "      <td>...</td>\n",
       "      <td>...</td>\n",
       "    </tr>\n",
       "    <tr>\n",
       "      <th>382582</th>\n",
       "      <td>0.004115</td>\n",
       "      <td>0.021340</td>\n",
       "      <td>0.140625</td>\n",
       "      <td>0.0</td>\n",
       "      <td>0.0</td>\n",
       "      <td>0.818182</td>\n",
       "      <td>0.803922</td>\n",
       "      <td>0.433333</td>\n",
       "      <td>0.000000</td>\n",
       "      <td>0.0</td>\n",
       "      <td>...</td>\n",
       "      <td>0.0</td>\n",
       "      <td>0.0</td>\n",
       "      <td>0.0</td>\n",
       "      <td>0.0</td>\n",
       "      <td>0.0</td>\n",
       "      <td>0.0</td>\n",
       "      <td>0.0</td>\n",
       "      <td>1.0</td>\n",
       "      <td>0.0</td>\n",
       "      <td>0</td>\n",
       "    </tr>\n",
       "    <tr>\n",
       "      <th>382583</th>\n",
       "      <td>0.016461</td>\n",
       "      <td>0.035851</td>\n",
       "      <td>0.222656</td>\n",
       "      <td>1.0</td>\n",
       "      <td>1.0</td>\n",
       "      <td>0.000000</td>\n",
       "      <td>0.078431</td>\n",
       "      <td>1.000000</td>\n",
       "      <td>0.666667</td>\n",
       "      <td>1.0</td>\n",
       "      <td>...</td>\n",
       "      <td>0.0</td>\n",
       "      <td>0.0</td>\n",
       "      <td>0.0</td>\n",
       "      <td>0.0</td>\n",
       "      <td>0.0</td>\n",
       "      <td>0.0</td>\n",
       "      <td>0.0</td>\n",
       "      <td>1.0</td>\n",
       "      <td>0.0</td>\n",
       "      <td>0</td>\n",
       "    </tr>\n",
       "    <tr>\n",
       "      <th>382584</th>\n",
       "      <td>0.000000</td>\n",
       "      <td>0.002845</td>\n",
       "      <td>0.623047</td>\n",
       "      <td>0.0</td>\n",
       "      <td>0.0</td>\n",
       "      <td>0.818182</td>\n",
       "      <td>0.843137</td>\n",
       "      <td>1.000000</td>\n",
       "      <td>0.500000</td>\n",
       "      <td>0.0</td>\n",
       "      <td>...</td>\n",
       "      <td>1.0</td>\n",
       "      <td>0.0</td>\n",
       "      <td>0.0</td>\n",
       "      <td>0.0</td>\n",
       "      <td>0.0</td>\n",
       "      <td>0.0</td>\n",
       "      <td>0.0</td>\n",
       "      <td>1.0</td>\n",
       "      <td>0.0</td>\n",
       "      <td>0</td>\n",
       "    </tr>\n",
       "    <tr>\n",
       "      <th>382585</th>\n",
       "      <td>0.024691</td>\n",
       "      <td>0.068289</td>\n",
       "      <td>0.332031</td>\n",
       "      <td>1.0</td>\n",
       "      <td>1.0</td>\n",
       "      <td>0.727273</td>\n",
       "      <td>0.705882</td>\n",
       "      <td>0.200000</td>\n",
       "      <td>0.000000</td>\n",
       "      <td>1.0</td>\n",
       "      <td>...</td>\n",
       "      <td>0.0</td>\n",
       "      <td>0.0</td>\n",
       "      <td>0.0</td>\n",
       "      <td>0.0</td>\n",
       "      <td>0.0</td>\n",
       "      <td>0.0</td>\n",
       "      <td>0.0</td>\n",
       "      <td>1.0</td>\n",
       "      <td>0.0</td>\n",
       "      <td>0</td>\n",
       "    </tr>\n",
       "    <tr>\n",
       "      <th>382586</th>\n",
       "      <td>0.008230</td>\n",
       "      <td>0.005122</td>\n",
       "      <td>0.134766</td>\n",
       "      <td>0.0</td>\n",
       "      <td>0.0</td>\n",
       "      <td>0.727273</td>\n",
       "      <td>0.725490</td>\n",
       "      <td>0.533333</td>\n",
       "      <td>0.166667</td>\n",
       "      <td>0.0</td>\n",
       "      <td>...</td>\n",
       "      <td>0.0</td>\n",
       "      <td>0.0</td>\n",
       "      <td>0.0</td>\n",
       "      <td>0.0</td>\n",
       "      <td>0.0</td>\n",
       "      <td>0.0</td>\n",
       "      <td>0.0</td>\n",
       "      <td>1.0</td>\n",
       "      <td>0.0</td>\n",
       "      <td>0</td>\n",
       "    </tr>\n",
       "  </tbody>\n",
       "</table>\n",
       "<p>382587 rows × 99 columns</p>\n",
       "</div>"
      ],
      "text/plain": [
       "        No of Days Stayed   Net Amt  settlement_delay  age  Start_year  \\\n",
       "0                0.176955  0.021340          0.386719  1.0         0.0   \n",
       "1                0.008230  0.019917          0.327148  1.0         1.0   \n",
       "2                0.004115  0.005691          0.351562  0.0         0.0   \n",
       "3                0.020576  0.019917          0.188477  1.0         1.0   \n",
       "4                0.004115  0.021340          0.354492  1.0         1.0   \n",
       "...                   ...       ...               ...  ...         ...   \n",
       "382582           0.004115  0.021340          0.140625  0.0         0.0   \n",
       "382583           0.016461  0.035851          0.222656  1.0         1.0   \n",
       "382584           0.000000  0.002845          0.623047  0.0         0.0   \n",
       "382585           0.024691  0.068289          0.332031  1.0         1.0   \n",
       "382586           0.008230  0.005122          0.134766  0.0         0.0   \n",
       "\n",
       "        Start_month  Start_week  Start_day  Start_dayofweek  Reported_year  \\\n",
       "0          0.181818    0.176471   0.300000         1.000000            1.0   \n",
       "1          0.454545    0.470588   0.466667         0.000000            1.0   \n",
       "2          0.909091    0.921569   0.833333         0.166667            0.0   \n",
       "3          0.454545    0.470588   0.666667         1.000000            1.0   \n",
       "4          0.000000    0.058824   0.633333         0.000000            1.0   \n",
       "...             ...         ...        ...              ...            ...   \n",
       "382582     0.818182    0.803922   0.433333         0.000000            0.0   \n",
       "382583     0.000000    0.078431   1.000000         0.666667            1.0   \n",
       "382584     0.818182    0.843137   1.000000         0.500000            0.0   \n",
       "382585     0.727273    0.705882   0.200000         0.000000            1.0   \n",
       "382586     0.727273    0.725490   0.533333         0.166667            0.0   \n",
       "\n",
       "        ...  Residence Location_PATIALA  Residence Location_RUPNAGAR  \\\n",
       "0       ...                         1.0                          0.0   \n",
       "1       ...                         0.0                          0.0   \n",
       "2       ...                         0.0                          0.0   \n",
       "3       ...                         0.0                          0.0   \n",
       "4       ...                         0.0                          0.0   \n",
       "...     ...                         ...                          ...   \n",
       "382582  ...                         0.0                          0.0   \n",
       "382583  ...                         0.0                          0.0   \n",
       "382584  ...                         1.0                          0.0   \n",
       "382585  ...                         0.0                          0.0   \n",
       "382586  ...                         0.0                          0.0   \n",
       "\n",
       "        Residence Location_S.A.S Nagar  Residence Location_SANGRUR  \\\n",
       "0                                  0.0                         0.0   \n",
       "1                                  0.0                         1.0   \n",
       "2                                  0.0                         0.0   \n",
       "3                                  0.0                         1.0   \n",
       "4                                  0.0                         0.0   \n",
       "...                                ...                         ...   \n",
       "382582                             0.0                         0.0   \n",
       "382583                             0.0                         0.0   \n",
       "382584                             0.0                         0.0   \n",
       "382585                             0.0                         0.0   \n",
       "382586                             0.0                         0.0   \n",
       "\n",
       "        Residence Location_SRI MUKTSAR SAHIB  \\\n",
       "0                                        0.0   \n",
       "1                                        0.0   \n",
       "2                                        0.0   \n",
       "3                                        0.0   \n",
       "4                                        0.0   \n",
       "...                                      ...   \n",
       "382582                                   0.0   \n",
       "382583                                   0.0   \n",
       "382584                                   0.0   \n",
       "382585                                   0.0   \n",
       "382586                                   0.0   \n",
       "\n",
       "        Residence Location_Shahid Bhagat Singh Nagar  \\\n",
       "0                                                0.0   \n",
       "1                                                0.0   \n",
       "2                                                0.0   \n",
       "3                                                0.0   \n",
       "4                                                0.0   \n",
       "...                                              ...   \n",
       "382582                                           0.0   \n",
       "382583                                           0.0   \n",
       "382584                                           0.0   \n",
       "382585                                           0.0   \n",
       "382586                                           0.0   \n",
       "\n",
       "        Residence Location_Tarn Taran  Reject status more than 3 months_0  \\\n",
       "0                                 0.0                                 1.0   \n",
       "1                                 0.0                                 1.0   \n",
       "2                                 0.0                                 1.0   \n",
       "3                                 0.0                                 1.0   \n",
       "4                                 0.0                                 1.0   \n",
       "...                               ...                                 ...   \n",
       "382582                            0.0                                 1.0   \n",
       "382583                            0.0                                 1.0   \n",
       "382584                            0.0                                 1.0   \n",
       "382585                            0.0                                 1.0   \n",
       "382586                            0.0                                 1.0   \n",
       "\n",
       "        Reject status more than 3 months_1  FraudFound  \n",
       "0                                      0.0           0  \n",
       "1                                      0.0           0  \n",
       "2                                      0.0           0  \n",
       "3                                      0.0           0  \n",
       "4                                      0.0           0  \n",
       "...                                    ...         ...  \n",
       "382582                                 0.0           0  \n",
       "382583                                 0.0           0  \n",
       "382584                                 0.0           0  \n",
       "382585                                 0.0           0  \n",
       "382586                                 0.0           0  \n",
       "\n",
       "[382587 rows x 99 columns]"
      ]
     },
     "execution_count": 22,
     "metadata": {},
     "output_type": "execute_result"
    }
   ],
   "source": [
    "data"
   ]
  },
  {
   "cell_type": "code",
   "execution_count": 23,
   "metadata": {
    "id": "gRmeNXmDudvM"
   },
   "outputs": [],
   "source": [
    "X_train, X_test = train_test_split(data, test_size=0.2, random_state=RANDOM_SEED)\n",
    "X_train = X_train[X_train.FraudFound == 0]\n",
    "X_train = X_train.drop(['FraudFound'], axis=1)\n",
    "\n",
    "y_test = X_test['FraudFound']\n",
    "X_test = X_test.drop(['FraudFound'], axis=1)\n",
    "\n",
    "X_train = X_train.values\n",
    "X_test = X_test.values"
   ]
  },
  {
   "cell_type": "code",
   "execution_count": 24,
   "metadata": {
    "colab": {
     "base_uri": "https://localhost:8080/",
     "height": 34
    },
    "id": "OV88zkrgudvP",
    "outputId": "2a532de5-82ac-4609-f482-35d7582c1c2c"
   },
   "outputs": [
    {
     "data": {
      "text/plain": [
       "(268925, 98)"
      ]
     },
     "execution_count": 24,
     "metadata": {},
     "output_type": "execute_result"
    }
   ],
   "source": [
    "X_train.shape"
   ]
  },
  {
   "cell_type": "markdown",
   "metadata": {
    "id": "IZJDXugDudvV"
   },
   "source": [
    "# Building the model\n",
    "\n"
   ]
  },
  {
   "cell_type": "code",
   "execution_count": 25,
   "metadata": {
    "colab": {
     "base_uri": "https://localhost:8080/",
     "height": 34
    },
    "id": "kyBHAsaPudvZ",
    "outputId": "4b9cd9c0-6edc-4c59-9cfa-aa85115b53a1"
   },
   "outputs": [
    {
     "name": "stdout",
     "output_type": "stream",
     "text": [
      "98\n"
     ]
    }
   ],
   "source": [
    "input_dim = X_train.shape[1]\n",
    "encoding_dim = 140\n",
    "print(input_dim)"
   ]
  },
  {
   "cell_type": "code",
   "execution_count": 26,
   "metadata": {
    "id": "r8cKwTekudvf"
   },
   "outputs": [
    {
     "name": "stdout",
     "output_type": "stream",
     "text": [
      "WARNING:tensorflow:From C:\\Users\\Owner\\AppData\\Roaming\\Python\\Python37\\site-packages\\tensorflow_core\\python\\ops\\resource_variable_ops.py:1630: calling BaseResourceVariable.__init__ (from tensorflow.python.ops.resource_variable_ops) with constraint is deprecated and will be removed in a future version.\n",
      "Instructions for updating:\n",
      "If using Keras pass *_constraint arguments to layers.\n"
     ]
    }
   ],
   "source": [
    "input_layer = Input(shape=(input_dim, ), name = \"InputLayer\")\n",
    "\n",
    "encoder = Dense(encoding_dim, activation=\"tanh\", \n",
    "                activity_regularizer=regularizers.l2(10e-5), name = \"encoder\")(input_layer)\n",
    "# encoder = Dense(int(encoding_dim / 2), activation=\"relu\", name = \"hidden\")(encoder)\n",
    "\n",
    "# decoder = Dense(int(encoding_dim / 2), activation='tanh', name = \"decoder1\")(encoder)\n",
    "# decoder = Dense(int(encoding_dim), activation='tanh', name = \"decoder\")(encoder)\n",
    "# decoder = Dense(input_dim, activation='relu', name = \"output\")(decoder)\n",
    "decoder = Dense(input_dim, activation='relu')(encoder)\n",
    "autoencoder = Model(inputs=input_layer, outputs=decoder)"
   ]
  },
  {
   "cell_type": "code",
   "execution_count": 27,
   "metadata": {
    "colab": {
     "base_uri": "https://localhost:8080/",
     "height": 265
    },
    "id": "dFru-9FJHuCW",
    "outputId": "fb880a9b-c9a8-43ab-fc04-ca46a6f18650"
   },
   "outputs": [
    {
     "name": "stdout",
     "output_type": "stream",
     "text": [
      "Model: \"model_1\"\n",
      "_________________________________________________________________\n",
      "Layer (type)                 Output Shape              Param #   \n",
      "=================================================================\n",
      "InputLayer (InputLayer)      (None, 98)                0         \n",
      "_________________________________________________________________\n",
      "encoder (Dense)              (None, 140)               13860     \n",
      "_________________________________________________________________\n",
      "dense_1 (Dense)              (None, 98)                13818     \n",
      "=================================================================\n",
      "Total params: 27,678\n",
      "Trainable params: 27,678\n",
      "Non-trainable params: 0\n",
      "_________________________________________________________________\n"
     ]
    }
   ],
   "source": [
    "autoencoder.summary()"
   ]
  },
  {
   "cell_type": "markdown",
   "metadata": {
    "id": "Nan5uyVwudvi"
   },
   "source": [
    "Let's train our model for 40 epochs with a batch size of 32 samples and save the best performing model to a file. The ModelCheckpoint provided by Keras is really handy for such tasks. Additionally,  the training progress will be exported in a format that TensorBoard understands."
   ]
  },
  {
   "cell_type": "code",
   "execution_count": 29,
   "metadata": {
    "colab": {
     "base_uri": "https://localhost:8080/",
     "height": 1000
    },
    "id": "lZd1wshZudvj",
    "outputId": "758f659e-778f-407d-efdb-fa817398bfe8"
   },
   "outputs": [
    {
     "name": "stdout",
     "output_type": "stream",
     "text": [
      "Train on 268925 samples, validate on 76518 samples\n",
      "Epoch 1/40\n",
      "268925/268925 [==============================] - 24s 89us/step - loss: 0.0010 - accuracy: 0.0692 - val_loss: 0.0556 - val_accuracy: 0.0331\n",
      "Epoch 2/40\n",
      "268925/268925 [==============================] - 20s 74us/step - loss: 9.9375e-04 - accuracy: 0.0719 - val_loss: 0.0604 - val_accuracy: 0.1003\n",
      "Epoch 3/40\n",
      "268925/268925 [==============================] - 20s 73us/step - loss: 9.7782e-04 - accuracy: 0.0690 - val_loss: 0.0642 - val_accuracy: 0.0267\n",
      "Epoch 4/40\n",
      "268925/268925 [==============================] - 21s 79us/step - loss: 9.6919e-04 - accuracy: 0.0710 - val_loss: 0.0664 - val_accuracy: 0.0433\n",
      "Epoch 5/40\n",
      "268925/268925 [==============================] - 20s 76us/step - loss: 9.5948e-04 - accuracy: 0.0724 - val_loss: 0.0690 - val_accuracy: 0.0376\n",
      "Epoch 6/40\n",
      "268925/268925 [==============================] - 21s 78us/step - loss: 9.4844e-04 - accuracy: 0.0704 - val_loss: 0.0720 - val_accuracy: 0.0343\n",
      "Epoch 7/40\n",
      "268925/268925 [==============================] - 19s 70us/step - loss: 9.4223e-04 - accuracy: 0.0691 - val_loss: 0.0743 - val_accuracy: 0.3182\n",
      "Epoch 8/40\n",
      "268925/268925 [==============================] - 22s 82us/step - loss: 9.3485e-04 - accuracy: 0.0719 - val_loss: 0.0764 - val_accuracy: 0.0677\n",
      "Epoch 9/40\n",
      "268925/268925 [==============================] - 22s 83us/step - loss: 9.3012e-04 - accuracy: 0.0679 - val_loss: 0.0761 - val_accuracy: 0.0313\n",
      "Epoch 10/40\n",
      "268925/268925 [==============================] - 20s 73us/step - loss: 9.2578e-04 - accuracy: 0.0697 - val_loss: 0.0773 - val_accuracy: 0.1174\n",
      "Epoch 11/40\n",
      "268925/268925 [==============================] - 20s 73us/step - loss: 9.2050e-04 - accuracy: 0.0695 - val_loss: 0.0795 - val_accuracy: 0.1543\n",
      "Epoch 12/40\n",
      "268925/268925 [==============================] - 19s 71us/step - loss: 9.1712e-04 - accuracy: 0.0684 - val_loss: 0.0805 - val_accuracy: 0.0711\n",
      "Epoch 13/40\n",
      "268925/268925 [==============================] - 19s 71us/step - loss: 9.1651e-04 - accuracy: 0.0678 - val_loss: 0.0815 - val_accuracy: 0.2815\n",
      "Epoch 14/40\n",
      "268925/268925 [==============================] - 21s 80us/step - loss: 9.1341e-04 - accuracy: 0.0684 - val_loss: 0.0833 - val_accuracy: 0.0939\n",
      "Epoch 15/40\n",
      "268925/268925 [==============================] - 19s 72us/step - loss: 9.1144e-04 - accuracy: 0.0651 - val_loss: 0.0830 - val_accuracy: 0.0793\n",
      "Epoch 16/40\n",
      "268925/268925 [==============================] - 21s 79us/step - loss: 9.1028e-04 - accuracy: 0.0673 - val_loss: 0.0851 - val_accuracy: 0.0351\n",
      "Epoch 17/40\n",
      "268925/268925 [==============================] - 19s 71us/step - loss: 9.0753e-04 - accuracy: 0.0651 - val_loss: 0.0864 - val_accuracy: 0.0422\n",
      "Epoch 18/40\n",
      "268925/268925 [==============================] - 19s 71us/step - loss: 9.0867e-04 - accuracy: 0.0650 - val_loss: 0.0869 - val_accuracy: 0.0339\n",
      "Epoch 19/40\n",
      "268925/268925 [==============================] - 20s 76us/step - loss: 9.0623e-04 - accuracy: 0.0661 - val_loss: 0.0894 - val_accuracy: 0.1377\n",
      "Epoch 20/40\n",
      "268925/268925 [==============================] - 22s 80us/step - loss: 9.0425e-04 - accuracy: 0.0663 - val_loss: 0.0889 - val_accuracy: 0.0209\n",
      "Epoch 21/40\n",
      "268925/268925 [==============================] - 19s 69us/step - loss: 9.0434e-04 - accuracy: 0.0668 - val_loss: 0.0905 - val_accuracy: 0.1840\n",
      "Epoch 22/40\n",
      "268925/268925 [==============================] - 18s 67us/step - loss: 9.0217e-04 - accuracy: 0.0633 - val_loss: 0.0915 - val_accuracy: 0.1118\n",
      "Epoch 23/40\n",
      "268925/268925 [==============================] - 18s 68us/step - loss: 9.0230e-04 - accuracy: 0.0679 - val_loss: 0.0923 - val_accuracy: 0.0343\n",
      "Epoch 24/40\n",
      "268925/268925 [==============================] - 22s 80us/step - loss: 9.0281e-04 - accuracy: 0.0660 - val_loss: 0.0928 - val_accuracy: 0.1501\n",
      "Epoch 25/40\n",
      "268925/268925 [==============================] - 21s 78us/step - loss: 8.9997e-04 - accuracy: 0.0662 - val_loss: 0.0937 - val_accuracy: 0.0524\n",
      "Epoch 26/40\n",
      "268925/268925 [==============================] - 23s 85us/step - loss: 8.9897e-04 - accuracy: 0.0689 - val_loss: 0.0936 - val_accuracy: 0.2339\n",
      "Epoch 27/40\n",
      "268925/268925 [==============================] - 21s 78us/step - loss: 8.9789e-04 - accuracy: 0.0676 - val_loss: 0.0967 - val_accuracy: 0.1018\n",
      "Epoch 28/40\n",
      "268925/268925 [==============================] - 21s 79us/step - loss: 8.9575e-04 - accuracy: 0.0694 - val_loss: 0.0955 - val_accuracy: 0.0822\n",
      "Epoch 29/40\n",
      "268925/268925 [==============================] - 20s 75us/step - loss: 8.9878e-04 - accuracy: 0.0670 - val_loss: 0.0972 - val_accuracy: 0.0364\n",
      "Epoch 30/40\n",
      "268925/268925 [==============================] - 19s 72us/step - loss: 8.9395e-04 - accuracy: 0.0675 - val_loss: 0.0984 - val_accuracy: 0.3406\n",
      "Epoch 31/40\n",
      "268925/268925 [==============================] - 20s 73us/step - loss: 8.9257e-04 - accuracy: 0.0689 - val_loss: 0.0993 - val_accuracy: 0.0698\n",
      "Epoch 32/40\n",
      "268925/268925 [==============================] - 17s 64us/step - loss: 8.9378e-04 - accuracy: 0.0680 - val_loss: 0.1002 - val_accuracy: 0.0433\n",
      "Epoch 33/40\n",
      "268925/268925 [==============================] - 23s 85us/step - loss: 8.9260e-04 - accuracy: 0.0663 - val_loss: 0.0998 - val_accuracy: 0.0298\n",
      "Epoch 34/40\n",
      "268925/268925 [==============================] - 21s 78us/step - loss: 8.9335e-04 - accuracy: 0.0664 - val_loss: 0.0996 - val_accuracy: 0.0242\n",
      "Epoch 35/40\n",
      "268925/268925 [==============================] - 19s 70us/step - loss: 8.9243e-04 - accuracy: 0.0666 - val_loss: 0.0989 - val_accuracy: 0.0279\n",
      "Epoch 36/40\n",
      "268925/268925 [==============================] - 18s 67us/step - loss: 8.8993e-04 - accuracy: 0.0655 - val_loss: 0.0997 - val_accuracy: 0.0323\n",
      "Epoch 37/40\n",
      "268925/268925 [==============================] - 23s 86us/step - loss: 8.8946e-04 - accuracy: 0.0655 - val_loss: 0.1011 - val_accuracy: 0.0238\n",
      "Epoch 38/40\n",
      "268925/268925 [==============================] - 19s 70us/step - loss: 8.8836e-04 - accuracy: 0.0668 - val_loss: 0.1025 - val_accuracy: 0.0229\n",
      "Epoch 39/40\n",
      "268925/268925 [==============================] - 21s 78us/step - loss: 8.8977e-04 - accuracy: 0.0638 - val_loss: 0.1014 - val_accuracy: 0.0456\n",
      "Epoch 40/40\n",
      "268925/268925 [==============================] - 20s 74us/step - loss: 8.9094e-04 - accuracy: 0.0651 - val_loss: 0.1002 - val_accuracy: 0.0584\n",
      "Wall time: 13min 31s\n"
     ]
    }
   ],
   "source": [
    "%%time\n",
    "\n",
    "nb_epoch = 40\n",
    "batch_size = 32\n",
    "\n",
    "autoencoder.compile(optimizer='adam', \n",
    "                    loss='mean_squared_error', \n",
    "                    metrics=['accuracy'])\n",
    "\n",
    "checkpointer = ModelCheckpoint(filepath=\"model_carclaims.h5\",\n",
    "                               verbose=0,\n",
    "                               save_best_only=True)\n",
    "tensorboard = TensorBoard(log_dir='./logs',\n",
    "                          histogram_freq=0,\n",
    "                          write_graph=True,\n",
    "                          write_images=True)\n",
    "\n",
    "history = autoencoder.fit(X_train, X_train,\n",
    "                    epochs=nb_epoch,\n",
    "                    batch_size=batch_size,\n",
    "                    shuffle=True,\n",
    "                    validation_data=(X_test, X_test),\n",
    "                    verbose=1,\n",
    "                    callbacks=[checkpointer, tensorboard]).history"
   ]
  },
  {
   "cell_type": "code",
   "execution_count": null,
   "metadata": {
    "id": "9ldFWMcxudvn"
   },
   "outputs": [],
   "source": [
    "# autoencoder = load_model('model_carclaims.h5')"
   ]
  },
  {
   "cell_type": "markdown",
   "metadata": {
    "id": "gPSSAknnudvt"
   },
   "source": [
    "# Evaluation"
   ]
  },
  {
   "cell_type": "code",
   "execution_count": null,
   "metadata": {
    "colab": {
     "base_uri": "https://localhost:8080/",
     "height": 534
    },
    "id": "0dk1BUmGudvu",
    "outputId": "06bf5bf1-8888-4fa7-a7f7-d11298c1dbd5"
   },
   "outputs": [
    {
     "data": {
      "image/png": "[encoded data removed]",
      "text/plain": [
       "<Figure size 1008x576 with 1 Axes>"
      ]
     },
     "metadata": {
      "tags": []
     },
     "output_type": "display_data"
    }
   ],
   "source": [
    "plt.plot(history['loss'])\n",
    "plt.plot(history['val_loss'])\n",
    "plt.title('model loss')\n",
    "plt.ylabel('loss')\n",
    "plt.xlabel('epoch')\n",
    "plt.legend(['train', 'test'], loc='upper right');"
   ]
  },
  {
   "cell_type": "markdown",
   "metadata": {
    "id": "bMX2N4qUudvx"
   },
   "source": [
    "The reconstruction error on our training and test data seems to converge nicely. Is it low enough? Let's have a closer look at the error distribution:"
   ]
  },
  {
   "cell_type": "code",
   "execution_count": null,
   "metadata": {
    "id": "tnCD-tgXudvy"
   },
   "outputs": [],
   "source": [
    "predictions = autoencoder.predict(X_test)"
   ]
  },
  {
   "cell_type": "code",
   "execution_count": null,
   "metadata": {
    "id": "jyI7rVK0udv1"
   },
   "outputs": [],
   "source": [
    "mse = np.mean(np.power(X_test - predictions, 2), axis=1)\n",
    "error_df = pd.DataFrame({'reconstruction_error': mse,\n",
    "                        'true_class': y_test})"
   ]
  },
  {
   "cell_type": "code",
   "execution_count": null,
   "metadata": {
    "colab": {
     "base_uri": "https://localhost:8080/",
     "height": 406
    },
    "id": "0_3vmICgudv7",
    "outputId": "cc6f7cdd-a3bb-460e-affc-6084187f138c"
   },
   "outputs": [
    {
     "data": {
      "text/html": [
       "<div>\n",
       "<style scoped>\n",
       "    .dataframe tbody tr th:only-of-type {\n",
       "        vertical-align: middle;\n",
       "    }\n",
       "\n",
       "    .dataframe tbody tr th {\n",
       "        vertical-align: top;\n",
       "    }\n",
       "\n",
       "    .dataframe thead th {\n",
       "        text-align: right;\n",
       "    }\n",
       "</style>\n",
       "<table border=\"1\" class=\"dataframe\">\n",
       "  <thead>\n",
       "    <tr style=\"text-align: right;\">\n",
       "      <th></th>\n",
       "      <th>reconstruction_error</th>\n",
       "      <th>true_class</th>\n",
       "    </tr>\n",
       "  </thead>\n",
       "  <tbody>\n",
       "    <tr>\n",
       "      <th>4291</th>\n",
       "      <td>0.109550</td>\n",
       "      <td>0</td>\n",
       "    </tr>\n",
       "    <tr>\n",
       "      <th>7874</th>\n",
       "      <td>0.182249</td>\n",
       "      <td>0</td>\n",
       "    </tr>\n",
       "    <tr>\n",
       "      <th>3325</th>\n",
       "      <td>0.129184</td>\n",
       "      <td>0</td>\n",
       "    </tr>\n",
       "    <tr>\n",
       "      <th>4048</th>\n",
       "      <td>0.217981</td>\n",
       "      <td>0</td>\n",
       "    </tr>\n",
       "    <tr>\n",
       "      <th>15203</th>\n",
       "      <td>0.282698</td>\n",
       "      <td>0</td>\n",
       "    </tr>\n",
       "    <tr>\n",
       "      <th>...</th>\n",
       "      <td>...</td>\n",
       "      <td>...</td>\n",
       "    </tr>\n",
       "    <tr>\n",
       "      <th>9747</th>\n",
       "      <td>0.143303</td>\n",
       "      <td>0</td>\n",
       "    </tr>\n",
       "    <tr>\n",
       "      <th>8574</th>\n",
       "      <td>0.147281</td>\n",
       "      <td>0</td>\n",
       "    </tr>\n",
       "    <tr>\n",
       "      <th>6408</th>\n",
       "      <td>0.147057</td>\n",
       "      <td>0</td>\n",
       "    </tr>\n",
       "    <tr>\n",
       "      <th>5438</th>\n",
       "      <td>0.249321</td>\n",
       "      <td>0</td>\n",
       "    </tr>\n",
       "    <tr>\n",
       "      <th>6794</th>\n",
       "      <td>0.124199</td>\n",
       "      <td>0</td>\n",
       "    </tr>\n",
       "  </tbody>\n",
       "</table>\n",
       "<p>3084 rows × 2 columns</p>\n",
       "</div>"
      ],
      "text/plain": [
       "       reconstruction_error  true_class\n",
       "4291               0.109550           0\n",
       "7874               0.182249           0\n",
       "3325               0.129184           0\n",
       "4048               0.217981           0\n",
       "15203              0.282698           0\n",
       "...                     ...         ...\n",
       "9747               0.143303           0\n",
       "8574               0.147281           0\n",
       "6408               0.147057           0\n",
       "5438               0.249321           0\n",
       "6794               0.124199           0\n",
       "\n",
       "[3084 rows x 2 columns]"
      ]
     },
     "execution_count": 68,
     "metadata": {
      "tags": []
     },
     "output_type": "execute_result"
    }
   ],
   "source": [
    "error_df"
   ]
  },
  {
   "cell_type": "markdown",
   "metadata": {
    "id": "1tQtdqG4udwA"
   },
   "source": [
    "## Reconstruction error without fraud"
   ]
  },
  {
   "cell_type": "code",
   "execution_count": null,
   "metadata": {
    "colab": {
     "base_uri": "https://localhost:8080/",
     "height": 493
    },
    "id": "YIdHO7_1udwC",
    "outputId": "eed284d7-1b3f-4bda-f7dd-3afe0ff9f9a3"
   },
   "outputs": [
    {
     "data": {
      "image/png": "[encoded data removed]",
      "text/plain": [
       "<Figure size 1008x576 with 1 Axes>"
      ]
     },
     "metadata": {
      "tags": []
     },
     "output_type": "display_data"
    }
   ],
   "source": [
    "fig = plt.figure()\n",
    "ax = fig.add_subplot(111)\n",
    "normal_error_df = error_df[(error_df['true_class']== 0) & (error_df['reconstruction_error'] < 10)]\n",
    "_ = ax.hist(normal_error_df.reconstruction_error.values, bins=10)"
   ]
  },
  {
   "cell_type": "markdown",
   "metadata": {
    "id": "PccEE9gwudwF"
   },
   "source": [
    "## Reconstruction error with fraud"
   ]
  },
  {
   "cell_type": "code",
   "execution_count": null,
   "metadata": {
    "colab": {
     "base_uri": "https://localhost:8080/",
     "height": 493
    },
    "id": "-Ws7C5csudwF",
    "outputId": "1d8ebcec-0f21-4833-d19f-c499190130a7"
   },
   "outputs": [
    {
     "data": {
      "image/png": "[encoded data removed]",
      "text/plain": [
       "<Figure size 1008x576 with 1 Axes>"
      ]
     },
     "metadata": {
      "tags": []
     },
     "output_type": "display_data"
    }
   ],
   "source": [
    "fig = plt.figure()\n",
    "ax = fig.add_subplot(111)\n",
    "fraud_error_df = error_df[error_df['true_class'] == 1]\n",
    "_ = ax.hist(fraud_error_df.reconstruction_error.values, bins=10)"
   ]
  },
  {
   "cell_type": "code",
   "execution_count": null,
   "metadata": {
    "id": "M-S0mGiFudwJ"
   },
   "outputs": [],
   "source": [
    "from sklearn.metrics import (confusion_matrix, precision_recall_curve, auc,\n",
    "                             roc_curve, recall_score, classification_report, f1_score,\n",
    "                             precision_recall_fscore_support)"
   ]
  },
  {
   "cell_type": "markdown",
   "metadata": {
    "id": "D1WmwUPUudwM"
   },
   "source": [
    "ROC curves are very useful tool for understanding the performance of binary classifiers. However, our case is a bit out of the ordinary. We have a very imbalanced dataset. Nonetheless, let's have a look at our ROC curve:"
   ]
  },
  {
   "cell_type": "code",
   "execution_count": null,
   "metadata": {
    "colab": {
     "base_uri": "https://localhost:8080/",
     "height": 534
    },
    "id": "m3a_8SE9udwN",
    "outputId": "4c0d1598-459b-4b11-db4a-6c56d3258dc9"
   },
   "outputs": [
    {
     "data": {
      "image/png": "[encoded data removed]",
      "text/plain": [
       "<Figure size 1008x576 with 1 Axes>"
      ]
     },
     "metadata": {
      "tags": []
     },
     "output_type": "display_data"
    }
   ],
   "source": [
    "fpr, tpr, thresholds = roc_curve(error_df.true_class, error_df.reconstruction_error)\n",
    "roc_auc = auc(fpr, tpr)\n",
    "\n",
    "plt.title('Receiver Operating Characteristic')\n",
    "plt.plot(fpr, tpr, label='AUC = %0.4f'% roc_auc)\n",
    "plt.legend(loc='lower right')\n",
    "plt.plot([0,1],[0,1],'r--')\n",
    "plt.xlim([-0.001, 1])\n",
    "plt.ylim([0, 1.001])\n",
    "plt.ylabel('True Positive Rate')\n",
    "plt.xlabel('False Positive Rate')\n",
    "plt.show();"
   ]
  },
  {
   "cell_type": "code",
   "execution_count": null,
   "metadata": {
    "colab": {
     "base_uri": "https://localhost:8080/",
     "height": 1000
    },
    "id": "fNdEv-pluL-h",
    "outputId": "e90ad9bd-e773-4ff4-c0ef-9218691eedd1"
   },
   "outputs": [
    {
     "data": {
      "text/plain": [
       "array([3.16281238e+02, 3.15281238e+02, 3.83780833e+00, 3.68322774e+00,\n",
       "       2.08688348e+00, 2.02686552e+00, 1.78625678e+00, 1.76497269e+00,\n",
       "       6.43118190e-01, 6.41305191e-01, 6.27128148e-01, 6.26322494e-01,\n",
       "       5.87616984e-01, 5.87165567e-01, 5.69085794e-01, 5.68236767e-01,\n",
       "       5.49348435e-01, 5.48537203e-01, 5.07699742e-01, 4.95069804e-01,\n",
       "       4.58836634e-01, 4.55013273e-01, 4.54490036e-01, 4.53005316e-01,\n",
       "       4.47102919e-01, 4.46794313e-01, 4.26266388e-01, 4.25292776e-01,\n",
       "       4.22248404e-01, 4.21915814e-01, 4.21564378e-01, 4.20618543e-01,\n",
       "       4.11545226e-01, 4.11153850e-01, 3.98623343e-01, 3.95127040e-01,\n",
       "       3.57747877e-01, 3.57583682e-01, 3.56555837e-01, 3.56233520e-01,\n",
       "       3.55315334e-01, 3.55024090e-01, 3.53875069e-01, 3.52824478e-01,\n",
       "       3.52240321e-01, 3.52054726e-01, 3.45886493e-01, 3.44415373e-01,\n",
       "       3.37013218e-01, 3.36209174e-01, 3.34479307e-01, 3.31963036e-01,\n",
       "       3.15744032e-01, 3.15271787e-01, 3.07541520e-01, 3.04645822e-01,\n",
       "       2.95003041e-01, 2.94005084e-01, 2.89909866e-01, 2.89599953e-01,\n",
       "       2.88197088e-01, 2.88140666e-01, 2.83929188e-01, 2.83643125e-01,\n",
       "       2.79161374e-01, 2.78398501e-01, 2.63797757e-01, 2.63675591e-01,\n",
       "       2.62625802e-01, 2.62177585e-01, 2.60276405e-01, 2.60140601e-01,\n",
       "       2.56878872e-01, 2.56431875e-01, 2.56236118e-01, 2.55715486e-01,\n",
       "       2.52217579e-01, 2.51956924e-01, 2.50733710e-01, 2.50481025e-01,\n",
       "       2.50054297e-01, 2.49825517e-01, 2.48363014e-01, 2.47805595e-01,\n",
       "       2.46187809e-01, 2.45678658e-01, 2.39386505e-01, 2.39372764e-01,\n",
       "       2.39092095e-01, 2.38959308e-01, 2.37768307e-01, 2.37739785e-01,\n",
       "       2.32001860e-01, 2.31676589e-01, 2.30263711e-01, 2.29881795e-01,\n",
       "       2.25318198e-01, 2.25287950e-01, 2.24829448e-01, 2.24341949e-01,\n",
       "       2.22568131e-01, 2.22550800e-01, 2.17685130e-01, 2.17584345e-01,\n",
       "       2.15791348e-01, 2.15515880e-01, 2.15226029e-01, 2.14863361e-01,\n",
       "       2.14746730e-01, 2.14560281e-01, 2.11320440e-01, 2.11102824e-01,\n",
       "       2.07949485e-01, 2.07853441e-01, 2.01425525e-01, 2.01293932e-01,\n",
       "       1.96941301e-01, 1.96929211e-01, 1.90743650e-01, 1.90734770e-01,\n",
       "       1.89832119e-01, 1.89813529e-01, 1.89230854e-01, 1.88987739e-01,\n",
       "       1.87526607e-01, 1.87440055e-01, 1.85644805e-01, 1.85640372e-01,\n",
       "       1.84239125e-01, 1.84152771e-01, 1.83415148e-01, 1.83326556e-01,\n",
       "       1.82818344e-01, 1.82676902e-01, 1.81904872e-01, 1.81720858e-01,\n",
       "       1.77807929e-01, 1.77779328e-01, 1.76628718e-01, 1.76593406e-01,\n",
       "       1.76379582e-01, 1.76372496e-01, 1.74828323e-01, 1.74783509e-01,\n",
       "       1.71936521e-01, 1.71908996e-01, 1.71715093e-01, 1.71644684e-01,\n",
       "       1.69088527e-01, 1.68977604e-01, 1.67082888e-01, 1.67040928e-01,\n",
       "       1.66639695e-01, 1.66583937e-01, 1.66551612e-01, 1.66332239e-01,\n",
       "       1.65619142e-01, 1.65382719e-01, 1.64495243e-01, 1.64385792e-01,\n",
       "       1.63909067e-01, 1.63799068e-01, 1.62051857e-01, 1.61756288e-01,\n",
       "       1.61672989e-01, 1.61558036e-01, 1.61419026e-01, 1.61359113e-01,\n",
       "       1.60819945e-01, 1.60732980e-01, 1.60708765e-01, 1.60683495e-01,\n",
       "       1.59200666e-01, 1.58971046e-01, 1.57924010e-01, 1.57870739e-01,\n",
       "       1.57537693e-01, 1.57479203e-01, 1.57364504e-01, 1.57342873e-01,\n",
       "       1.56817975e-01, 1.56784880e-01, 1.56773965e-01, 1.56767508e-01,\n",
       "       1.54854239e-01, 1.54783277e-01, 1.51775887e-01, 1.51757540e-01,\n",
       "       1.50070582e-01, 1.50058323e-01, 1.49318883e-01, 1.49307157e-01,\n",
       "       1.47983368e-01, 1.47953730e-01, 1.47839766e-01, 1.47822965e-01,\n",
       "       1.47795937e-01, 1.47794957e-01, 1.45413834e-01, 1.45359215e-01,\n",
       "       1.44437035e-01, 1.44406546e-01, 1.44282952e-01, 1.44251490e-01,\n",
       "       1.43403932e-01, 1.43375669e-01, 1.43127142e-01, 1.43126633e-01,\n",
       "       1.43003038e-01, 1.42988507e-01, 1.42603919e-01, 1.42577966e-01,\n",
       "       1.42493591e-01, 1.42482238e-01, 1.42473617e-01, 1.42466783e-01,\n",
       "       1.40528703e-01, 1.40450560e-01, 1.39927365e-01, 1.39919760e-01,\n",
       "       1.38914741e-01, 1.38841782e-01, 1.37867211e-01, 1.37802750e-01,\n",
       "       1.37516277e-01, 1.37514591e-01, 1.36992177e-01, 1.36963760e-01,\n",
       "       1.36688059e-01, 1.36656667e-01, 1.36473517e-01, 1.36460249e-01,\n",
       "       1.35409430e-01, 1.35366933e-01, 1.35213730e-01, 1.35149728e-01,\n",
       "       1.35095236e-01, 1.35074392e-01, 1.35029504e-01, 1.34990983e-01,\n",
       "       1.34773395e-01, 1.34747716e-01, 1.34583958e-01, 1.34459228e-01,\n",
       "       1.33650663e-01, 1.33567268e-01, 1.33327071e-01, 1.33194100e-01,\n",
       "       1.32764639e-01, 1.32679602e-01, 1.32616654e-01, 1.32611520e-01,\n",
       "       1.31300434e-01, 1.31187487e-01, 1.30306489e-01, 1.30301879e-01,\n",
       "       1.26861363e-01, 1.26781397e-01, 1.25940700e-01, 1.25920017e-01,\n",
       "       1.24703007e-01, 1.24692570e-01, 1.24429707e-01, 1.24352849e-01,\n",
       "       1.23714043e-01, 1.23669356e-01, 1.23631152e-01, 1.23597551e-01,\n",
       "       1.22465110e-01, 1.22367265e-01, 1.21453381e-01, 1.21404954e-01,\n",
       "       1.21229762e-01, 1.21189799e-01, 1.21136366e-01, 1.21035081e-01,\n",
       "       1.21014925e-01, 1.20967460e-01, 1.19598331e-01, 1.19574307e-01,\n",
       "       1.17677007e-01, 1.17651296e-01, 1.17594475e-01, 1.17588920e-01,\n",
       "       1.17162833e-01, 1.17080525e-01, 1.16229205e-01, 1.16173845e-01,\n",
       "       1.16077667e-01, 1.16051696e-01, 1.15461919e-01, 1.15440445e-01,\n",
       "       1.15051009e-01, 1.14991191e-01, 1.14850241e-01, 1.14843076e-01,\n",
       "       1.14583890e-01, 1.14510472e-01, 1.14436831e-01, 1.14432740e-01,\n",
       "       1.14084325e-01, 1.14041704e-01, 1.13855650e-01, 1.13832387e-01,\n",
       "       1.12567417e-01, 1.12540617e-01, 1.12241633e-01, 1.12227889e-01,\n",
       "       1.12227865e-01, 1.12203988e-01, 1.12092128e-01, 1.12051927e-01,\n",
       "       1.11671412e-01, 1.11662655e-01, 1.09945808e-01, 1.09922335e-01,\n",
       "       1.09040048e-01, 1.09024805e-01, 1.08612208e-01, 1.08600557e-01,\n",
       "       1.07764729e-01, 1.07745897e-01, 1.07370205e-01, 1.07343311e-01,\n",
       "       1.06563686e-01, 1.06511866e-01, 1.03284073e-01, 1.03267547e-01,\n",
       "       1.02443094e-01, 1.02419729e-01, 1.01559576e-01, 1.01527667e-01,\n",
       "       1.00924382e-01, 1.00856026e-01, 9.97914743e-02, 9.97771874e-02,\n",
       "       9.75444945e-02, 9.75397723e-02, 9.70777389e-02, 9.69645992e-02,\n",
       "       9.66256819e-02, 9.65860562e-02, 9.64906737e-02, 9.64824729e-02,\n",
       "       9.63104366e-02, 9.61139199e-02, 9.60773783e-02, 9.57161670e-02,\n",
       "       9.56704464e-02, 9.52158388e-02, 9.51926170e-02, 9.51354921e-02,\n",
       "       9.31708080e-02, 9.31627198e-02, 9.31298279e-02, 9.30927332e-02,\n",
       "       8.89955339e-02, 8.89721702e-02, 8.85728299e-02, 8.82658457e-02,\n",
       "       8.42433130e-02, 8.37738095e-02, 8.16444832e-02])"
      ]
     },
     "execution_count": 73,
     "metadata": {
      "tags": []
     },
     "output_type": "execute_result"
    }
   ],
   "source": [
    "thresholds"
   ]
  },
  {
   "cell_type": "markdown",
   "metadata": {
    "id": "7LdyrtTuudwR"
   },
   "source": [
    "The ROC curve plots the true positive rate versus the false positive rate, over different threshold values. Basically, we want the blue line to be as close as possible to the upper left corner. While our results look pretty good, we have to keep in mind of the nature of our dataset. ROC doesn't look very useful for us. Onward...\n",
    "\n",
    "## Precision vs Recall\n",
    "\n",
    "<img src=\"https://upload.wikimedia.org/wikipedia/commons/thumb/2/26/Precisionrecall.svg/350px-Precisionrecall.svg.png\" />\n",
    "\n",
    "Precision and recall are defined as follows:\n",
    "\n",
    "$$\\text{Precision} = \\frac{\\text{true positives}}{\\text{true positives} + \\text{false positives}}$$\n",
    "\n",
    "$$\\text{Recall} = \\frac{\\text{true positives}}{\\text{true positives} + \\text{false negatives}}$$\n",
    "\n",
    "Let's take an example from Information Retrieval in order to better understand what precision and recall are. Precision measures the relevancy of obtained results. Recall, on the other hand, measures how many relevant results are returned. Both values can take values between 0 and 1. You would love to have a system with both values being equal to 1.\n",
    "\n",
    "Let's return to our example from Information Retrieval. High recall but low precision means many results, most of which has low or no relevancy. When precision is high but recall is low we have the opposite - few returned results with very high relevancy. Ideally, you would want high precision and high recall - many results with that are highly relevant."
   ]
  },
  {
   "cell_type": "code",
   "execution_count": null,
   "metadata": {
    "colab": {
     "base_uri": "https://localhost:8080/"
    },
    "id": "uUfz86TUudwS",
    "outputId": "20d7b1d0-8018-4212-c6ff-4c59d69a059d"
   },
   "outputs": [
    {
     "data": {
      "image/png": "[encoded data removed]",
      "text/plain": [
       "<Figure size 1008x576 with 1 Axes>"
      ]
     },
     "metadata": {
      "tags": []
     },
     "output_type": "display_data"
    }
   ],
   "source": [
    "precision, recall, th = precision_recall_curve(error_df.true_class, error_df.reconstruction_error)\n",
    "plt.plot(recall, precision, 'b', label='Precision-Recall curve')\n",
    "plt.title('Recall vs Precision')\n",
    "plt.xlabel('Recall')\n",
    "plt.ylabel('Precision')\n",
    "plt.show()"
   ]
  },
  {
   "cell_type": "markdown",
   "metadata": {
    "id": "zShmRCCaudwY"
   },
   "source": [
    "A high area under the curve represents both high recall and high precision, where high precision relates to a low false positive rate, and high recall relates to a low false negative rate. High scores for both show that the classifier is returning accurate results (high precision), as well as returning a majority of all positive results (high recall)."
   ]
  },
  {
   "cell_type": "code",
   "execution_count": null,
   "metadata": {
    "colab": {
     "base_uri": "https://localhost:8080/"
    },
    "id": "f5hUeeR2udwY",
    "outputId": "1f698077-793c-464f-f3ec-a79b703f73e6"
   },
   "outputs": [
    {
     "data": {
      "image/png": "[encoded data removed]",
      "text/plain": [
       "<Figure size 1008x576 with 1 Axes>"
      ]
     },
     "metadata": {
      "tags": []
     },
     "output_type": "display_data"
    }
   ],
   "source": [
    "plt.plot(th, precision[1:], 'b', label='Threshold-Precision curve')\n",
    "plt.title('Precision for different threshold values')\n",
    "plt.xlabel('Threshold')\n",
    "plt.ylabel('Precision')\n",
    "plt.show()"
   ]
  },
  {
   "cell_type": "markdown",
   "metadata": {
    "id": "Ah-Wr1Ysudwc"
   },
   "source": [
    "You can see that as the reconstruction error increases our precision rises as well. Let's have a look at the recall:"
   ]
  },
  {
   "cell_type": "code",
   "execution_count": null,
   "metadata": {
    "colab": {
     "base_uri": "https://localhost:8080/"
    },
    "id": "ccGjq2opudwd",
    "outputId": "a6e6691c-2d70-41e2-91db-0d0883332e0c"
   },
   "outputs": [
    {
     "data": {
      "image/png": "[encoded data removed]",
      "text/plain": [
       "<Figure size 1008x576 with 1 Axes>"
      ]
     },
     "metadata": {
      "tags": []
     },
     "output_type": "display_data"
    }
   ],
   "source": [
    "plt.plot(th, recall[1:], 'b', label='Threshold-Recall curve')\n",
    "plt.title('Recall for different threshold values')\n",
    "plt.xlabel('Reconstruction error')\n",
    "plt.ylabel('Recall')\n",
    "plt.show()"
   ]
  },
  {
   "cell_type": "markdown",
   "metadata": {
    "id": "-gjtamJPudwi"
   },
   "source": [
    "Here, we have the exact opposite situation. As the reconstruction error increases the recall decreases."
   ]
  },
  {
   "cell_type": "markdown",
   "metadata": {
    "id": "edqunIL0udwi"
   },
   "source": [
    "# Prediction\n",
    "\n",
    "Our model is a bit different this time. It doesn't know how to predict new values. But we don't need that. In order to predict whether or not a new/unseen transaction is normal or fraudulent, we'll calculate the reconstruction error from the transaction data itself. If the error is larger than a predefined threshold, we'll mark it as a fraud (since our model should have a low error on normal transactions). Let's pick that value:"
   ]
  },
  {
   "cell_type": "code",
   "execution_count": null,
   "metadata": {
    "id": "WJ9s6TdHudwj"
   },
   "outputs": [],
   "source": [
    "threshold = 1.5"
   ]
  },
  {
   "cell_type": "markdown",
   "metadata": {
    "id": "rh0BjezNudwl"
   },
   "source": [
    "And see how well we're dividing the two types of transactions:"
   ]
  },
  {
   "cell_type": "code",
   "execution_count": null,
   "metadata": {
    "colab": {
     "base_uri": "https://localhost:8080/",
     "height": 534
    },
    "id": "-UO_hfV6udwm",
    "outputId": "73ed9c10-d13e-4b77-88ab-31cb6d82109f"
   },
   "outputs": [
    {
     "data": {
      "image/png": "[encoded data removed]",
      "text/plain": [
       "<Figure size 1008x576 with 1 Axes>"
      ]
     },
     "metadata": {
      "tags": []
     },
     "output_type": "display_data"
    }
   ],
   "source": [
    "groups = error_df.groupby('true_class')\n",
    "fig, ax = plt.subplots()\n",
    "\n",
    "for name, group in groups:\n",
    "    ax.plot(group.index, group.reconstruction_error, marker='o', ms=3.5, linestyle='',\n",
    "            label= \"Fraud\" if name == 1 else \"Normal\")\n",
    "ax.hlines(threshold, ax.get_xlim()[0], ax.get_xlim()[1], colors=\"r\", zorder=100, label='Threshold')\n",
    "ax.legend()\n",
    "plt.title(\"Reconstruction error for different classes\")\n",
    "plt.ylabel(\"Reconstruction error\")\n",
    "plt.xlabel(\"Data point index\")\n",
    "plt.show();"
   ]
  },
  {
   "cell_type": "markdown",
   "metadata": {
    "id": "qssoeorKudwp"
   },
   "source": [
    "I know, that chart might be a bit deceiving. Let's have a look at the confusion matrix:"
   ]
  },
  {
   "cell_type": "code",
   "execution_count": null,
   "metadata": {
    "colab": {
     "base_uri": "https://localhost:8080/",
     "height": 753
    },
    "id": "-MCY319Wudwr",
    "outputId": "8d4ad5c0-85b9-4190-abe1-fbe075d66060"
   },
   "outputs": [
    {
     "data": {
      "image/png": "[encoded data removed]",
      "text/plain": [
       "<Figure size 864x864 with 2 Axes>"
      ]
     },
     "metadata": {
      "tags": []
     },
     "output_type": "display_data"
    }
   ],
   "source": [
    "y_pred = [1 if e > threshold else 0 for e in error_df.reconstruction_error.values]\n",
    "conf_matrix = confusion_matrix(error_df.true_class, y_pred)\n",
    "\n",
    "plt.figure(figsize=(12, 12))\n",
    "sns.heatmap(conf_matrix, xticklabels=LABELS, yticklabels=LABELS, annot=True, fmt=\"d\");\n",
    "plt.title(\"Confusion matrix\")\n",
    "plt.ylabel('True class')\n",
    "plt.xlabel('Predicted class')\n",
    "plt.show()"
   ]
  },
  {
   "cell_type": "markdown",
   "metadata": {
    "id": "ft-qZS-9udw1"
   },
   "source": [
    "Our model seems to catch a lot of the fraudulent cases. Of course, there is a catch (see what I did there?). The number of normal transactions classified as frauds is really high. Is this really a problem? Probably it is. You might want to increase or decrease the value of the threshold, depending on the problem. That one is up to you.\n",
    "\n",
    "# Conclusion\n",
    "\n",
    "We've created a very simple Deep Autoencoder in Keras that can reconstruct what non fraudulent transactions looks like. Initially, I was a bit skeptical about whether or not this whole thing is gonna work out, bit it kinda did. Think about it, we gave a lot of one-class examples (normal transactions) to a model and it learned (somewhat) how to discriminate whether or not new examples belong to that same class. Isn't that cool? Our dataset was kind of magical, though. We really don't know what the original features look like.\n",
    "\n",
    "Keras gave us very clean and easy to use API to build a non-trivial Deep Autoencoder. You can search for TensorFlow implementations and see for yourself how much boilerplate you need in order to train one. Can you apply a similar model to a different problem?\n",
    "\n",
    "# References\n",
    "\n",
    "- [Building Autoencoders in Keras](https://blog.keras.io/building-autoencoders-in-keras.html)\n",
    "- [Stanford tutorial on Autoencoders](http://ufldl.stanford.edu/tutorial/unsupervised/Autoencoders/)\n",
    "- [Stacked Autoencoders in TensorFlow](http://cmgreen.io/2016/01/04/tensorflow_deep_autoencoder.html)"
   ]
  },
  {
   "cell_type": "code",
   "execution_count": null,
   "metadata": {
    "id": "0p2ucvWyHhOJ"
   },
   "outputs": [],
   "source": []
  }
 ],
 "metadata": {
  "colab": {
   "collapsed_sections": [
    "1tQtdqG4udwA",
    "PccEE9gwudwF",
    "7LdyrtTuudwR"
   ],
   "name": "fraud_detection_autoencoders_carclaims.ipynb",
   "provenance": []
  },
  "kernelspec": {
   "display_name": "Python 3",
   "language": "python",
   "name": "python3"
  },
  "language_info": {
   "codemirror_mode": {
    "name": "ipython",
    "version": 3
   },
   "file_extension": ".py",
   "mimetype": "text/x-python",
   "name": "python",
   "nbconvert_exporter": "python",
   "pygments_lexer": "ipython3",
   "version": "3.7.9"
  }
 },
 "nbformat": 4,
 "nbformat_minor": 1
}
