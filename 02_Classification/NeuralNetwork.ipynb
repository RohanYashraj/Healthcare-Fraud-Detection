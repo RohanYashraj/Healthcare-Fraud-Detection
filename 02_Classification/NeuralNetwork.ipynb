{
 "cells": [
  {
   "cell_type": "code",
   "execution_count": 1,
   "metadata": {},
   "outputs": [
    {
     "name": "stderr",
     "output_type": "stream",
     "text": [
      "Using TensorFlow backend.\n"
     ]
    }
   ],
   "source": [
    "import keras\n",
    "from keras.models import Sequential\n",
    "from keras.layers import Dense, Dropout, Activation\n",
    "from keras.optimizers import SGD\n",
    "import tensorflow as tf\n",
    "import numpy as np\n",
    "import matplotlib.pyplot as plt\n",
    "import pandas as pd\n",
    "import sys"
   ]
  },
  {
   "cell_type": "code",
   "execution_count": 2,
   "metadata": {},
   "outputs": [
    {
     "data": {
      "text/plain": [
       "'1.15.4'"
      ]
     },
     "execution_count": 2,
     "metadata": {},
     "output_type": "execute_result"
    }
   ],
   "source": [
    "tf.__version__"
   ]
  },
  {
   "cell_type": "code",
   "execution_count": 3,
   "metadata": {},
   "outputs": [],
   "source": [
    "# Importing the dataset\n",
    "train = pd.read_csv('./Data/train.csv')\n",
    "test = pd.read_csv('./Data/test.csv')"
   ]
  },
  {
   "cell_type": "code",
   "execution_count": 4,
   "metadata": {},
   "outputs": [],
   "source": [
    "X_train=train.iloc[:,:-1]\n",
    "y_train=train.iloc[:,-1]\n",
    "X_test=test.iloc[:,:-1]\n",
    "y_test=test.iloc[:,-1]"
   ]
  },
  {
   "cell_type": "code",
   "execution_count": 5,
   "metadata": {},
   "outputs": [
    {
     "data": {
      "image/png": "[encoded data removed]",
      "text/plain": [
       "<Figure size 432x288 with 1 Axes>"
      ]
     },
     "metadata": {
      "needs_background": "light"
     },
     "output_type": "display_data"
    }
   ],
   "source": [
    "plt.hist(y_train)\n",
    "plt.ylabel('Output labels')\n",
    "plt.show()"
   ]
  },
  {
   "cell_type": "code",
   "execution_count": 6,
   "metadata": {},
   "outputs": [
    {
     "data": {
      "image/png": "[encoded data removed]",
      "text/plain": [
       "<Figure size 432x288 with 1 Axes>"
      ]
     },
     "metadata": {
      "needs_background": "light"
     },
     "output_type": "display_data"
    }
   ],
   "source": [
    "plt.hist(y_test)\n",
    "plt.ylabel('Output labels')\n",
    "plt.show()"
   ]
  },
  {
   "cell_type": "markdown",
   "metadata": {},
   "source": [
    "### Architecture\n",
    "- 8 neurons in the first layer\n",
    "- 4 neurons in the second layer\n",
    "- 1 neuron in the output layer"
   ]
  },
  {
   "cell_type": "code",
   "execution_count": 36,
   "metadata": {},
   "outputs": [
    {
     "name": "stdout",
     "output_type": "stream",
     "text": [
      "Model: \"sequential_3\"\n",
      "_________________________________________________________________\n",
      "Layer (type)                 Output Shape              Param #   \n",
      "=================================================================\n",
      "dense_3 (Dense)              (None, 196)               19404     \n",
      "_________________________________________________________________\n",
      "dense_4 (Dense)              (None, 98)                19306     \n",
      "_________________________________________________________________\n",
      "dense_5 (Dense)              (None, 49)                4851      \n",
      "_________________________________________________________________\n",
      "dense_6 (Dense)              (None, 1)                 50        \n",
      "=================================================================\n",
      "Total params: 43,611\n",
      "Trainable params: 43,611\n",
      "Non-trainable params: 0\n",
      "_________________________________________________________________\n",
      "None\n"
     ]
    }
   ],
   "source": [
    "from tensorflow.keras.models import Sequential \n",
    "from tensorflow.keras.layers import Dense\n",
    "\n",
    "model = Sequential()\n",
    "model.add(Dense(196, input_dim=X_train.shape[1], activation='relu'))\n",
    "model.add(Dense(98, activation='relu'))\n",
    "model.add(Dense(49, activation='relu'))\n",
    "model.add(Dense(1, activation='sigmoid'))\n",
    "print(model.summary())"
   ]
  },
  {
   "cell_type": "code",
   "execution_count": 39,
   "metadata": {},
   "outputs": [],
   "source": [
    "model.compile(loss='binary_crossentropy', optimizer='adam', metrics=['accuracy', 'mse'])"
   ]
  },
  {
   "cell_type": "code",
   "execution_count": 40,
   "metadata": {},
   "outputs": [],
   "source": [
    "from keras.callbacks import EarlyStopping, ModelCheckpoint\n",
    "callback_a = ModelCheckpoint(filepath = 'NN_best_model.hdf5', monitor='val_loss', save_best_only=True, save_weights_only=True)\n",
    "callback_b = EarlyStopping(monitor='val_loss', mode='min', patience=20, verbose=1)"
   ]
  },
  {
   "cell_type": "code",
   "execution_count": 42,
   "metadata": {},
   "outputs": [
    {
     "name": "stdout",
     "output_type": "stream",
     "text": [
      "Train on 286940 samples, validate on 95647 samples\n",
      "Epoch 1/100\n",
      "286940/286940 [==============================] - 7s 24us/sample - loss: 0.0441 - acc: 0.9849 - mean_squared_error: 0.0125 - val_loss: 0.0458 - val_acc: 0.9849 - val_mean_squared_error: 0.0128\n",
      "Epoch 2/100\n",
      "286940/286940 [==============================] - 8s 29us/sample - loss: 0.0439 - acc: 0.9850 - mean_squared_error: 0.0124 - val_loss: 0.0460 - val_acc: 0.9847 - val_mean_squared_error: 0.0128\n",
      "Epoch 3/100\n",
      "286940/286940 [==============================] - 6s 22us/sample - loss: 0.0437 - acc: 0.9850 - mean_squared_error: 0.0124 - val_loss: 0.0460 - val_acc: 0.9847 - val_mean_squared_error: 0.0128\n",
      "Epoch 4/100\n",
      "286940/286940 [==============================] - 8s 28us/sample - loss: 0.0435 - acc: 0.9851 - mean_squared_error: 0.0123 - val_loss: 0.0460 - val_acc: 0.9847 - val_mean_squared_error: 0.0128\n",
      "Epoch 5/100\n",
      "286940/286940 [==============================] - 8s 27us/sample - loss: 0.0432 - acc: 0.9852 - mean_squared_error: 0.0123 - val_loss: 0.0456 - val_acc: 0.9847 - val_mean_squared_error: 0.0128\n",
      "Epoch 6/100\n",
      "286940/286940 [==============================] - 8s 27us/sample - loss: 0.0429 - acc: 0.9853 - mean_squared_error: 0.0122 - val_loss: 0.0461 - val_acc: 0.9847 - val_mean_squared_error: 0.0128\n",
      "Epoch 7/100\n",
      "286940/286940 [==============================] - 8s 27us/sample - loss: 0.0427 - acc: 0.9853 - mean_squared_error: 0.0121 - val_loss: 0.0462 - val_acc: 0.9847 - val_mean_squared_error: 0.0127\n",
      "Epoch 8/100\n",
      "286940/286940 [==============================] - 8s 29us/sample - loss: 0.0425 - acc: 0.9853 - mean_squared_error: 0.0121 - val_loss: 0.0470 - val_acc: 0.9846 - val_mean_squared_error: 0.0129\n",
      "Epoch 9/100\n",
      "286940/286940 [==============================] - 7s 26us/sample - loss: 0.0420 - acc: 0.9854 - mean_squared_error: 0.0120 - val_loss: 0.0473 - val_acc: 0.9846 - val_mean_squared_error: 0.0129\n",
      "Epoch 10/100\n",
      "286940/286940 [==============================] - 9s 31us/sample - loss: 0.0419 - acc: 0.9854 - mean_squared_error: 0.0119 - val_loss: 0.0464 - val_acc: 0.9845 - val_mean_squared_error: 0.0129\n",
      "Epoch 11/100\n",
      "286940/286940 [==============================] - 8s 29us/sample - loss: 0.0416 - acc: 0.9855 - mean_squared_error: 0.0119 - val_loss: 0.0480 - val_acc: 0.9842 - val_mean_squared_error: 0.0132\n",
      "Epoch 12/100\n",
      "286940/286940 [==============================] - 8s 29us/sample - loss: 0.0413 - acc: 0.9855 - mean_squared_error: 0.0118 - val_loss: 0.0465 - val_acc: 0.9847 - val_mean_squared_error: 0.0128\n",
      "Epoch 13/100\n",
      "286940/286940 [==============================] - 8s 27us/sample - loss: 0.0411 - acc: 0.9855 - mean_squared_error: 0.0117 - val_loss: 0.0481 - val_acc: 0.9843 - val_mean_squared_error: 0.0130\n",
      "Epoch 14/100\n",
      "286940/286940 [==============================] - 8s 28us/sample - loss: 0.0408 - acc: 0.9857 - mean_squared_error: 0.0117 - val_loss: 0.0482 - val_acc: 0.9845 - val_mean_squared_error: 0.0130\n",
      "Epoch 15/100\n",
      "286940/286940 [==============================] - 8s 29us/sample - loss: 0.0406 - acc: 0.9857 - mean_squared_error: 0.0116 - val_loss: 0.0478 - val_acc: 0.9846 - val_mean_squared_error: 0.0129\n",
      "Epoch 16/100\n",
      "286940/286940 [==============================] - 7s 25us/sample - loss: 0.0403 - acc: 0.9857 - mean_squared_error: 0.0116 - val_loss: 0.0489 - val_acc: 0.9845 - val_mean_squared_error: 0.0129\n",
      "Epoch 17/100\n",
      "286940/286940 [==============================] - 8s 28us/sample - loss: 0.0401 - acc: 0.9857 - mean_squared_error: 0.0115 - val_loss: 0.0480 - val_acc: 0.9843 - val_mean_squared_error: 0.0131\n",
      "Epoch 18/100\n",
      "286940/286940 [==============================] - 7s 26us/sample - loss: 0.0395 - acc: 0.9859 - mean_squared_error: 0.0114 - val_loss: 0.0496 - val_acc: 0.9846 - val_mean_squared_error: 0.0130\n",
      "Epoch 19/100\n",
      "286940/286940 [==============================] - 9s 31us/sample - loss: 0.0396 - acc: 0.9859 - mean_squared_error: 0.0114 - val_loss: 0.0489 - val_acc: 0.9848 - val_mean_squared_error: 0.0130\n",
      "Epoch 20/100\n",
      "286940/286940 [==============================] - 9s 30us/sample - loss: 0.0395 - acc: 0.9859 - mean_squared_error: 0.0114 - val_loss: 0.0497 - val_acc: 0.9846 - val_mean_squared_error: 0.0130\n",
      "Epoch 21/100\n",
      "286940/286940 [==============================] - 7s 26us/sample - loss: 0.0387 - acc: 0.9862 - mean_squared_error: 0.0112 - val_loss: 0.0505 - val_acc: 0.9841 - val_mean_squared_error: 0.0133\n",
      "Epoch 22/100\n",
      "286940/286940 [==============================] - 9s 31us/sample - loss: 0.0387 - acc: 0.9860 - mean_squared_error: 0.0112 - val_loss: 0.0512 - val_acc: 0.9841 - val_mean_squared_error: 0.0137\n",
      "Epoch 23/100\n",
      "286940/286940 [==============================] - 8s 28us/sample - loss: 0.0385 - acc: 0.9861 - mean_squared_error: 0.0111 - val_loss: 0.0523 - val_acc: 0.9842 - val_mean_squared_error: 0.0133\n",
      "Epoch 24/100\n",
      "286940/286940 [==============================] - 7s 25us/sample - loss: 0.0382 - acc: 0.9862 - mean_squared_error: 0.0110 - val_loss: 0.0517 - val_acc: 0.9843 - val_mean_squared_error: 0.0133\n",
      "Epoch 25/100\n",
      "286940/286940 [==============================] - 7s 23us/sample - loss: 0.0379 - acc: 0.9863 - mean_squared_error: 0.0110 - val_loss: 0.0519 - val_acc: 0.9845 - val_mean_squared_error: 0.0131\n",
      "Epoch 00025: early stopping\n"
     ]
    }
   ],
   "source": [
    "history=model.fit(X_train, y_train, validation_data=(X_test, y_test), epochs=100, batch_size=200, callbacks=[callback_a,callback_b])"
   ]
  },
  {
   "cell_type": "markdown",
   "metadata": {},
   "source": [
    "### Check the learning curve"
   ]
  },
  {
   "cell_type": "code",
   "execution_count": 43,
   "metadata": {},
   "outputs": [
    {
     "name": "stdout",
     "output_type": "stream",
     "text": [
      "{'batch_size': 200, 'epochs': 100, 'steps': None, 'samples': 286940, 'verbose': 0, 'do_validation': True, 'metrics': ['loss', 'acc', 'mean_squared_error', 'val_loss', 'val_acc', 'val_mean_squared_error']}\n"
     ]
    }
   ],
   "source": [
    "print(history.params)"
   ]
  },
  {
   "cell_type": "code",
   "execution_count": 44,
   "metadata": {},
   "outputs": [
    {
     "data": {
      "image/png": "[encoded data removed]",
      "text/plain": [
       "<Figure size 432x288 with 1 Axes>"
      ]
     },
     "metadata": {
      "needs_background": "light"
     },
     "output_type": "display_data"
    }
   ],
   "source": [
    "plt.plot(history.history['acc'])\n",
    "plt.plot(history.history['val_acc'])\n",
    "plt.ylabel('Accuracy')\n",
    "plt.xlabel('epoch')\n",
    "plt.legend(['training data', 'validation data'], loc='lower right')\n",
    "plt.show()"
   ]
  },
  {
   "cell_type": "markdown",
   "metadata": {},
   "source": [
    "### Load model"
   ]
  },
  {
   "cell_type": "code",
   "execution_count": 23,
   "metadata": {},
   "outputs": [],
   "source": [
    "model.load_weights('NN_best_model.hdf5')"
   ]
  },
  {
   "cell_type": "markdown",
   "metadata": {},
   "source": [
    "### Evaluate the model on the training data\n",
    "\n",
    "Yes the same data we used to train the model"
   ]
  },
  {
   "cell_type": "code",
   "execution_count": 45,
   "metadata": {},
   "outputs": [
    {
     "name": "stdout",
     "output_type": "stream",
     "text": [
      "286940/286940 [==============================] - 9s 32us/sample - loss: 0.0362 - acc: 0.9866 - mean_squared_error: 0.0105\n",
      "['loss', 'acc', 'mean_squared_error']\n",
      "[0.03619969896822335, 0.9866383, 0.01054636]\n",
      "\n",
      "acc: 98.66%\n"
     ]
    }
   ],
   "source": [
    "scores = model.evaluate(X_train, y_train)\n",
    "print(model.metrics_names)\n",
    "print(scores)\n",
    "print('\\n%s: %.2f%%' % (model.metrics_names[1], scores[1]*100))"
   ]
  },
  {
   "cell_type": "markdown",
   "metadata": {},
   "source": [
    "### Evalutate the model on test set\n",
    "- this is the real test for the model\n",
    "- we will evaluate the model on the 'Unknown' dataset (i.e. test dataset) "
   ]
  },
  {
   "cell_type": "code",
   "execution_count": 46,
   "metadata": {},
   "outputs": [
    {
     "name": "stdout",
     "output_type": "stream",
     "text": [
      "95647/95647 [==============================] - 3s 32us/sample - loss: 0.0519 - acc: 0.9845 - mean_squared_error: 0.0131\n",
      "['loss', 'acc', 'mean_squared_error']\n",
      "[0.051891396857084354, 0.9844742, 0.013144804]\n",
      "\n",
      "acc: 98.45%\n"
     ]
    }
   ],
   "source": [
    "scores = model.evaluate(X_test, y_test)\n",
    "print(model.metrics_names)\n",
    "print(scores)\n",
    "print('\\n%s: %.2f%%' % (model.metrics_names[1], scores[1]*100))"
   ]
  },
  {
   "cell_type": "markdown",
   "metadata": {},
   "source": [
    "### Check what the model actually predicts"
   ]
  },
  {
   "cell_type": "code",
   "execution_count": 29,
   "metadata": {},
   "outputs": [
    {
     "name": "stdout",
     "output_type": "stream",
     "text": [
      "100    0\n",
      "101    0\n",
      "102    0\n",
      "103    1\n",
      "104    0\n",
      "Name: FraudFound, dtype: int64\n"
     ]
    }
   ],
   "source": [
    "# print(X_test[100:105])\n",
    "print(y_test[100:105])"
   ]
  },
  {
   "cell_type": "code",
   "execution_count": 47,
   "metadata": {},
   "outputs": [],
   "source": [
    "prediction = model.predict(X_test)"
   ]
  },
  {
   "cell_type": "code",
   "execution_count": 48,
   "metadata": {},
   "outputs": [
    {
     "name": "stdout",
     "output_type": "stream",
     "text": [
      "[[0.]\n",
      " [0.]\n",
      " [0.]\n",
      " [0.]\n",
      " [0.]]\n"
     ]
    }
   ],
   "source": [
    "print(prediction[100:105].round())"
   ]
  },
  {
   "cell_type": "code",
   "execution_count": 49,
   "metadata": {},
   "outputs": [
    {
     "data": {
      "image/png": "[encoded data removed]",
      "text/plain": [
       "<Figure size 432x288 with 1 Axes>"
      ]
     },
     "metadata": {
      "needs_background": "light"
     },
     "output_type": "display_data"
    }
   ],
   "source": [
    "plt.plot(y_test, prediction, '.', alpha=0.2)\n",
    "plt.xlabel('Correct labels')\n",
    "plt.ylabel('Predicted confidence scores')\n",
    "plt.show()"
   ]
  },
  {
   "cell_type": "code",
   "execution_count": 50,
   "metadata": {},
   "outputs": [
    {
     "name": "stdout",
     "output_type": "stream",
     "text": [
      "Accuracy: 98.45%\n",
      "Precision: 98.29%\n",
      "Recall: 88.75%\n",
      "F1-score: 93.28%\n"
     ]
    }
   ],
   "source": [
    "from sklearn.metrics import accuracy_score, precision_score, recall_score, f1_score\n",
    "\n",
    "accuracy=accuracy_score(y_test, prediction.round())\n",
    "precision=precision_score(y_test, prediction.round())\n",
    "recall=recall_score(y_test, prediction.round())\n",
    "f1score=f1_score(y_test, prediction.round())\n",
    "print('Accuracy: %.2f%%' % (accuracy * 100))\n",
    "print('Precision: %.2f%%' % (precision * 100))\n",
    "print('Recall: %.2f%%' % (recall * 100))\n",
    "print('F1-score: %.2f%%' % (f1score * 100))"
   ]
  },
  {
   "cell_type": "code",
   "execution_count": 18,
   "metadata": {},
   "outputs": [],
   "source": [
    "probability_model = tf.keras.Sequential([model, \n",
    "                                         tf.keras.layers.Softmax()])"
   ]
  },
  {
   "cell_type": "code",
   "execution_count": 27,
   "metadata": {},
   "outputs": [
    {
     "data": {
      "text/plain": [
       "array([[0.],\n",
       "       [0.],\n",
       "       [0.],\n",
       "       ...,\n",
       "       [0.],\n",
       "       [0.],\n",
       "       [0.]], dtype=float32)"
      ]
     },
     "execution_count": 27,
     "metadata": {},
     "output_type": "execute_result"
    }
   ],
   "source": [
    "model.predict(X_test).round()"
   ]
  },
  {
   "cell_type": "code",
   "execution_count": 52,
   "metadata": {},
   "outputs": [
    {
     "data": {
      "image/png": "[encoded data removed]",
      "text/plain": [
       "<Figure size 432x288 with 1 Axes>"
      ]
     },
     "metadata": {
      "needs_background": "light"
     },
     "output_type": "display_data"
    }
   ],
   "source": [
    "loss_curve=history.history['loss']\n",
    "acc_curve=history.history['acc']\n",
    "\n",
    "plt.plot(loss_curve, label='Train')\n",
    "plt.legend(loc='upper left')\n",
    "plt.title('Loss')\n",
    "plt.show()"
   ]
  },
  {
   "cell_type": "code",
   "execution_count": 53,
   "metadata": {},
   "outputs": [
    {
     "data": {
      "image/png": "[encoded data removed]",
      "text/plain": [
       "<Figure size 432x288 with 1 Axes>"
      ]
     },
     "metadata": {
      "needs_background": "light"
     },
     "output_type": "display_data"
    }
   ],
   "source": [
    "plt.plot(acc_curve, label='Train')\n",
    "plt.legend(loc='upper left')\n",
    "plt.title('Accuracy')\n",
    "plt.show()"
   ]
  },
  {
   "cell_type": "code",
   "execution_count": null,
   "metadata": {},
   "outputs": [],
   "source": []
  }
 ],
 "metadata": {
  "kernelspec": {
   "display_name": "Python 3",
   "language": "python",
   "name": "python3"
  },
  "language_info": {
   "codemirror_mode": {
    "name": "ipython",
    "version": 3
   },
   "file_extension": ".py",
   "mimetype": "text/x-python",
   "name": "python",
   "nbconvert_exporter": "python",
   "pygments_lexer": "ipython3",
   "version": "3.7.9"
  }
 },
 "nbformat": 4,
 "nbformat_minor": 4
}
