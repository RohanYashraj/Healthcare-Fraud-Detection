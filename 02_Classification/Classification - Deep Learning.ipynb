{
 "cells": [
  {
   "cell_type": "code",
   "execution_count": 5,
   "metadata": {},
   "outputs": [],
   "source": [
    "import pandas as pd\n",
    "import numpy as np\n",
    "import keras\n",
    "from matplotlib import pyplot as plt\n",
    "\n",
    "np.random.seed(2)"
   ]
  },
  {
   "cell_type": "code",
   "execution_count": 154,
   "metadata": {},
   "outputs": [],
   "source": [
    "# Importing the dataset\n",
    "train_df = pd.read_csv('../Data/train.csv')\n",
    "test_df = pd.read_csv('../Data/test.csv')"
   ]
  },
  {
   "cell_type": "code",
   "execution_count": 155,
   "metadata": {},
   "outputs": [],
   "source": [
    "X_train = train_df.iloc[:, :-1]\n",
    "y_train = pd.DataFrame(train_df.iloc[:, -1])\n",
    "X_test = test_df.iloc[:, :-1]\n",
    "y_test = pd.DataFrame(test_df.iloc[:, -1])"
   ]
  },
  {
   "cell_type": "code",
   "execution_count": 4,
   "metadata": {},
   "outputs": [
    {
     "data": {
      "text/plain": [
       "(286940, 98)"
      ]
     },
     "execution_count": 4,
     "metadata": {},
     "output_type": "execute_result"
    }
   ],
   "source": [
    "X_train.shape"
   ]
  },
  {
   "cell_type": "code",
   "execution_count": 5,
   "metadata": {},
   "outputs": [
    {
     "data": {
      "text/plain": [
       "(95647, 98)"
      ]
     },
     "execution_count": 5,
     "metadata": {},
     "output_type": "execute_result"
    }
   ],
   "source": [
    "X_test.shape"
   ]
  },
  {
   "cell_type": "markdown",
   "metadata": {},
   "source": [
    "## Random Forest"
   ]
  },
  {
   "cell_type": "code",
   "execution_count": 6,
   "metadata": {},
   "outputs": [],
   "source": [
    "from sklearn.ensemble import RandomForestClassifier"
   ]
  },
  {
   "cell_type": "code",
   "execution_count": 7,
   "metadata": {},
   "outputs": [],
   "source": [
    "random_forest = RandomForestClassifier(n_estimators=100)"
   ]
  },
  {
   "cell_type": "code",
   "execution_count": 8,
   "metadata": {},
   "outputs": [
    {
     "data": {
      "text/plain": [
       "RandomForestClassifier()"
      ]
     },
     "execution_count": 8,
     "metadata": {},
     "output_type": "execute_result"
    }
   ],
   "source": [
    "# Pandas Series.ravel() function returns the flattened underlying data as an ndarray.\n",
    "random_forest.fit(X_train,y_train.values.ravel())    # np.ravel() Return a contiguous flattened array"
   ]
  },
  {
   "cell_type": "code",
   "execution_count": 9,
   "metadata": {},
   "outputs": [],
   "source": [
    "train_RF = random_forest.predict(X_train)\n",
    "test_RF = random_forest.predict(X_test)"
   ]
  },
  {
   "cell_type": "code",
   "execution_count": 10,
   "metadata": {},
   "outputs": [],
   "source": [
    "y_pred = random_forest.predict(X_test)"
   ]
  },
  {
   "cell_type": "code",
   "execution_count": 11,
   "metadata": {},
   "outputs": [
    {
     "data": {
      "text/plain": [
       "0.9858646899536838"
      ]
     },
     "execution_count": 11,
     "metadata": {},
     "output_type": "execute_result"
    }
   ],
   "source": [
    "random_forest.score(X_test,y_test)"
   ]
  },
  {
   "cell_type": "code",
   "execution_count": 12,
   "metadata": {},
   "outputs": [],
   "source": [
    "# Approach to plot confusion matrix (from scikit-learn.org site)\n",
    "import matplotlib.pyplot as plt\n",
    "import itertools\n",
    "\n",
    "from sklearn import svm, datasets\n",
    "from sklearn.metrics import confusion_matrix\n",
    "\n",
    "def plot_confusion_matrix(cm, classes,\n",
    "                          normalize=False,\n",
    "                          title='Confusion matrix',\n",
    "                          cmap=plt.cm.Blues):\n",
    "    \"\"\"\n",
    "    This function prints and plots the confusion matrix.\n",
    "    Normalization can be applied by setting `normalize=True`.\n",
    "    \"\"\"\n",
    "    if normalize:\n",
    "        cm = cm.astype('float') / cm.sum(axis=1)[:, np.newaxis]\n",
    "        print(\"Normalized confusion matrix\")\n",
    "    else:\n",
    "        print('Confusion matrix, without normalization')\n",
    "\n",
    "    print(cm)\n",
    "\n",
    "    plt.imshow(cm, interpolation='nearest', cmap=cmap)\n",
    "    plt.title(title)\n",
    "    plt.colorbar()\n",
    "    tick_marks = np.arange(len(classes))\n",
    "    plt.xticks(tick_marks, classes, rotation=45)\n",
    "    plt.yticks(tick_marks, classes)\n",
    "\n",
    "    fmt = '.2f' if normalize else 'd'\n",
    "    thresh = cm.max() / 2.\n",
    "    for i, j in itertools.product(range(cm.shape[0]), range(cm.shape[1])):\n",
    "        plt.text(j, i, format(cm[i, j], fmt),\n",
    "                 horizontalalignment=\"center\",\n",
    "                 color=\"white\" if cm[i, j] > thresh else \"black\")\n",
    "\n",
    "    plt.ylabel('True label')\n",
    "    plt.xlabel('Predicted label')\n",
    "    plt.tight_layout()"
   ]
  },
  {
   "cell_type": "code",
   "execution_count": 13,
   "metadata": {},
   "outputs": [
    {
     "name": "stdout",
     "output_type": "stream",
     "text": [
      "Confusion matrix, without normalization\n",
      "[[83867   173]\n",
      " [ 1179 10428]]\n"
     ]
    },
    {
     "data": {
      "image/png": "[encoded data removed]",
      "text/plain": [
       "<Figure size 432x288 with 2 Axes>"
      ]
     },
     "metadata": {
      "needs_background": "light"
     },
     "output_type": "display_data"
    }
   ],
   "source": [
    "# Confusion matrix on the test dataset\n",
    "cnf_matrix = confusion_matrix(y_test,y_pred)\n",
    "plot_confusion_matrix(cnf_matrix,classes=[0,1])"
   ]
  },
  {
   "cell_type": "markdown",
   "metadata": {},
   "source": [
    "- while only 6 regular transactions are wrongly predicted as fraudulent, the model only detects 78% of the fraudulent transactions. As a consequence 33 fraudulent transactions are not detected (False Negatives).\n",
    "- Let's see if we can improve this performance with other machine learning / deep learning models in the rest of the notebook."
   ]
  },
  {
   "cell_type": "code",
   "execution_count": 14,
   "metadata": {},
   "outputs": [
    {
     "name": "stdout",
     "output_type": "stream",
     "text": [
      "accuracy:0.9859 \tprecision:0.9837 \trecall:0.8984 \tF1-score:0.9391\n"
     ]
    }
   ],
   "source": [
    "from sklearn.metrics import accuracy_score, f1_score, precision_score, recall_score, plot_roc_curve\n",
    "acc = accuracy_score(y_test, y_pred)\n",
    "prec = precision_score(y_test, y_pred)\n",
    "rec = recall_score(y_test, y_pred)\n",
    "f1 = f1_score(y_test, y_pred)\n",
    "print('accuracy:%0.4f'%acc,'\\tprecision:%0.4f'%prec,'\\trecall:%0.4f'%rec,'\\tF1-score:%0.4f'%f1)"
   ]
  },
  {
   "cell_type": "markdown",
   "metadata": {},
   "source": [
    "Let's store each model's performance in a dataframe for comparison purpose"
   ]
  },
  {
   "cell_type": "code",
   "execution_count": 15,
   "metadata": {},
   "outputs": [
    {
     "data": {
      "text/html": [
       "<div>\n",
       "<style scoped>\n",
       "    .dataframe tbody tr th:only-of-type {\n",
       "        vertical-align: middle;\n",
       "    }\n",
       "\n",
       "    .dataframe tbody tr th {\n",
       "        vertical-align: top;\n",
       "    }\n",
       "\n",
       "    .dataframe thead th {\n",
       "        text-align: right;\n",
       "    }\n",
       "</style>\n",
       "<table border=\"1\" class=\"dataframe\">\n",
       "  <thead>\n",
       "    <tr style=\"text-align: right;\">\n",
       "      <th></th>\n",
       "      <th>Model</th>\n",
       "      <th>Accuracy</th>\n",
       "      <th>FalseNegRate</th>\n",
       "      <th>Recall</th>\n",
       "      <th>Precision</th>\n",
       "      <th>F1 Score</th>\n",
       "    </tr>\n",
       "  </thead>\n",
       "  <tbody>\n",
       "    <tr>\n",
       "      <th>0</th>\n",
       "      <td>RandomForest</td>\n",
       "      <td>0.985865</td>\n",
       "      <td>0.101577</td>\n",
       "      <td>0.898423</td>\n",
       "      <td>0.983681</td>\n",
       "      <td>0.939121</td>\n",
       "    </tr>\n",
       "  </tbody>\n",
       "</table>\n",
       "</div>"
      ],
      "text/plain": [
       "          Model  Accuracy  FalseNegRate    Recall  Precision  F1 Score\n",
       "0  RandomForest  0.985865      0.101577  0.898423   0.983681  0.939121"
      ]
     },
     "execution_count": 15,
     "metadata": {},
     "output_type": "execute_result"
    }
   ],
   "source": [
    "### Store results in dataframe for comparing various Models\n",
    "results_testset = pd.DataFrame([['RandomForest', acc, 1-rec, rec, prec, f1]],\n",
    "               columns = ['Model', 'Accuracy', 'FalseNegRate', 'Recall', 'Precision', 'F1 Score'])\n",
    "results_testset"
   ]
  },
  {
   "cell_type": "code",
   "execution_count": 16,
   "metadata": {},
   "outputs": [
    {
     "data": {
      "image/png": "[encoded data removed]",
      "text/plain": [
       "<Figure size 432x288 with 1 Axes>"
      ]
     },
     "metadata": {
      "needs_background": "light"
     },
     "output_type": "display_data"
    }
   ],
   "source": [
    "ROC_RF = plot_roc_curve(random_forest, X_test, y_test)\n",
    "plt.show()"
   ]
  },
  {
   "cell_type": "markdown",
   "metadata": {},
   "source": [
    "## Decision trees"
   ]
  },
  {
   "cell_type": "code",
   "execution_count": 17,
   "metadata": {},
   "outputs": [],
   "source": [
    "from sklearn.tree import DecisionTreeClassifier\n",
    "decision_tree = DecisionTreeClassifier()"
   ]
  },
  {
   "cell_type": "code",
   "execution_count": 18,
   "metadata": {},
   "outputs": [
    {
     "data": {
      "text/plain": [
       "DecisionTreeClassifier()"
      ]
     },
     "execution_count": 18,
     "metadata": {},
     "output_type": "execute_result"
    }
   ],
   "source": [
    "decision_tree.fit(X_train,y_train.values.ravel())"
   ]
  },
  {
   "cell_type": "code",
   "execution_count": 19,
   "metadata": {},
   "outputs": [],
   "source": [
    "y_pred = decision_tree.predict(X_test)"
   ]
  },
  {
   "cell_type": "code",
   "execution_count": 20,
   "metadata": {},
   "outputs": [],
   "source": [
    "train_DT = decision_tree.predict(X_train)\n",
    "test_DT = decision_tree.predict(X_test)"
   ]
  },
  {
   "cell_type": "code",
   "execution_count": 21,
   "metadata": {},
   "outputs": [
    {
     "data": {
      "text/plain": [
       "0.9798948215835311"
      ]
     },
     "execution_count": 21,
     "metadata": {},
     "output_type": "execute_result"
    }
   ],
   "source": [
    "decision_tree.score(X_test,y_test)"
   ]
  },
  {
   "cell_type": "code",
   "execution_count": 22,
   "metadata": {},
   "outputs": [
    {
     "name": "stdout",
     "output_type": "stream",
     "text": [
      "Confusion matrix, without normalization\n",
      "[[83029  1011]\n",
      " [  912 10695]]\n"
     ]
    },
    {
     "data": {
      "image/png": "[encoded data removed]",
      "text/plain": [
       "<Figure size 432x288 with 2 Axes>"
      ]
     },
     "metadata": {
      "needs_background": "light"
     },
     "output_type": "display_data"
    }
   ],
   "source": [
    "# Confusion matrix on the test dataset\n",
    "cnf_matrix = confusion_matrix(y_test,y_pred)\n",
    "plot_confusion_matrix(cnf_matrix,classes=[0,1])"
   ]
  },
  {
   "cell_type": "markdown",
   "metadata": {},
   "source": [
    "- The performance of the Decision Tree model is below the one using Random Forest. Let's check the performance indicators."
   ]
  },
  {
   "cell_type": "code",
   "execution_count": 23,
   "metadata": {},
   "outputs": [],
   "source": [
    "acc = accuracy_score(y_test, y_pred)\n",
    "prec = precision_score(y_test, y_pred)\n",
    "rec = recall_score(y_test, y_pred)\n",
    "f1 = f1_score(y_test, y_pred)"
   ]
  },
  {
   "cell_type": "code",
   "execution_count": 24,
   "metadata": {},
   "outputs": [
    {
     "data": {
      "text/html": [
       "<div>\n",
       "<style scoped>\n",
       "    .dataframe tbody tr th:only-of-type {\n",
       "        vertical-align: middle;\n",
       "    }\n",
       "\n",
       "    .dataframe tbody tr th {\n",
       "        vertical-align: top;\n",
       "    }\n",
       "\n",
       "    .dataframe thead th {\n",
       "        text-align: right;\n",
       "    }\n",
       "</style>\n",
       "<table border=\"1\" class=\"dataframe\">\n",
       "  <thead>\n",
       "    <tr style=\"text-align: right;\">\n",
       "      <th></th>\n",
       "      <th>Model</th>\n",
       "      <th>Accuracy</th>\n",
       "      <th>FalseNegRate</th>\n",
       "      <th>Recall</th>\n",
       "      <th>Precision</th>\n",
       "      <th>F1 Score</th>\n",
       "    </tr>\n",
       "  </thead>\n",
       "  <tbody>\n",
       "    <tr>\n",
       "      <th>0</th>\n",
       "      <td>RandomForest</td>\n",
       "      <td>0.985865</td>\n",
       "      <td>0.101577</td>\n",
       "      <td>0.898423</td>\n",
       "      <td>0.983681</td>\n",
       "      <td>0.939121</td>\n",
       "    </tr>\n",
       "    <tr>\n",
       "      <th>1</th>\n",
       "      <td>DecisionTree</td>\n",
       "      <td>0.979895</td>\n",
       "      <td>0.078573</td>\n",
       "      <td>0.921427</td>\n",
       "      <td>0.913634</td>\n",
       "      <td>0.917514</td>\n",
       "    </tr>\n",
       "  </tbody>\n",
       "</table>\n",
       "</div>"
      ],
      "text/plain": [
       "          Model  Accuracy  FalseNegRate    Recall  Precision  F1 Score\n",
       "0  RandomForest  0.985865      0.101577  0.898423   0.983681  0.939121\n",
       "1  DecisionTree  0.979895      0.078573  0.921427   0.913634  0.917514"
      ]
     },
     "execution_count": 24,
     "metadata": {},
     "output_type": "execute_result"
    }
   ],
   "source": [
    "### Store results in dataframe for comparing various Models\n",
    "model_results = pd.DataFrame([['DecisionTree', acc, 1-rec, rec, prec, f1]],\n",
    "               columns = ['Model', 'Accuracy', 'FalseNegRate', 'Recall', 'Precision', 'F1 Score'])\n",
    "results_testset = results_testset.append(model_results, ignore_index = True)\n",
    "results_testset"
   ]
  },
  {
   "cell_type": "code",
   "execution_count": 25,
   "metadata": {},
   "outputs": [
    {
     "data": {
      "image/png": "[encoded data removed]",
      "text/plain": [
       "<Figure size 432x288 with 1 Axes>"
      ]
     },
     "metadata": {
      "needs_background": "light"
     },
     "output_type": "display_data"
    }
   ],
   "source": [
    "ROC_DT = plot_roc_curve(decision_tree, X_test, y_test)\n",
    "plt.show()"
   ]
  },
  {
   "cell_type": "markdown",
   "metadata": {},
   "source": [
    "## Let's now explore Neural Network models"
   ]
  },
  {
   "cell_type": "code",
   "execution_count": 162,
   "metadata": {},
   "outputs": [],
   "source": [
    "X_train = np.array(X_train)\n",
    "X_test = np.array(X_test)\n",
    "y_train = np.array(y_train)\n",
    "y_train_baseline = y_train\n",
    "y_test = np.array(y_test)\n",
    "# y_test_baseline = y_train"
   ]
  },
  {
   "cell_type": "markdown",
   "metadata": {},
   "source": [
    "## Deep neural network\n",
    "- We will use a simple NN made of 5 fully-connected layers with ReLu activation. The NN takes a vector of length 29 as input. This represents the information related to each transactions, ie each line with 98 columns from the dataset. For each transaction, the final layer will output a probability distribution (sigmoid activation function) and classify either as not fraudulent (0) or fraudulent (1).\n",
    "- a dropout step is included to prevent overfitting."
   ]
  },
  {
   "cell_type": "code",
   "execution_count": 1,
   "metadata": {},
   "outputs": [
    {
     "name": "stderr",
     "output_type": "stream",
     "text": [
      "Using TensorFlow backend.\n"
     ]
    }
   ],
   "source": [
    "from keras.models import Sequential\n",
    "from keras.layers import Dense\n",
    "from keras.layers import Dropout"
   ]
  },
  {
   "cell_type": "code",
   "execution_count": 28,
   "metadata": {},
   "outputs": [
    {
     "data": {
      "text/plain": [
       "(286940, 98)"
      ]
     },
     "execution_count": 28,
     "metadata": {},
     "output_type": "execute_result"
    }
   ],
   "source": [
    "X_train.shape"
   ]
  },
  {
   "cell_type": "code",
   "execution_count": 2,
   "metadata": {},
   "outputs": [
    {
     "name": "stdout",
     "output_type": "stream",
     "text": [
      "WARNING:tensorflow:From C:\\Users\\Owner\\AppData\\Roaming\\Python\\Python37\\site-packages\\tensorflow_core\\python\\ops\\resource_variable_ops.py:1630: calling BaseResourceVariable.__init__ (from tensorflow.python.ops.resource_variable_ops) with constraint is deprecated and will be removed in a future version.\n",
      "Instructions for updating:\n",
      "If using Keras pass *_constraint arguments to layers.\n"
     ]
    }
   ],
   "source": [
    "model = Sequential([\n",
    "    Dense(units=49, input_dim = 98,activation='relu'),   # input of 98 columns as shown above\n",
    "    Dense(units=80,activation='relu'),\n",
    "    Dropout(0.5),\n",
    "    Dense(80,activation='relu'),\n",
    "    Dense(49,activation='relu'),\n",
    "    Dense(1,activation='sigmoid'),                        # binary classification fraudulent or not\n",
    "])"
   ]
  },
  {
   "cell_type": "code",
   "execution_count": 3,
   "metadata": {},
   "outputs": [
    {
     "name": "stdout",
     "output_type": "stream",
     "text": [
      "Model: \"sequential_1\"\n",
      "_________________________________________________________________\n",
      "Layer (type)                 Output Shape              Param #   \n",
      "=================================================================\n",
      "dense_1 (Dense)              (None, 49)                4851      \n",
      "_________________________________________________________________\n",
      "dense_2 (Dense)              (None, 80)                4000      \n",
      "_________________________________________________________________\n",
      "dropout_1 (Dropout)          (None, 80)                0         \n",
      "_________________________________________________________________\n",
      "dense_3 (Dense)              (None, 80)                6480      \n",
      "_________________________________________________________________\n",
      "dense_4 (Dense)              (None, 49)                3969      \n",
      "_________________________________________________________________\n",
      "dense_5 (Dense)              (None, 1)                 50        \n",
      "=================================================================\n",
      "Total params: 19,350\n",
      "Trainable params: 19,350\n",
      "Non-trainable params: 0\n",
      "_________________________________________________________________\n"
     ]
    }
   ],
   "source": [
    "model.summary()"
   ]
  },
  {
   "cell_type": "code",
   "execution_count": 4,
   "metadata": {},
   "outputs": [],
   "source": [
    "with open('modelsummary.txt', 'w') as f:\n",
    "    model.summary(print_fn=lambda x: f.write(x + '\\n'))"
   ]
  },
  {
   "cell_type": "markdown",
   "metadata": {},
   "source": [
    "## Training"
   ]
  },
  {
   "cell_type": "code",
   "execution_count": 31,
   "metadata": {},
   "outputs": [
    {
     "name": "stdout",
     "output_type": "stream",
     "text": [
      "WARNING:tensorflow:From C:\\Users\\Owner\\AppData\\Roaming\\Python\\Python37\\site-packages\\tensorflow_core\\python\\ops\\nn_impl.py:183: where (from tensorflow.python.ops.array_ops) is deprecated and will be removed in a future version.\n",
      "Instructions for updating:\n",
      "Use tf.where in 2.0, which has the same broadcast rule as np.where\n",
      "WARNING:tensorflow:From C:\\Users\\Owner\\Anaconda3\\lib\\site-packages\\keras\\backend\\tensorflow_backend.py:422: The name tf.global_variables is deprecated. Please use tf.compat.v1.global_variables instead.\n",
      "\n",
      "Epoch 1/20\n",
      "286940/286940 [==============================] - 7s 24us/step - loss: 0.0806 - accuracy: 0.9743\n",
      "Epoch 2/20\n",
      "286940/286940 [==============================] - 6s 21us/step - loss: 0.0589 - accuracy: 0.9807\n",
      "Epoch 3/20\n",
      "286940/286940 [==============================] - 6s 22us/step - loss: 0.0555 - accuracy: 0.9820\n",
      "Epoch 4/20\n",
      "286940/286940 [==============================] - 6s 21us/step - loss: 0.0538 - accuracy: 0.9825\n",
      "Epoch 5/20\n",
      "286940/286940 [==============================] - 6s 22us/step - loss: 0.0527 - accuracy: 0.9828\n",
      "Epoch 6/20\n",
      "286940/286940 [==============================] - 6s 22us/step - loss: 0.0516 - accuracy: 0.9830\n",
      "Epoch 7/20\n",
      "286940/286940 [==============================] - 6s 22us/step - loss: 0.0504 - accuracy: 0.9833\n",
      "Epoch 8/20\n",
      "286940/286940 [==============================] - 6s 21us/step - loss: 0.0499 - accuracy: 0.9834\n",
      "Epoch 9/20\n",
      "286940/286940 [==============================] - 6s 21us/step - loss: 0.0494 - accuracy: 0.9836\n",
      "Epoch 10/20\n",
      "286940/286940 [==============================] - 6s 21us/step - loss: 0.0489 - accuracy: 0.9836\n",
      "Epoch 11/20\n",
      "286940/286940 [==============================] - 6s 22us/step - loss: 0.0484 - accuracy: 0.9839\n",
      "Epoch 12/20\n",
      "286940/286940 [==============================] - 6s 22us/step - loss: 0.0482 - accuracy: 0.9839\n",
      "Epoch 13/20\n",
      "286940/286940 [==============================] - 6s 22us/step - loss: 0.0477 - accuracy: 0.9840\n",
      "Epoch 14/20\n",
      "286940/286940 [==============================] - 6s 22us/step - loss: 0.0475 - accuracy: 0.9840\n",
      "Epoch 15/20\n",
      "286940/286940 [==============================] - 6s 21us/step - loss: 0.0472 - accuracy: 0.9841\n",
      "Epoch 16/20\n",
      "286940/286940 [==============================] - 6s 22us/step - loss: 0.0470 - accuracy: 0.9842\n",
      "Epoch 17/20\n",
      "286940/286940 [==============================] - 6s 21us/step - loss: 0.0467 - accuracy: 0.9844\n",
      "Epoch 18/20\n",
      "286940/286940 [==============================] - 6s 21us/step - loss: 0.0465 - accuracy: 0.9842\n",
      "Epoch 19/20\n",
      "286940/286940 [==============================] - 6s 21us/step - loss: 0.0464 - accuracy: 0.9844\n",
      "Epoch 20/20\n",
      "286940/286940 [==============================] - 6s 21us/step - loss: 0.0461 - accuracy: 0.9844\n"
     ]
    },
    {
     "data": {
      "text/plain": [
       "<keras.callbacks.callbacks.History at 0x241800c1708>"
      ]
     },
     "execution_count": 31,
     "metadata": {},
     "output_type": "execute_result"
    }
   ],
   "source": [
    "model.compile(optimizer='adam',loss='binary_crossentropy',metrics=['accuracy'])\n",
    "model.fit(X_train,y_train,batch_size=200,epochs=20)"
   ]
  },
  {
   "cell_type": "code",
   "execution_count": 32,
   "metadata": {},
   "outputs": [],
   "source": [
    "train_predictions_baseline = model.predict(X_train)\n",
    "test_predictions_baseline = model.predict(X_test)"
   ]
  },
  {
   "cell_type": "code",
   "execution_count": 33,
   "metadata": {},
   "outputs": [
    {
     "name": "stdout",
     "output_type": "stream",
     "text": [
      "95647/95647 [==============================] - 2s 26us/step\n"
     ]
    }
   ],
   "source": [
    "score = model.evaluate(X_test, y_test)"
   ]
  },
  {
   "cell_type": "code",
   "execution_count": 34,
   "metadata": {},
   "outputs": [
    {
     "name": "stdout",
     "output_type": "stream",
     "text": [
      "[0.04659001041607836, 0.9845055341720581]\n"
     ]
    }
   ],
   "source": [
    "print(score)"
   ]
  },
  {
   "cell_type": "markdown",
   "metadata": {},
   "source": [
    "- The model achieves an accuracy of 99.94% ! Is this a good performance ?\n",
    "- Remember that our dataset is significantly composed of non fraudulent samples with only 172 fraudulent transactions per 100,000. Consequently, a model predicting every transaction as 'non fraudulent' would achieve 99.83% accuracy despite being unable to detect a single fraudulent case !"
   ]
  },
  {
   "cell_type": "code",
   "execution_count": 35,
   "metadata": {},
   "outputs": [
    {
     "name": "stdout",
     "output_type": "stream",
     "text": [
      "Test Data Accuracy: 0.9845\n"
     ]
    },
    {
     "data": {
      "image/png": "[encoded data removed]",
      "text/plain": [
       "<Figure size 720x504 with 2 Axes>"
      ]
     },
     "metadata": {
      "needs_background": "light"
     },
     "output_type": "display_data"
    }
   ],
   "source": [
    "## Confusion Matrix on unsee test set\n",
    "import seaborn as sn\n",
    "y_pred = model.predict(X_test)\n",
    "for i in range(len(y_test)):\n",
    "    if y_pred[i]>0.5:\n",
    "        y_pred[i]=1 \n",
    "    else:\n",
    "        y_pred[i]=0\n",
    "cm = confusion_matrix(y_test, y_pred) # rows = truth, cols = prediction\n",
    "df_cm = pd.DataFrame(cm, index = (0, 1), columns = (0, 1))\n",
    "plt.figure(figsize = (10,7))\n",
    "#sn.set(font_scale=1.4)\n",
    "sn.heatmap(df_cm, annot=True, fmt='g')\n",
    "print(\"Test Data Accuracy: %0.4f\" % accuracy_score(y_test, y_pred))"
   ]
  },
  {
   "cell_type": "markdown",
   "metadata": {},
   "source": [
    "Detection of fraudulent transactions did not improve compared to the previous machine learning models.\n",
    "- 115 fraudulent transactions are detected as fraudulent by the model, yet 32 fraudulent transactions are not identified (false negative) which remains an issue. Our objective must be to detect as many fraudulent transactions as possible since these can have a huge negative impact.\n",
    "- 21 regular transactions are detected as potentially fraudulent by the model. These are false positive. This number is negligible.\n",
    "\n",
    "Conclusion : We must find ways to further reduce the number of false negative."
   ]
  },
  {
   "cell_type": "code",
   "execution_count": 36,
   "metadata": {},
   "outputs": [],
   "source": [
    "# Alternative approach to plot confusion matrix (from scikit-learn.org site)\n",
    "y_pred = model.predict(X_test)\n",
    "y_test = pd.DataFrame(y_test)    # Pandas format required by confusion_matrix function"
   ]
  },
  {
   "cell_type": "code",
   "execution_count": 37,
   "metadata": {},
   "outputs": [],
   "source": [
    "cnf_matrix = confusion_matrix(y_test, y_pred.round())   # y_pred.round() to convert probability to either 0 or 1 in line with y_test"
   ]
  },
  {
   "cell_type": "code",
   "execution_count": 38,
   "metadata": {},
   "outputs": [
    {
     "name": "stdout",
     "output_type": "stream",
     "text": [
      "[[83921   119]\n",
      " [ 1363 10244]]\n"
     ]
    }
   ],
   "source": [
    "print(cnf_matrix)"
   ]
  },
  {
   "cell_type": "code",
   "execution_count": 39,
   "metadata": {},
   "outputs": [
    {
     "name": "stdout",
     "output_type": "stream",
     "text": [
      "Confusion matrix, without normalization\n",
      "[[83921   119]\n",
      " [ 1363 10244]]\n"
     ]
    },
    {
     "data": {
      "image/png": "[encoded data removed]",
      "text/plain": [
       "<Figure size 432x288 with 2 Axes>"
      ]
     },
     "metadata": {
      "needs_background": "light"
     },
     "output_type": "display_data"
    }
   ],
   "source": [
    "plot_confusion_matrix(cnf_matrix, classes=[0,1])\n",
    "plt.show()"
   ]
  },
  {
   "cell_type": "code",
   "execution_count": 40,
   "metadata": {},
   "outputs": [],
   "source": [
    "acc = accuracy_score(y_test, y_pred.round())\n",
    "prec = precision_score(y_test, y_pred.round())\n",
    "rec = recall_score(y_test, y_pred.round())\n",
    "f1 = f1_score(y_test, y_pred.round())"
   ]
  },
  {
   "cell_type": "code",
   "execution_count": 41,
   "metadata": {},
   "outputs": [
    {
     "data": {
      "text/html": [
       "<div>\n",
       "<style scoped>\n",
       "    .dataframe tbody tr th:only-of-type {\n",
       "        vertical-align: middle;\n",
       "    }\n",
       "\n",
       "    .dataframe tbody tr th {\n",
       "        vertical-align: top;\n",
       "    }\n",
       "\n",
       "    .dataframe thead th {\n",
       "        text-align: right;\n",
       "    }\n",
       "</style>\n",
       "<table border=\"1\" class=\"dataframe\">\n",
       "  <thead>\n",
       "    <tr style=\"text-align: right;\">\n",
       "      <th></th>\n",
       "      <th>Model</th>\n",
       "      <th>Accuracy</th>\n",
       "      <th>FalseNegRate</th>\n",
       "      <th>Recall</th>\n",
       "      <th>Precision</th>\n",
       "      <th>F1 Score</th>\n",
       "    </tr>\n",
       "  </thead>\n",
       "  <tbody>\n",
       "    <tr>\n",
       "      <th>0</th>\n",
       "      <td>RandomForest</td>\n",
       "      <td>0.985865</td>\n",
       "      <td>0.101577</td>\n",
       "      <td>0.898423</td>\n",
       "      <td>0.983681</td>\n",
       "      <td>0.939121</td>\n",
       "    </tr>\n",
       "    <tr>\n",
       "      <th>1</th>\n",
       "      <td>DecisionTree</td>\n",
       "      <td>0.979895</td>\n",
       "      <td>0.078573</td>\n",
       "      <td>0.921427</td>\n",
       "      <td>0.913634</td>\n",
       "      <td>0.917514</td>\n",
       "    </tr>\n",
       "    <tr>\n",
       "      <th>2</th>\n",
       "      <td>PlainNeuralNetwork</td>\n",
       "      <td>0.984506</td>\n",
       "      <td>0.117429</td>\n",
       "      <td>0.882571</td>\n",
       "      <td>0.988517</td>\n",
       "      <td>0.932544</td>\n",
       "    </tr>\n",
       "  </tbody>\n",
       "</table>\n",
       "</div>"
      ],
      "text/plain": [
       "                Model  Accuracy  FalseNegRate    Recall  Precision  F1 Score\n",
       "0        RandomForest  0.985865      0.101577  0.898423   0.983681  0.939121\n",
       "1        DecisionTree  0.979895      0.078573  0.921427   0.913634  0.917514\n",
       "2  PlainNeuralNetwork  0.984506      0.117429  0.882571   0.988517  0.932544"
      ]
     },
     "execution_count": 41,
     "metadata": {},
     "output_type": "execute_result"
    }
   ],
   "source": [
    "### Store results in dataframe for comparing various Models\n",
    "model_results = pd.DataFrame([['PlainNeuralNetwork', acc, 1-rec, rec, prec, f1]],\n",
    "               columns = ['Model', 'Accuracy', 'FalseNegRate', 'Recall', 'Precision', 'F1 Score'])\n",
    "results_testset = results_testset.append(model_results, ignore_index = True)\n",
    "results_testset"
   ]
  },
  {
   "cell_type": "markdown",
   "metadata": {},
   "source": [
    "### Weighted loss to account for large class imbalance in train dataset\n",
    "- we will adjust the class imbalance by giving additional weight to the loss associated to errors made on fraudulent transaction detection. Let's review the process:"
   ]
  },
  {
   "cell_type": "code",
   "execution_count": 42,
   "metadata": {},
   "outputs": [
    {
     "name": "stderr",
     "output_type": "stream",
     "text": [
      "C:\\Users\\Owner\\Anaconda3\\lib\\site-packages\\sklearn\\utils\\validation.py:70: FutureWarning: Pass classes=[0 1], y=[1 0 0 ... 0 0 0] as keyword args. From version 0.25 passing these as positional arguments will result in an error\n",
      "  FutureWarning)\n"
     ]
    },
    {
     "data": {
      "text/plain": [
       "{0: 0.5689934839597537, 1: 4.123530595234674}"
      ]
     },
     "execution_count": 42,
     "metadata": {},
     "output_type": "execute_result"
    }
   ],
   "source": [
    "from sklearn.utils import class_weight\n",
    "class_weights = class_weight.compute_class_weight('balanced', np.unique(y_train), np.array([y_train[i][0] for i in range(len(y_train))]))\n",
    "class_weights = dict(enumerate(class_weights))\n",
    "class_weights"
   ]
  },
  {
   "cell_type": "markdown",
   "metadata": {},
   "source": [
    "- The class 'Fraudulent' (y=1) is assigned a weight of 289 vs 0.5 for the class 'not fraudulent' due to the very low prevalence we detected during data exploration. This allows the model to give more importance to the errors made on fraudulent cases during training."
   ]
  },
  {
   "cell_type": "code",
   "execution_count": 43,
   "metadata": {},
   "outputs": [
    {
     "name": "stdout",
     "output_type": "stream",
     "text": [
      "Epoch 1/20\n",
      "286940/286940 [==============================] - 6s 22us/step - loss: 0.0899 - accuracy: 0.9627\n",
      "Epoch 2/20\n",
      "286940/286940 [==============================] - 6s 22us/step - loss: 0.0868 - accuracy: 0.9595\n",
      "Epoch 3/20\n",
      "286940/286940 [==============================] - 6s 22us/step - loss: 0.0867 - accuracy: 0.9607\n",
      "Epoch 4/20\n",
      "286940/286940 [==============================] - 6s 22us/step - loss: 0.0858 - accuracy: 0.9593\n",
      "Epoch 5/20\n",
      "286940/286940 [==============================] - 6s 22us/step - loss: 0.0854 - accuracy: 0.9603\n",
      "Epoch 6/20\n",
      "286940/286940 [==============================] - 6s 22us/step - loss: 0.0854 - accuracy: 0.9609\n",
      "Epoch 7/20\n",
      "286940/286940 [==============================] - 6s 22us/step - loss: 0.0849 - accuracy: 0.9613\n",
      "Epoch 8/20\n",
      "286940/286940 [==============================] - 6s 22us/step - loss: 0.0845 - accuracy: 0.9602\n",
      "Epoch 9/20\n",
      "286940/286940 [==============================] - 6s 22us/step - loss: 0.0850 - accuracy: 0.9602\n",
      "Epoch 10/20\n",
      "286940/286940 [==============================] - 7s 23us/step - loss: 0.0841 - accuracy: 0.9608\n",
      "Epoch 11/20\n",
      "286940/286940 [==============================] - 6s 21us/step - loss: 0.0837 - accuracy: 0.9611\n",
      "Epoch 12/20\n",
      "286940/286940 [==============================] - 6s 22us/step - loss: 0.0840 - accuracy: 0.9603\n",
      "Epoch 13/20\n",
      "286940/286940 [==============================] - 6s 23us/step - loss: 0.0841 - accuracy: 0.9606\n",
      "Epoch 14/20\n",
      "286940/286940 [==============================] - 6s 22us/step - loss: 0.0837 - accuracy: 0.9612\n",
      "Epoch 15/20\n",
      "286940/286940 [==============================] - 6s 22us/step - loss: 0.0830 - accuracy: 0.9608\n",
      "Epoch 16/20\n",
      "286940/286940 [==============================] - 6s 21us/step - loss: 0.0828 - accuracy: 0.9601\n",
      "Epoch 17/20\n",
      "286940/286940 [==============================] - 6s 22us/step - loss: 0.0829 - accuracy: 0.9600\n",
      "Epoch 18/20\n",
      "286940/286940 [==============================] - 6s 22us/step - loss: 0.0827 - accuracy: 0.9591\n",
      "Epoch 19/20\n",
      "286940/286940 [==============================] - 6s 22us/step - loss: 0.0830 - accuracy: 0.9605\n",
      "Epoch 20/20\n",
      "286940/286940 [==============================] - 7s 24us/step - loss: 0.0825 - accuracy: 0.9592\n"
     ]
    },
    {
     "data": {
      "text/plain": [
       "<keras.callbacks.callbacks.History at 0x241809bcdc8>"
      ]
     },
     "execution_count": 43,
     "metadata": {},
     "output_type": "execute_result"
    }
   ],
   "source": [
    "model.fit(X_train,y_train,batch_size=200,epochs=20, class_weight=class_weights, shuffle=True)"
   ]
  },
  {
   "cell_type": "code",
   "execution_count": 188,
   "metadata": {},
   "outputs": [],
   "source": [
    "train_predictions_weighted = model.predict(X_train)\n",
    "test_predictions_weighted = model.predict(X_test)"
   ]
  },
  {
   "cell_type": "code",
   "execution_count": 45,
   "metadata": {},
   "outputs": [
    {
     "name": "stdout",
     "output_type": "stream",
     "text": [
      "95647/95647 [==============================] - 2s 22us/step\n"
     ]
    }
   ],
   "source": [
    "score_weighted = model.evaluate(X_test, y_test)"
   ]
  },
  {
   "cell_type": "code",
   "execution_count": 46,
   "metadata": {},
   "outputs": [
    {
     "name": "stdout",
     "output_type": "stream",
     "text": [
      "[0.0817875347964686, 0.9616820216178894]\n"
     ]
    }
   ],
   "source": [
    "print(score_weighted)"
   ]
  },
  {
   "cell_type": "code",
   "execution_count": 47,
   "metadata": {},
   "outputs": [
    {
     "name": "stdout",
     "output_type": "stream",
     "text": [
      "Test Data Accuracy: 0.9617\n"
     ]
    },
    {
     "data": {
      "image/png": "[encoded data removed]",
      "text/plain": [
       "<Figure size 720x504 with 2 Axes>"
      ]
     },
     "metadata": {
      "needs_background": "light"
     },
     "output_type": "display_data"
    }
   ],
   "source": [
    "## Confusion Matrix on unseen test set\n",
    "y_pred = model.predict(X_test)\n",
    "for i in range(len(y_test)):\n",
    "    if y_pred[i]>0.5:\n",
    "        y_pred[i]=1 \n",
    "    else:\n",
    "        y_pred[i]=0\n",
    "cm = confusion_matrix(y_test, y_pred) # rows = truth, cols = prediction\n",
    "df_cm = pd.DataFrame(cm, index = (0, 1), columns = (0, 1))\n",
    "plt.figure(figsize = (10,7))\n",
    "#sn.set(font_scale=1.4)\n",
    "sn.heatmap(df_cm, annot=True, fmt='g')\n",
    "print(\"Test Data Accuracy: %0.4f\" % accuracy_score(y_test, y_pred))"
   ]
  },
  {
   "cell_type": "markdown",
   "metadata": {},
   "source": [
    "- The accuracy reduced a bit. We need to look at more detailed evaluation measures like precision and recall to gauge the true model performance.\n",
    "- The model is actually much better at detecting fraudulent cases now. We have a lower False negative rate which is the key criteria for our purpose (detect a fraud when there is one).\n",
    "- But on the other hand, the model generates an excessive number of false positive compared to the previous approaches. "
   ]
  },
  {
   "cell_type": "code",
   "execution_count": 48,
   "metadata": {},
   "outputs": [],
   "source": [
    "acc = accuracy_score(y_test, y_pred.round())\n",
    "prec = precision_score(y_test, y_pred.round())\n",
    "rec = recall_score(y_test, y_pred.round())\n",
    "f1 = f1_score(y_test, y_pred.round())"
   ]
  },
  {
   "cell_type": "code",
   "execution_count": 49,
   "metadata": {},
   "outputs": [
    {
     "data": {
      "text/html": [
       "<div>\n",
       "<style scoped>\n",
       "    .dataframe tbody tr th:only-of-type {\n",
       "        vertical-align: middle;\n",
       "    }\n",
       "\n",
       "    .dataframe tbody tr th {\n",
       "        vertical-align: top;\n",
       "    }\n",
       "\n",
       "    .dataframe thead th {\n",
       "        text-align: right;\n",
       "    }\n",
       "</style>\n",
       "<table border=\"1\" class=\"dataframe\">\n",
       "  <thead>\n",
       "    <tr style=\"text-align: right;\">\n",
       "      <th></th>\n",
       "      <th>Model</th>\n",
       "      <th>Accuracy</th>\n",
       "      <th>FalseNegRate</th>\n",
       "      <th>Recall</th>\n",
       "      <th>Precision</th>\n",
       "      <th>F1 Score</th>\n",
       "    </tr>\n",
       "  </thead>\n",
       "  <tbody>\n",
       "    <tr>\n",
       "      <th>0</th>\n",
       "      <td>RandomForest</td>\n",
       "      <td>0.985865</td>\n",
       "      <td>0.101577</td>\n",
       "      <td>0.898423</td>\n",
       "      <td>0.983681</td>\n",
       "      <td>0.939121</td>\n",
       "    </tr>\n",
       "    <tr>\n",
       "      <th>1</th>\n",
       "      <td>DecisionTree</td>\n",
       "      <td>0.979895</td>\n",
       "      <td>0.078573</td>\n",
       "      <td>0.921427</td>\n",
       "      <td>0.913634</td>\n",
       "      <td>0.917514</td>\n",
       "    </tr>\n",
       "    <tr>\n",
       "      <th>2</th>\n",
       "      <td>PlainNeuralNetwork</td>\n",
       "      <td>0.984506</td>\n",
       "      <td>0.117429</td>\n",
       "      <td>0.882571</td>\n",
       "      <td>0.988517</td>\n",
       "      <td>0.932544</td>\n",
       "    </tr>\n",
       "    <tr>\n",
       "      <th>3</th>\n",
       "      <td>WeightedNeuralNetwork</td>\n",
       "      <td>0.961682</td>\n",
       "      <td>0.058155</td>\n",
       "      <td>0.941845</td>\n",
       "      <td>0.785232</td>\n",
       "      <td>0.856438</td>\n",
       "    </tr>\n",
       "  </tbody>\n",
       "</table>\n",
       "</div>"
      ],
      "text/plain": [
       "                   Model  Accuracy  FalseNegRate    Recall  Precision  \\\n",
       "0           RandomForest  0.985865      0.101577  0.898423   0.983681   \n",
       "1           DecisionTree  0.979895      0.078573  0.921427   0.913634   \n",
       "2     PlainNeuralNetwork  0.984506      0.117429  0.882571   0.988517   \n",
       "3  WeightedNeuralNetwork  0.961682      0.058155  0.941845   0.785232   \n",
       "\n",
       "   F1 Score  \n",
       "0  0.939121  \n",
       "1  0.917514  \n",
       "2  0.932544  \n",
       "3  0.856438  "
      ]
     },
     "execution_count": 49,
     "metadata": {},
     "output_type": "execute_result"
    }
   ],
   "source": [
    "### Store results in dataframe for comparing various Models\n",
    "model_results = pd.DataFrame([['WeightedNeuralNetwork', acc, 1-rec, rec, prec, f1]],\n",
    "               columns = ['Model', 'Accuracy', 'FalseNegRate', 'Recall', 'Precision', 'F1 Score'])\n",
    "results_testset = results_testset.append(model_results, ignore_index = True)\n",
    "results_testset"
   ]
  },
  {
   "cell_type": "markdown",
   "metadata": {},
   "source": [
    "- Although the recall metric improves, the F1-score collapses due to extremely poor precision. Given the very high number of transactions processed, the excessive number of false positives is clearly an issue."
   ]
  },
  {
   "cell_type": "markdown",
   "metadata": {},
   "source": [
    "## Undersampling\n",
    "- In order to balance the train set, another technique is undersampling. With this technique, we adjust the largest class to match the number of samples of the under-represented class. Here we want to randomly pick an amount of non-fraudulent transactions equal to the number of fraudulent transactions in the dataset."
   ]
  },
  {
   "cell_type": "code",
   "execution_count": 133,
   "metadata": {},
   "outputs": [],
   "source": [
    "data = pd.read_csv('../Data/df_final_preprocessed.csv')"
   ]
  },
  {
   "cell_type": "code",
   "execution_count": 134,
   "metadata": {},
   "outputs": [
    {
     "data": {
      "text/plain": [
       "(382587, 99)"
      ]
     },
     "execution_count": 134,
     "metadata": {},
     "output_type": "execute_result"
    }
   ],
   "source": [
    "data.shape"
   ]
  },
  {
   "cell_type": "code",
   "execution_count": 135,
   "metadata": {},
   "outputs": [
    {
     "name": "stdout",
     "output_type": "stream",
     "text": [
      "46400\n"
     ]
    }
   ],
   "source": [
    "fraud_indices = np.array(data[data['FraudFound'] == 1].index)\n",
    "number_records_fraud = len(fraud_indices)\n",
    "print(number_records_fraud)"
   ]
  },
  {
   "cell_type": "code",
   "execution_count": 136,
   "metadata": {},
   "outputs": [],
   "source": [
    "normal_indices = data[data['FraudFound'] == 0].index"
   ]
  },
  {
   "cell_type": "code",
   "execution_count": 137,
   "metadata": {},
   "outputs": [
    {
     "data": {
      "text/plain": [
       "336187"
      ]
     },
     "execution_count": 137,
     "metadata": {},
     "output_type": "execute_result"
    }
   ],
   "source": [
    "len(normal_indices)"
   ]
  },
  {
   "cell_type": "code",
   "execution_count": 138,
   "metadata": {},
   "outputs": [
    {
     "name": "stdout",
     "output_type": "stream",
     "text": [
      "46400\n"
     ]
    }
   ],
   "source": [
    "# Random select N indices from non fraudulent samples (N equals to number of fraudulent records)\n",
    "random_normal_indices = np.random.choice(normal_indices, number_records_fraud, replace=False)\n",
    "random_normal_indices = np.array(random_normal_indices)\n",
    "print(len(random_normal_indices))"
   ]
  },
  {
   "cell_type": "code",
   "execution_count": 139,
   "metadata": {},
   "outputs": [
    {
     "name": "stdout",
     "output_type": "stream",
     "text": [
      "92800\n"
     ]
    }
   ],
   "source": [
    "under_sample_indices = np.concatenate([fraud_indices,random_normal_indices])\n",
    "print(len(under_sample_indices))"
   ]
  },
  {
   "cell_type": "code",
   "execution_count": 140,
   "metadata": {},
   "outputs": [],
   "source": [
    "under_sample_data = data.iloc[under_sample_indices,:]"
   ]
  },
  {
   "cell_type": "code",
   "execution_count": 141,
   "metadata": {},
   "outputs": [],
   "source": [
    "X_undersample = under_sample_data.iloc[:,under_sample_data.columns != 'FraudFound']\n",
    "y_undersample = under_sample_data.iloc[:,under_sample_data.columns == 'FraudFound']"
   ]
  },
  {
   "cell_type": "code",
   "execution_count": 142,
   "metadata": {},
   "outputs": [],
   "source": [
    "from sklearn.model_selection import train_test_split\n",
    "X_train, X_test, y_train, y_test = train_test_split(X_undersample,y_undersample, test_size=0.3)"
   ]
  },
  {
   "cell_type": "code",
   "execution_count": 143,
   "metadata": {},
   "outputs": [],
   "source": [
    "X_train = np.array(X_train)\n",
    "X_test = np.array(X_test)\n",
    "y_train = np.array(y_train)\n",
    "y_train_undersampled = y_train\n",
    "y_test = np.array(y_test)\n",
    "y_test_undersampled = y_test"
   ]
  },
  {
   "cell_type": "code",
   "execution_count": 144,
   "metadata": {},
   "outputs": [
    {
     "name": "stdout",
     "output_type": "stream",
     "text": [
      "Model: \"sequential_4\"\n",
      "_________________________________________________________________\n",
      "Layer (type)                 Output Shape              Param #   \n",
      "=================================================================\n",
      "dense_16 (Dense)             (None, 49)                4851      \n",
      "_________________________________________________________________\n",
      "dense_17 (Dense)             (None, 80)                4000      \n",
      "_________________________________________________________________\n",
      "dropout_4 (Dropout)          (None, 80)                0         \n",
      "_________________________________________________________________\n",
      "dense_18 (Dense)             (None, 80)                6480      \n",
      "_________________________________________________________________\n",
      "dense_19 (Dense)             (None, 49)                3969      \n",
      "_________________________________________________________________\n",
      "dense_20 (Dense)             (None, 1)                 50        \n",
      "=================================================================\n",
      "Total params: 19,350\n",
      "Trainable params: 19,350\n",
      "Non-trainable params: 0\n",
      "_________________________________________________________________\n"
     ]
    }
   ],
   "source": [
    "model.summary()"
   ]
  },
  {
   "cell_type": "code",
   "execution_count": 145,
   "metadata": {},
   "outputs": [
    {
     "name": "stdout",
     "output_type": "stream",
     "text": [
      "Epoch 1/20\n",
      "64960/64960 [==============================] - 3s 44us/step - loss: 0.0892 - accuracy: 0.9509\n",
      "Epoch 2/20\n",
      "64960/64960 [==============================] - 2s 33us/step - loss: 0.0856 - accuracy: 0.9525\n",
      "Epoch 3/20\n",
      "64960/64960 [==============================] - 2s 32us/step - loss: 0.0841 - accuracy: 0.9542\n",
      "Epoch 4/20\n",
      "64960/64960 [==============================] - 2s 32us/step - loss: 0.0839 - accuracy: 0.9538\n",
      "Epoch 5/20\n",
      "64960/64960 [==============================] - 2s 30us/step - loss: 0.0836 - accuracy: 0.9541\n",
      "Epoch 6/20\n",
      "64960/64960 [==============================] - 2s 24us/step - loss: 0.0826 - accuracy: 0.9545\n",
      "Epoch 7/20\n",
      "64960/64960 [==============================] - 2s 24us/step - loss: 0.0825 - accuracy: 0.9551\n",
      "Epoch 8/20\n",
      "64960/64960 [==============================] - 2s 24us/step - loss: 0.0824 - accuracy: 0.9554\n",
      "Epoch 9/20\n",
      "64960/64960 [==============================] - 2s 25us/step - loss: 0.0818 - accuracy: 0.9556\n",
      "Epoch 10/20\n",
      "64960/64960 [==============================] - 2s 27us/step - loss: 0.0818 - accuracy: 0.9554\n",
      "Epoch 11/20\n",
      "64960/64960 [==============================] - 2s 26us/step - loss: 0.0810 - accuracy: 0.9554\n",
      "Epoch 12/20\n",
      "64960/64960 [==============================] - 2s 26us/step - loss: 0.0811 - accuracy: 0.9554 0s - los\n",
      "Epoch 13/20\n",
      "64960/64960 [==============================] - 1s 22us/step - loss: 0.0810 - accuracy: 0.9559\n",
      "Epoch 14/20\n",
      "64960/64960 [==============================] - 1s 22us/step - loss: 0.0801 - accuracy: 0.9558\n",
      "Epoch 15/20\n",
      "64960/64960 [==============================] - 1s 22us/step - loss: 0.0809 - accuracy: 0.9562\n",
      "Epoch 16/20\n",
      "64960/64960 [==============================] - 1s 22us/step - loss: 0.0804 - accuracy: 0.9565\n",
      "Epoch 17/20\n",
      "64960/64960 [==============================] - 1s 22us/step - loss: 0.0792 - accuracy: 0.9566\n",
      "Epoch 18/20\n",
      "64960/64960 [==============================] - 1s 22us/step - loss: 0.0791 - accuracy: 0.9561\n",
      "Epoch 19/20\n",
      "64960/64960 [==============================] - 1s 22us/step - loss: 0.0794 - accuracy: 0.9559\n",
      "Epoch 20/20\n",
      "64960/64960 [==============================] - 1s 22us/step - loss: 0.0797 - accuracy: 0.9572\n"
     ]
    },
    {
     "data": {
      "text/plain": [
       "<keras.callbacks.callbacks.History at 0x2418117c308>"
      ]
     },
     "execution_count": 145,
     "metadata": {},
     "output_type": "execute_result"
    }
   ],
   "source": [
    "model.compile(optimizer='adam',loss='binary_crossentropy',metrics=['accuracy'])\n",
    "model.fit(X_train,y_train,batch_size=200,epochs=20)"
   ]
  },
  {
   "cell_type": "code",
   "execution_count": 146,
   "metadata": {},
   "outputs": [],
   "source": [
    "train_predictions_undersampled = model.predict(X_train)\n",
    "test_predictions_undersampled = model.predict(X_test)"
   ]
  },
  {
   "cell_type": "code",
   "execution_count": 147,
   "metadata": {},
   "outputs": [
    {
     "name": "stdout",
     "output_type": "stream",
     "text": [
      "Confusion matrix, without normalization\n",
      "[[13527   453]\n",
      " [  868 12992]]\n"
     ]
    },
    {
     "data": {
      "image/png": "[encoded data removed]",
      "text/plain": [
       "<Figure size 864x720 with 2 Axes>"
      ]
     },
     "metadata": {
      "needs_background": "light"
     },
     "output_type": "display_data"
    }
   ],
   "source": [
    "y_pred = model.predict(X_test)\n",
    "y_expected = pd.DataFrame(y_test)\n",
    "cnf_matrix = confusion_matrix(y_expected, y_pred.round())\n",
    "plot_confusion_matrix(cnf_matrix, classes=[0,1])\n",
    "plt.show()"
   ]
  },
  {
   "cell_type": "markdown",
   "metadata": {},
   "source": [
    "- The metrics look pretty strong on the test set...."
   ]
  },
  {
   "cell_type": "code",
   "execution_count": 148,
   "metadata": {},
   "outputs": [],
   "source": [
    "acc = accuracy_score(y_test, y_pred.round())\n",
    "prec = precision_score(y_test, y_pred.round())\n",
    "rec = recall_score(y_test, y_pred.round())\n",
    "f1 = f1_score(y_test, y_pred.round())"
   ]
  },
  {
   "cell_type": "code",
   "execution_count": 149,
   "metadata": {},
   "outputs": [
    {
     "data": {
      "text/html": [
       "<div>\n",
       "<style scoped>\n",
       "    .dataframe tbody tr th:only-of-type {\n",
       "        vertical-align: middle;\n",
       "    }\n",
       "\n",
       "    .dataframe tbody tr th {\n",
       "        vertical-align: top;\n",
       "    }\n",
       "\n",
       "    .dataframe thead th {\n",
       "        text-align: right;\n",
       "    }\n",
       "</style>\n",
       "<table border=\"1\" class=\"dataframe\">\n",
       "  <thead>\n",
       "    <tr style=\"text-align: right;\">\n",
       "      <th></th>\n",
       "      <th>Model</th>\n",
       "      <th>Accuracy</th>\n",
       "      <th>FalseNegRate</th>\n",
       "      <th>Recall</th>\n",
       "      <th>Precision</th>\n",
       "      <th>F1 Score</th>\n",
       "    </tr>\n",
       "  </thead>\n",
       "  <tbody>\n",
       "    <tr>\n",
       "      <th>0</th>\n",
       "      <td>RandomForest</td>\n",
       "      <td>0.985865</td>\n",
       "      <td>0.101577</td>\n",
       "      <td>0.898423</td>\n",
       "      <td>0.983681</td>\n",
       "      <td>0.939121</td>\n",
       "    </tr>\n",
       "    <tr>\n",
       "      <th>1</th>\n",
       "      <td>DecisionTree</td>\n",
       "      <td>0.979895</td>\n",
       "      <td>0.078573</td>\n",
       "      <td>0.921427</td>\n",
       "      <td>0.913634</td>\n",
       "      <td>0.917514</td>\n",
       "    </tr>\n",
       "    <tr>\n",
       "      <th>2</th>\n",
       "      <td>PlainNeuralNetwork</td>\n",
       "      <td>0.984506</td>\n",
       "      <td>0.117429</td>\n",
       "      <td>0.882571</td>\n",
       "      <td>0.988517</td>\n",
       "      <td>0.932544</td>\n",
       "    </tr>\n",
       "    <tr>\n",
       "      <th>3</th>\n",
       "      <td>WeightedNeuralNetwork</td>\n",
       "      <td>0.961682</td>\n",
       "      <td>0.058155</td>\n",
       "      <td>0.941845</td>\n",
       "      <td>0.785232</td>\n",
       "      <td>0.856438</td>\n",
       "    </tr>\n",
       "    <tr>\n",
       "      <th>4</th>\n",
       "      <td>UnderSampledNeuralNetwork</td>\n",
       "      <td>0.955172</td>\n",
       "      <td>0.050503</td>\n",
       "      <td>0.949497</td>\n",
       "      <td>0.959775</td>\n",
       "      <td>0.954608</td>\n",
       "    </tr>\n",
       "    <tr>\n",
       "      <th>5</th>\n",
       "      <td>OverSampledNeuralNetwork</td>\n",
       "      <td>0.946794</td>\n",
       "      <td>0.046696</td>\n",
       "      <td>0.953304</td>\n",
       "      <td>0.708750</td>\n",
       "      <td>0.813035</td>\n",
       "    </tr>\n",
       "    <tr>\n",
       "      <th>6</th>\n",
       "      <td>OverSampledNeuralNetwork</td>\n",
       "      <td>0.906061</td>\n",
       "      <td>0.017834</td>\n",
       "      <td>0.982166</td>\n",
       "      <td>0.564972</td>\n",
       "      <td>0.717319</td>\n",
       "    </tr>\n",
       "    <tr>\n",
       "      <th>7</th>\n",
       "      <td>OverSampledNeuralNetwork</td>\n",
       "      <td>0.984380</td>\n",
       "      <td>0.120531</td>\n",
       "      <td>0.879469</td>\n",
       "      <td>0.990779</td>\n",
       "      <td>0.931812</td>\n",
       "    </tr>\n",
       "    <tr>\n",
       "      <th>8</th>\n",
       "      <td>UnderSampledNeuralNetwork</td>\n",
       "      <td>0.952550</td>\n",
       "      <td>0.062626</td>\n",
       "      <td>0.937374</td>\n",
       "      <td>0.966307</td>\n",
       "      <td>0.951621</td>\n",
       "    </tr>\n",
       "  </tbody>\n",
       "</table>\n",
       "</div>"
      ],
      "text/plain": [
       "                       Model  Accuracy  FalseNegRate    Recall  Precision  \\\n",
       "0               RandomForest  0.985865      0.101577  0.898423   0.983681   \n",
       "1               DecisionTree  0.979895      0.078573  0.921427   0.913634   \n",
       "2         PlainNeuralNetwork  0.984506      0.117429  0.882571   0.988517   \n",
       "3      WeightedNeuralNetwork  0.961682      0.058155  0.941845   0.785232   \n",
       "4  UnderSampledNeuralNetwork  0.955172      0.050503  0.949497   0.959775   \n",
       "5   OverSampledNeuralNetwork  0.946794      0.046696  0.953304   0.708750   \n",
       "6   OverSampledNeuralNetwork  0.906061      0.017834  0.982166   0.564972   \n",
       "7   OverSampledNeuralNetwork  0.984380      0.120531  0.879469   0.990779   \n",
       "8  UnderSampledNeuralNetwork  0.952550      0.062626  0.937374   0.966307   \n",
       "\n",
       "   F1 Score  \n",
       "0  0.939121  \n",
       "1  0.917514  \n",
       "2  0.932544  \n",
       "3  0.856438  \n",
       "4  0.954608  \n",
       "5  0.813035  \n",
       "6  0.717319  \n",
       "7  0.931812  \n",
       "8  0.951621  "
      ]
     },
     "execution_count": 149,
     "metadata": {},
     "output_type": "execute_result"
    }
   ],
   "source": [
    "### Store results in dataframe for comparing various Models\n",
    "model_results = pd.DataFrame([['UnderSampledNeuralNetwork', acc, 1-rec, rec, prec, f1]],\n",
    "               columns = ['Model', 'Accuracy', 'FalseNegRate', 'Recall', 'Precision', 'F1 Score'])\n",
    "results_testset = results_testset.append(model_results, ignore_index = True)\n",
    "results_testset"
   ]
  },
  {
   "cell_type": "markdown",
   "metadata": {},
   "source": [
    "....But the model fails on non fraudulent transactions as shown below."
   ]
  },
  {
   "cell_type": "markdown",
   "metadata": {},
   "source": [
    "## Oversampling technique using SMOTE\n",
    "(Synthetic Minority Oversample TEchnique)\n",
    "- the alternative to down-sampling is the upsampling of the minority class to the same level as the dominant one.\n",
    "- This can be achieved with the SMOTE method where a new vector is generated between 2 existing datapoints. Applying this technique allows to massively increase the number of fraudulent transactions"
   ]
  },
  {
   "cell_type": "code",
   "execution_count": 123,
   "metadata": {},
   "outputs": [],
   "source": [
    "train_df = pd.read_csv(\"../Data/SMOTE/SMOTE.csv\")\n",
    "test_df = pd.read_csv(\"../Data/test.csv\")"
   ]
  },
  {
   "cell_type": "code",
   "execution_count": 124,
   "metadata": {},
   "outputs": [],
   "source": [
    "X_train = train_df.iloc[:, :-1]\n",
    "y_train = pd.DataFrame(train_df.iloc[:, -1])\n",
    "X_test = test_df.iloc[:, :-1]\n",
    "y_test = pd.DataFrame(test_df.iloc[:, -1])"
   ]
  },
  {
   "cell_type": "code",
   "execution_count": 125,
   "metadata": {},
   "outputs": [],
   "source": [
    "X_train = np.array(X_train)\n",
    "X_test = np.array(X_test)\n",
    "y_train = np.array(y_train)\n",
    "y_train_SMOTE = y_train\n",
    "y_test = np.array(y_test)"
   ]
  },
  {
   "cell_type": "code",
   "execution_count": 70,
   "metadata": {},
   "outputs": [],
   "source": [
    "model = Sequential([\n",
    "    Dense(units=49, input_dim = 98,activation='relu'),   # input of 98 columns as shown above\n",
    "    Dense(units=80,activation='relu'),\n",
    "    Dropout(0.5),\n",
    "    Dense(80,activation='relu'),\n",
    "    Dense(49,activation='relu'),\n",
    "    Dense(1,activation='sigmoid'),                        # binary classification fraudulent or not\n",
    "])"
   ]
  },
  {
   "cell_type": "code",
   "execution_count": 71,
   "metadata": {},
   "outputs": [
    {
     "name": "stdout",
     "output_type": "stream",
     "text": [
      "Epoch 1/20\n",
      "504294/504294 [==============================] - 12s 25us/step - loss: 0.1178 - accuracy: 0.9407\n",
      "Epoch 2/20\n",
      "504294/504294 [==============================] - 12s 23us/step - loss: 0.0920 - accuracy: 0.9519\n",
      "Epoch 3/20\n",
      "504294/504294 [==============================] - 11s 23us/step - loss: 0.0871 - accuracy: 0.9547\n",
      "Epoch 4/20\n",
      "504294/504294 [==============================] - 12s 23us/step - loss: 0.0838 - accuracy: 0.9565\n",
      "Epoch 5/20\n",
      "504294/504294 [==============================] - 11s 23us/step - loss: 0.0816 - accuracy: 0.9578\n",
      "Epoch 6/20\n",
      "504294/504294 [==============================] - 12s 23us/step - loss: 0.0799 - accuracy: 0.9591\n",
      "Epoch 7/20\n",
      "504294/504294 [==============================] - 12s 23us/step - loss: 0.0787 - accuracy: 0.9598\n",
      "Epoch 8/20\n",
      "504294/504294 [==============================] - 11s 23us/step - loss: 0.0777 - accuracy: 0.9604\n",
      "Epoch 9/20\n",
      "504294/504294 [==============================] - 11s 23us/step - loss: 0.0767 - accuracy: 0.9610\n",
      "Epoch 10/20\n",
      "504294/504294 [==============================] - 12s 23us/step - loss: 0.0758 - accuracy: 0.9618\n",
      "Epoch 11/20\n",
      "504294/504294 [==============================] - 11s 23us/step - loss: 0.0751 - accuracy: 0.9620\n",
      "Epoch 12/20\n",
      "504294/504294 [==============================] - 12s 23us/step - loss: 0.0747 - accuracy: 0.9624\n",
      "Epoch 13/20\n",
      "504294/504294 [==============================] - 12s 23us/step - loss: 0.0738 - accuracy: 0.9632\n",
      "Epoch 14/20\n",
      "504294/504294 [==============================] - 11s 23us/step - loss: 0.0733 - accuracy: 0.9632\n",
      "Epoch 15/20\n",
      "504294/504294 [==============================] - 12s 23us/step - loss: 0.0728 - accuracy: 0.9638\n",
      "Epoch 16/20\n",
      "504294/504294 [==============================] - 11s 23us/step - loss: 0.0724 - accuracy: 0.9638\n",
      "Epoch 17/20\n",
      "504294/504294 [==============================] - 11s 23us/step - loss: 0.0717 - accuracy: 0.9643\n",
      "Epoch 18/20\n",
      "504294/504294 [==============================] - 12s 23us/step - loss: 0.0714 - accuracy: 0.9645\n",
      "Epoch 19/20\n",
      "504294/504294 [==============================] - 11s 23us/step - loss: 0.0707 - accuracy: 0.9653\n",
      "Epoch 20/20\n",
      "504294/504294 [==============================] - 13s 25us/step - loss: 0.0704 - accuracy: 0.9651\n"
     ]
    },
    {
     "data": {
      "text/plain": [
       "<keras.callbacks.callbacks.History at 0x24180a2d448>"
      ]
     },
     "execution_count": 71,
     "metadata": {},
     "output_type": "execute_result"
    }
   ],
   "source": [
    "model.compile(optimizer='adam',loss='binary_crossentropy',metrics=['accuracy'])\n",
    "model.fit(X_train,y_train,batch_size=200,epochs=20)"
   ]
  },
  {
   "cell_type": "code",
   "execution_count": 72,
   "metadata": {},
   "outputs": [],
   "source": [
    "train_predictions_oversampled_SMOTE = model.predict(X_train)\n",
    "test_predictions_oversampled_SMOTE = model.predict(X_test)"
   ]
  },
  {
   "cell_type": "code",
   "execution_count": 73,
   "metadata": {},
   "outputs": [
    {
     "name": "stdout",
     "output_type": "stream",
     "text": [
      "Confusion matrix, without normalization\n",
      "[[79493  4547]\n",
      " [  542 11065]]\n"
     ]
    },
    {
     "data": {
      "image/png": "[encoded data removed]",
      "text/plain": [
       "<Figure size 432x288 with 2 Axes>"
      ]
     },
     "metadata": {
      "needs_background": "light"
     },
     "output_type": "display_data"
    }
   ],
   "source": [
    "y_pred = model.predict(X_test)\n",
    "y_expected = pd.DataFrame(y_test)\n",
    "cnf_matrix = confusion_matrix(y_expected, y_pred.round())\n",
    "plot_confusion_matrix(cnf_matrix, classes=[0,1])\n",
    "plt.show()"
   ]
  },
  {
   "cell_type": "markdown",
   "metadata": {},
   "source": [
    "- Notice the absence of False Negatives. The model is able to detect all fraudulent transactions on the unseen test set."
   ]
  },
  {
   "cell_type": "code",
   "execution_count": 74,
   "metadata": {},
   "outputs": [],
   "source": [
    "acc = accuracy_score(y_test, y_pred.round())\n",
    "prec = precision_score(y_test, y_pred.round())\n",
    "rec = recall_score(y_test, y_pred.round())\n",
    "f1 = f1_score(y_test, y_pred.round())"
   ]
  },
  {
   "cell_type": "code",
   "execution_count": 75,
   "metadata": {
    "scrolled": true
   },
   "outputs": [
    {
     "data": {
      "text/html": [
       "<div>\n",
       "<style scoped>\n",
       "    .dataframe tbody tr th:only-of-type {\n",
       "        vertical-align: middle;\n",
       "    }\n",
       "\n",
       "    .dataframe tbody tr th {\n",
       "        vertical-align: top;\n",
       "    }\n",
       "\n",
       "    .dataframe thead th {\n",
       "        text-align: right;\n",
       "    }\n",
       "</style>\n",
       "<table border=\"1\" class=\"dataframe\">\n",
       "  <thead>\n",
       "    <tr style=\"text-align: right;\">\n",
       "      <th></th>\n",
       "      <th>Model</th>\n",
       "      <th>Accuracy</th>\n",
       "      <th>FalseNegRate</th>\n",
       "      <th>Recall</th>\n",
       "      <th>Precision</th>\n",
       "      <th>F1 Score</th>\n",
       "    </tr>\n",
       "  </thead>\n",
       "  <tbody>\n",
       "    <tr>\n",
       "      <th>0</th>\n",
       "      <td>RandomForest</td>\n",
       "      <td>0.985865</td>\n",
       "      <td>0.101577</td>\n",
       "      <td>0.898423</td>\n",
       "      <td>0.983681</td>\n",
       "      <td>0.939121</td>\n",
       "    </tr>\n",
       "    <tr>\n",
       "      <th>1</th>\n",
       "      <td>DecisionTree</td>\n",
       "      <td>0.979895</td>\n",
       "      <td>0.078573</td>\n",
       "      <td>0.921427</td>\n",
       "      <td>0.913634</td>\n",
       "      <td>0.917514</td>\n",
       "    </tr>\n",
       "    <tr>\n",
       "      <th>2</th>\n",
       "      <td>PlainNeuralNetwork</td>\n",
       "      <td>0.984506</td>\n",
       "      <td>0.117429</td>\n",
       "      <td>0.882571</td>\n",
       "      <td>0.988517</td>\n",
       "      <td>0.932544</td>\n",
       "    </tr>\n",
       "    <tr>\n",
       "      <th>3</th>\n",
       "      <td>WeightedNeuralNetwork</td>\n",
       "      <td>0.961682</td>\n",
       "      <td>0.058155</td>\n",
       "      <td>0.941845</td>\n",
       "      <td>0.785232</td>\n",
       "      <td>0.856438</td>\n",
       "    </tr>\n",
       "    <tr>\n",
       "      <th>4</th>\n",
       "      <td>UnderSampledNeuralNetwork</td>\n",
       "      <td>0.955172</td>\n",
       "      <td>0.050503</td>\n",
       "      <td>0.949497</td>\n",
       "      <td>0.959775</td>\n",
       "      <td>0.954608</td>\n",
       "    </tr>\n",
       "    <tr>\n",
       "      <th>5</th>\n",
       "      <td>OverSampledNeuralNetwork</td>\n",
       "      <td>0.946794</td>\n",
       "      <td>0.046696</td>\n",
       "      <td>0.953304</td>\n",
       "      <td>0.708750</td>\n",
       "      <td>0.813035</td>\n",
       "    </tr>\n",
       "  </tbody>\n",
       "</table>\n",
       "</div>"
      ],
      "text/plain": [
       "                       Model  Accuracy  FalseNegRate    Recall  Precision  \\\n",
       "0               RandomForest  0.985865      0.101577  0.898423   0.983681   \n",
       "1               DecisionTree  0.979895      0.078573  0.921427   0.913634   \n",
       "2         PlainNeuralNetwork  0.984506      0.117429  0.882571   0.988517   \n",
       "3      WeightedNeuralNetwork  0.961682      0.058155  0.941845   0.785232   \n",
       "4  UnderSampledNeuralNetwork  0.955172      0.050503  0.949497   0.959775   \n",
       "5   OverSampledNeuralNetwork  0.946794      0.046696  0.953304   0.708750   \n",
       "\n",
       "   F1 Score  \n",
       "0  0.939121  \n",
       "1  0.917514  \n",
       "2  0.932544  \n",
       "3  0.856438  \n",
       "4  0.954608  \n",
       "5  0.813035  "
      ]
     },
     "execution_count": 75,
     "metadata": {},
     "output_type": "execute_result"
    }
   ],
   "source": [
    "### Store results in dataframe for comparing various Models\n",
    "model_results = pd.DataFrame([['OverSampledNeuralNetwork', acc, 1-rec, rec, prec, f1]],\n",
    "               columns = ['Model', 'Accuracy', 'FalseNegRate', 'Recall', 'Precision', 'F1 Score'])\n",
    "results_testset = results_testset.append(model_results, ignore_index = True)\n",
    "results_testset"
   ]
  },
  {
   "cell_type": "markdown",
   "metadata": {},
   "source": [
    "## Oversampling technique using ADASYN\n",
    "(Synthetic Minority Oversample TEchnique)\n",
    "- the alternative to down-sampling is the upsampling of the minority class to the same level as the dominant one.\n",
    "- This can be achieved with the SMOTE method where a new vector is generated between 2 existing datapoints. Applying this technique allows to massively increase the number of fraudulent transactions"
   ]
  },
  {
   "cell_type": "code",
   "execution_count": 126,
   "metadata": {},
   "outputs": [],
   "source": [
    "train_df = pd.read_csv(\"../Data/ADASYN/ADASYN.csv\")\n",
    "test_df = pd.read_csv(\"../Data/test.csv\")"
   ]
  },
  {
   "cell_type": "code",
   "execution_count": 127,
   "metadata": {},
   "outputs": [],
   "source": [
    "X_train = train_df.iloc[:, :-1]\n",
    "y_train = pd.DataFrame(train_df.iloc[:, -1])\n",
    "X_test = test_df.iloc[:, :-1]\n",
    "y_test = pd.DataFrame(test_df.iloc[:, -1])"
   ]
  },
  {
   "cell_type": "code",
   "execution_count": 128,
   "metadata": {},
   "outputs": [],
   "source": [
    "X_train = np.array(X_train)\n",
    "X_test = np.array(X_test)\n",
    "y_train = np.array(y_train)\n",
    "y_train_ADASYN = y_train\n",
    "y_test = np.array(y_test)"
   ]
  },
  {
   "cell_type": "code",
   "execution_count": 79,
   "metadata": {},
   "outputs": [],
   "source": [
    "model = Sequential([\n",
    "    Dense(units=49, input_dim = 98,activation='relu'),   # input of 98 columns as shown above\n",
    "    Dense(units=80,activation='relu'),\n",
    "    Dropout(0.5),\n",
    "    Dense(80,activation='relu'),\n",
    "    Dense(49,activation='relu'),\n",
    "    Dense(1,activation='sigmoid'),                        # binary classification fraudulent or not\n",
    "])"
   ]
  },
  {
   "cell_type": "code",
   "execution_count": 80,
   "metadata": {},
   "outputs": [
    {
     "name": "stdout",
     "output_type": "stream",
     "text": [
      "Epoch 1/20\n",
      "505860/505860 [==============================] - 13s 25us/step - loss: 0.2286 - accuracy: 0.9069\n",
      "Epoch 2/20\n",
      "505860/505860 [==============================] - 12s 24us/step - loss: 0.1831 - accuracy: 0.9299\n",
      "Epoch 3/20\n",
      "505860/505860 [==============================] - 12s 24us/step - loss: 0.1726 - accuracy: 0.9345\n",
      "Epoch 4/20\n",
      "505860/505860 [==============================] - 12s 24us/step - loss: 0.1653 - accuracy: 0.9373\n",
      "Epoch 5/20\n",
      "505860/505860 [==============================] - 12s 24us/step - loss: 0.1603 - accuracy: 0.9394\n",
      "Epoch 6/20\n",
      "505860/505860 [==============================] - 12s 24us/step - loss: 0.1565 - accuracy: 0.9413\n",
      "Epoch 7/20\n",
      "505860/505860 [==============================] - 13s 25us/step - loss: 0.1537 - accuracy: 0.9425\n",
      "Epoch 8/20\n",
      "505860/505860 [==============================] - 13s 25us/step - loss: 0.1511 - accuracy: 0.9439\n",
      "Epoch 9/20\n",
      "505860/505860 [==============================] - 12s 24us/step - loss: 0.1489 - accuracy: 0.9450\n",
      "Epoch 10/20\n",
      "505860/505860 [==============================] - 12s 24us/step - loss: 0.1470 - accuracy: 0.9459\n",
      "Epoch 11/20\n",
      "505860/505860 [==============================] - 12s 24us/step - loss: 0.1452 - accuracy: 0.9467\n",
      "Epoch 12/20\n",
      "505860/505860 [==============================] - 12s 25us/step - loss: 0.1434 - accuracy: 0.9475\n",
      "Epoch 13/20\n",
      "505860/505860 [==============================] - 12s 24us/step - loss: 0.1419 - accuracy: 0.9482\n",
      "Epoch 14/20\n",
      "505860/505860 [==============================] - 12s 24us/step - loss: 0.1409 - accuracy: 0.9488\n",
      "Epoch 15/20\n",
      "505860/505860 [==============================] - 13s 26us/step - loss: 0.1395 - accuracy: 0.9494\n",
      "Epoch 16/20\n",
      "505860/505860 [==============================] - 14s 27us/step - loss: 0.1381 - accuracy: 0.9498\n",
      "Epoch 17/20\n",
      "505860/505860 [==============================] - 14s 27us/step - loss: 0.1372 - accuracy: 0.9504\n",
      "Epoch 18/20\n",
      "505860/505860 [==============================] - 12s 25us/step - loss: 0.1364 - accuracy: 0.9508\n",
      "Epoch 19/20\n",
      "505860/505860 [==============================] - 12s 24us/step - loss: 0.1353 - accuracy: 0.9514\n",
      "Epoch 20/20\n",
      "505860/505860 [==============================] - 13s 26us/step - loss: 0.1350 - accuracy: 0.9515\n"
     ]
    },
    {
     "data": {
      "text/plain": [
       "<keras.callbacks.callbacks.History at 0x2418097a888>"
      ]
     },
     "execution_count": 80,
     "metadata": {},
     "output_type": "execute_result"
    }
   ],
   "source": [
    "model.compile(optimizer='adam',loss='binary_crossentropy',metrics=['accuracy'])\n",
    "model.fit(X_train,y_train,batch_size=200,epochs=20)"
   ]
  },
  {
   "cell_type": "code",
   "execution_count": 81,
   "metadata": {},
   "outputs": [],
   "source": [
    "train_predictions_oversampled_ADASYN = model.predict(X_train)\n",
    "test_predictions_oversampled_ADASYN = model.predict(X_test)"
   ]
  },
  {
   "cell_type": "code",
   "execution_count": 82,
   "metadata": {},
   "outputs": [
    {
     "name": "stdout",
     "output_type": "stream",
     "text": [
      "Confusion matrix, without normalization\n",
      "[[75262  8778]\n",
      " [  207 11400]]\n"
     ]
    },
    {
     "data": {
      "image/png": "[encoded data removed]",
      "text/plain": [
       "<Figure size 432x288 with 2 Axes>"
      ]
     },
     "metadata": {
      "needs_background": "light"
     },
     "output_type": "display_data"
    }
   ],
   "source": [
    "y_pred = model.predict(X_test)\n",
    "y_expected = pd.DataFrame(y_test)\n",
    "cnf_matrix = confusion_matrix(y_expected, y_pred.round())\n",
    "plot_confusion_matrix(cnf_matrix, classes=[0,1])\n",
    "plt.show()"
   ]
  },
  {
   "cell_type": "markdown",
   "metadata": {},
   "source": [
    "- Notice the absence of False Negatives. The model is able to detect all fraudulent transactions on the unseen test set."
   ]
  },
  {
   "cell_type": "code",
   "execution_count": 83,
   "metadata": {},
   "outputs": [],
   "source": [
    "acc = accuracy_score(y_test, y_pred.round())\n",
    "prec = precision_score(y_test, y_pred.round())\n",
    "rec = recall_score(y_test, y_pred.round())\n",
    "f1 = f1_score(y_test, y_pred.round())"
   ]
  },
  {
   "cell_type": "code",
   "execution_count": 84,
   "metadata": {
    "scrolled": false
   },
   "outputs": [
    {
     "data": {
      "text/html": [
       "<div>\n",
       "<style scoped>\n",
       "    .dataframe tbody tr th:only-of-type {\n",
       "        vertical-align: middle;\n",
       "    }\n",
       "\n",
       "    .dataframe tbody tr th {\n",
       "        vertical-align: top;\n",
       "    }\n",
       "\n",
       "    .dataframe thead th {\n",
       "        text-align: right;\n",
       "    }\n",
       "</style>\n",
       "<table border=\"1\" class=\"dataframe\">\n",
       "  <thead>\n",
       "    <tr style=\"text-align: right;\">\n",
       "      <th></th>\n",
       "      <th>Model</th>\n",
       "      <th>Accuracy</th>\n",
       "      <th>FalseNegRate</th>\n",
       "      <th>Recall</th>\n",
       "      <th>Precision</th>\n",
       "      <th>F1 Score</th>\n",
       "    </tr>\n",
       "  </thead>\n",
       "  <tbody>\n",
       "    <tr>\n",
       "      <th>0</th>\n",
       "      <td>RandomForest</td>\n",
       "      <td>0.985865</td>\n",
       "      <td>0.101577</td>\n",
       "      <td>0.898423</td>\n",
       "      <td>0.983681</td>\n",
       "      <td>0.939121</td>\n",
       "    </tr>\n",
       "    <tr>\n",
       "      <th>1</th>\n",
       "      <td>DecisionTree</td>\n",
       "      <td>0.979895</td>\n",
       "      <td>0.078573</td>\n",
       "      <td>0.921427</td>\n",
       "      <td>0.913634</td>\n",
       "      <td>0.917514</td>\n",
       "    </tr>\n",
       "    <tr>\n",
       "      <th>2</th>\n",
       "      <td>PlainNeuralNetwork</td>\n",
       "      <td>0.984506</td>\n",
       "      <td>0.117429</td>\n",
       "      <td>0.882571</td>\n",
       "      <td>0.988517</td>\n",
       "      <td>0.932544</td>\n",
       "    </tr>\n",
       "    <tr>\n",
       "      <th>3</th>\n",
       "      <td>WeightedNeuralNetwork</td>\n",
       "      <td>0.961682</td>\n",
       "      <td>0.058155</td>\n",
       "      <td>0.941845</td>\n",
       "      <td>0.785232</td>\n",
       "      <td>0.856438</td>\n",
       "    </tr>\n",
       "    <tr>\n",
       "      <th>4</th>\n",
       "      <td>UnderSampledNeuralNetwork</td>\n",
       "      <td>0.955172</td>\n",
       "      <td>0.050503</td>\n",
       "      <td>0.949497</td>\n",
       "      <td>0.959775</td>\n",
       "      <td>0.954608</td>\n",
       "    </tr>\n",
       "    <tr>\n",
       "      <th>5</th>\n",
       "      <td>OverSampledNeuralNetwork</td>\n",
       "      <td>0.946794</td>\n",
       "      <td>0.046696</td>\n",
       "      <td>0.953304</td>\n",
       "      <td>0.708750</td>\n",
       "      <td>0.813035</td>\n",
       "    </tr>\n",
       "    <tr>\n",
       "      <th>6</th>\n",
       "      <td>OverSampledNeuralNetwork</td>\n",
       "      <td>0.906061</td>\n",
       "      <td>0.017834</td>\n",
       "      <td>0.982166</td>\n",
       "      <td>0.564972</td>\n",
       "      <td>0.717319</td>\n",
       "    </tr>\n",
       "  </tbody>\n",
       "</table>\n",
       "</div>"
      ],
      "text/plain": [
       "                       Model  Accuracy  FalseNegRate    Recall  Precision  \\\n",
       "0               RandomForest  0.985865      0.101577  0.898423   0.983681   \n",
       "1               DecisionTree  0.979895      0.078573  0.921427   0.913634   \n",
       "2         PlainNeuralNetwork  0.984506      0.117429  0.882571   0.988517   \n",
       "3      WeightedNeuralNetwork  0.961682      0.058155  0.941845   0.785232   \n",
       "4  UnderSampledNeuralNetwork  0.955172      0.050503  0.949497   0.959775   \n",
       "5   OverSampledNeuralNetwork  0.946794      0.046696  0.953304   0.708750   \n",
       "6   OverSampledNeuralNetwork  0.906061      0.017834  0.982166   0.564972   \n",
       "\n",
       "   F1 Score  \n",
       "0  0.939121  \n",
       "1  0.917514  \n",
       "2  0.932544  \n",
       "3  0.856438  \n",
       "4  0.954608  \n",
       "5  0.813035  \n",
       "6  0.717319  "
      ]
     },
     "execution_count": 84,
     "metadata": {},
     "output_type": "execute_result"
    }
   ],
   "source": [
    "### Store results in dataframe for comparing various Models\n",
    "model_results = pd.DataFrame([['OverSampledNeuralNetwork', acc, 1-rec, rec, prec, f1]],\n",
    "               columns = ['Model', 'Accuracy', 'FalseNegRate', 'Recall', 'Precision', 'F1 Score'])\n",
    "results_testset = results_testset.append(model_results, ignore_index = True)\n",
    "results_testset"
   ]
  },
  {
   "cell_type": "markdown",
   "metadata": {},
   "source": [
    "All metrics are excellent for this last model."
   ]
  },
  {
   "cell_type": "markdown",
   "metadata": {},
   "source": [
    "## Oversampling technique using TGANs\n",
    "(Synthetic Minority Oversample TEchnique)\n",
    "- the alternative to down-sampling is the upsampling of the minority class to the same level as the dominant one.\n",
    "- This can be achieved with the SMOTE method where a new vector is generated between 2 existing datapoints. Applying this technique allows to massively increase the number of fraudulent transactions"
   ]
  },
  {
   "cell_type": "code",
   "execution_count": 85,
   "metadata": {},
   "outputs": [],
   "source": [
    "def plot_roc(name, labels, predictions, **kwargs):\n",
    "  fp, tp, _ = sklearn.metrics.roc_curve(labels, predictions)\n",
    "\n",
    "  plt.plot(100*fp, 100*tp, label=name, linewidth=2, **kwargs)\n",
    "  plt.xlabel('False positives [%]')\n",
    "  plt.ylabel('True positives [%]')\n",
    "  plt.xlim([-0.5,20])\n",
    "  plt.ylim([80,100.5])\n",
    "  plt.grid(True)\n",
    "  ax = plt.gca()\n",
    "  ax.set_aspect('equal')"
   ]
  },
  {
   "cell_type": "code",
   "execution_count": 86,
   "metadata": {},
   "outputs": [],
   "source": [
    "import matplotlib as mpl\n",
    "import matplotlib.pyplot as plt\n",
    "import sklearn"
   ]
  },
  {
   "cell_type": "code",
   "execution_count": 87,
   "metadata": {},
   "outputs": [],
   "source": [
    "mpl.rcParams['figure.figsize'] = (12, 10)\n",
    "colors = plt.rcParams['axes.prop_cycle'].by_key()['color']"
   ]
  },
  {
   "cell_type": "code",
   "execution_count": 129,
   "metadata": {},
   "outputs": [],
   "source": [
    "train_df = pd.read_csv(\"../Data/TGAN/TGAN.csv\")\n",
    "test_df = pd.read_csv(\"../Data/test.csv\")"
   ]
  },
  {
   "cell_type": "code",
   "execution_count": 130,
   "metadata": {},
   "outputs": [],
   "source": [
    "X_train = train_df.iloc[:, :-1]\n",
    "y_train = pd.DataFrame(train_df.iloc[:, -1])\n",
    "X_test = test_df.iloc[:, :-1]\n",
    "y_test = pd.DataFrame(test_df.iloc[:, -1])"
   ]
  },
  {
   "cell_type": "code",
   "execution_count": 131,
   "metadata": {},
   "outputs": [],
   "source": [
    "X_train = np.array(X_train)\n",
    "X_test = np.array(X_test)\n",
    "y_train = np.array(y_train)\n",
    "y_train_TGAN = y_train\n",
    "y_test = np.array(y_test)"
   ]
  },
  {
   "cell_type": "code",
   "execution_count": 91,
   "metadata": {},
   "outputs": [],
   "source": [
    "model = Sequential([\n",
    "    Dense(units=49, input_dim = 98,activation='relu'),   # input of 98 columns as shown above\n",
    "    Dense(units=80,activation='relu'),\n",
    "    Dropout(0.5),\n",
    "    Dense(80,activation='relu'),\n",
    "    Dense(49,activation='relu'),\n",
    "    Dense(1,activation='sigmoid'),                        # binary classification fraudulent or not\n",
    "])"
   ]
  },
  {
   "cell_type": "code",
   "execution_count": 92,
   "metadata": {},
   "outputs": [
    {
     "name": "stdout",
     "output_type": "stream",
     "text": [
      "Epoch 1/20\n",
      "504240/504240 [==============================] - 13s 25us/step - loss: 0.0517 - accuracy: 0.9835\n",
      "Epoch 2/20\n",
      "504240/504240 [==============================] - 12s 24us/step - loss: 0.0359 - accuracy: 0.9883\n",
      "Epoch 3/20\n",
      "504240/504240 [==============================] - 13s 25us/step - loss: 0.0333 - accuracy: 0.9890\n",
      "Epoch 4/20\n",
      "504240/504240 [==============================] - 13s 26us/step - loss: 0.0319 - accuracy: 0.9896\n",
      "Epoch 5/20\n",
      "504240/504240 [==============================] - 13s 25us/step - loss: 0.0309 - accuracy: 0.9898\n",
      "Epoch 6/20\n",
      "504240/504240 [==============================] - 13s 25us/step - loss: 0.0300 - accuracy: 0.9902\n",
      "Epoch 7/20\n",
      "504240/504240 [==============================] - 12s 25us/step - loss: 0.0294 - accuracy: 0.9903\n",
      "Epoch 8/20\n",
      "504240/504240 [==============================] - 12s 25us/step - loss: 0.0287 - accuracy: 0.9905\n",
      "Epoch 9/20\n",
      "504240/504240 [==============================] - 12s 25us/step - loss: 0.0284 - accuracy: 0.9906\n",
      "Epoch 10/20\n",
      "504240/504240 [==============================] - 12s 25us/step - loss: 0.0281 - accuracy: 0.9906\n",
      "Epoch 11/20\n",
      "504240/504240 [==============================] - 13s 26us/step - loss: 0.0280 - accuracy: 0.9907\n",
      "Epoch 12/20\n",
      "504240/504240 [==============================] - 13s 25us/step - loss: 0.0278 - accuracy: 0.9908\n",
      "Epoch 13/20\n",
      "504240/504240 [==============================] - 13s 25us/step - loss: 0.0275 - accuracy: 0.9908\n",
      "Epoch 14/20\n",
      "504240/504240 [==============================] - 13s 25us/step - loss: 0.0273 - accuracy: 0.9909\n",
      "Epoch 15/20\n",
      "504240/504240 [==============================] - 12s 25us/step - loss: 0.0271 - accuracy: 0.9910\n",
      "Epoch 16/20\n",
      "504240/504240 [==============================] - 13s 26us/step - loss: 0.0272 - accuracy: 0.9909\n",
      "Epoch 17/20\n",
      "504240/504240 [==============================] - 13s 25us/step - loss: 0.0269 - accuracy: 0.9909\n",
      "Epoch 18/20\n",
      "504240/504240 [==============================] - 12s 24us/step - loss: 0.0270 - accuracy: 0.9909\n",
      "Epoch 19/20\n",
      "504240/504240 [==============================] - 12s 25us/step - loss: 0.0267 - accuracy: 0.9910\n",
      "Epoch 20/20\n",
      "504240/504240 [==============================] - 12s 24us/step - loss: 0.0267 - accuracy: 0.9911\n"
     ]
    },
    {
     "data": {
      "text/plain": [
       "<keras.callbacks.callbacks.History at 0x2418118df08>"
      ]
     },
     "execution_count": 92,
     "metadata": {},
     "output_type": "execute_result"
    }
   ],
   "source": [
    "model.compile(optimizer='adam',loss='binary_crossentropy',metrics=['accuracy'])\n",
    "model.fit(X_train,y_train,batch_size=200,epochs=20)"
   ]
  },
  {
   "cell_type": "code",
   "execution_count": 93,
   "metadata": {},
   "outputs": [],
   "source": [
    "train_predictions_oversampled_TGAN = model.predict(X_train)\n",
    "test_predictions_oversampled_TGAN = model.predict(X_test)"
   ]
  },
  {
   "cell_type": "code",
   "execution_count": 94,
   "metadata": {},
   "outputs": [
    {
     "name": "stdout",
     "output_type": "stream",
     "text": [
      "Confusion matrix, without normalization\n",
      "[[83945    95]\n",
      " [ 1399 10208]]\n"
     ]
    },
    {
     "data": {
      "image/png": "[encoded data removed]",
      "text/plain": [
       "<Figure size 864x720 with 2 Axes>"
      ]
     },
     "metadata": {
      "needs_background": "light"
     },
     "output_type": "display_data"
    }
   ],
   "source": [
    "y_pred = model.predict(X_test)\n",
    "y_expected = pd.DataFrame(y_test)\n",
    "cnf_matrix = confusion_matrix(y_expected, y_pred.round())\n",
    "plot_confusion_matrix(cnf_matrix, classes=[0,1])\n",
    "plt.show()"
   ]
  },
  {
   "cell_type": "markdown",
   "metadata": {},
   "source": [
    "- Notice the absence of False Negatives. The model is able to detect all fraudulent transactions on the unseen test set."
   ]
  },
  {
   "cell_type": "code",
   "execution_count": 95,
   "metadata": {},
   "outputs": [],
   "source": [
    "acc = accuracy_score(y_test, y_pred.round())\n",
    "prec = precision_score(y_test, y_pred.round())\n",
    "rec = recall_score(y_test, y_pred.round())\n",
    "f1 = f1_score(y_test, y_pred.round())"
   ]
  },
  {
   "cell_type": "code",
   "execution_count": 96,
   "metadata": {
    "scrolled": false
   },
   "outputs": [
    {
     "data": {
      "text/html": [
       "<div>\n",
       "<style scoped>\n",
       "    .dataframe tbody tr th:only-of-type {\n",
       "        vertical-align: middle;\n",
       "    }\n",
       "\n",
       "    .dataframe tbody tr th {\n",
       "        vertical-align: top;\n",
       "    }\n",
       "\n",
       "    .dataframe thead th {\n",
       "        text-align: right;\n",
       "    }\n",
       "</style>\n",
       "<table border=\"1\" class=\"dataframe\">\n",
       "  <thead>\n",
       "    <tr style=\"text-align: right;\">\n",
       "      <th></th>\n",
       "      <th>Model</th>\n",
       "      <th>Accuracy</th>\n",
       "      <th>FalseNegRate</th>\n",
       "      <th>Recall</th>\n",
       "      <th>Precision</th>\n",
       "      <th>F1 Score</th>\n",
       "    </tr>\n",
       "  </thead>\n",
       "  <tbody>\n",
       "    <tr>\n",
       "      <th>0</th>\n",
       "      <td>RandomForest</td>\n",
       "      <td>0.985865</td>\n",
       "      <td>0.101577</td>\n",
       "      <td>0.898423</td>\n",
       "      <td>0.983681</td>\n",
       "      <td>0.939121</td>\n",
       "    </tr>\n",
       "    <tr>\n",
       "      <th>1</th>\n",
       "      <td>DecisionTree</td>\n",
       "      <td>0.979895</td>\n",
       "      <td>0.078573</td>\n",
       "      <td>0.921427</td>\n",
       "      <td>0.913634</td>\n",
       "      <td>0.917514</td>\n",
       "    </tr>\n",
       "    <tr>\n",
       "      <th>2</th>\n",
       "      <td>PlainNeuralNetwork</td>\n",
       "      <td>0.984506</td>\n",
       "      <td>0.117429</td>\n",
       "      <td>0.882571</td>\n",
       "      <td>0.988517</td>\n",
       "      <td>0.932544</td>\n",
       "    </tr>\n",
       "    <tr>\n",
       "      <th>3</th>\n",
       "      <td>WeightedNeuralNetwork</td>\n",
       "      <td>0.961682</td>\n",
       "      <td>0.058155</td>\n",
       "      <td>0.941845</td>\n",
       "      <td>0.785232</td>\n",
       "      <td>0.856438</td>\n",
       "    </tr>\n",
       "    <tr>\n",
       "      <th>4</th>\n",
       "      <td>UnderSampledNeuralNetwork</td>\n",
       "      <td>0.955172</td>\n",
       "      <td>0.050503</td>\n",
       "      <td>0.949497</td>\n",
       "      <td>0.959775</td>\n",
       "      <td>0.954608</td>\n",
       "    </tr>\n",
       "    <tr>\n",
       "      <th>5</th>\n",
       "      <td>OverSampledNeuralNetwork</td>\n",
       "      <td>0.946794</td>\n",
       "      <td>0.046696</td>\n",
       "      <td>0.953304</td>\n",
       "      <td>0.708750</td>\n",
       "      <td>0.813035</td>\n",
       "    </tr>\n",
       "    <tr>\n",
       "      <th>6</th>\n",
       "      <td>OverSampledNeuralNetwork</td>\n",
       "      <td>0.906061</td>\n",
       "      <td>0.017834</td>\n",
       "      <td>0.982166</td>\n",
       "      <td>0.564972</td>\n",
       "      <td>0.717319</td>\n",
       "    </tr>\n",
       "    <tr>\n",
       "      <th>7</th>\n",
       "      <td>OverSampledNeuralNetwork</td>\n",
       "      <td>0.984380</td>\n",
       "      <td>0.120531</td>\n",
       "      <td>0.879469</td>\n",
       "      <td>0.990779</td>\n",
       "      <td>0.931812</td>\n",
       "    </tr>\n",
       "  </tbody>\n",
       "</table>\n",
       "</div>"
      ],
      "text/plain": [
       "                       Model  Accuracy  FalseNegRate    Recall  Precision  \\\n",
       "0               RandomForest  0.985865      0.101577  0.898423   0.983681   \n",
       "1               DecisionTree  0.979895      0.078573  0.921427   0.913634   \n",
       "2         PlainNeuralNetwork  0.984506      0.117429  0.882571   0.988517   \n",
       "3      WeightedNeuralNetwork  0.961682      0.058155  0.941845   0.785232   \n",
       "4  UnderSampledNeuralNetwork  0.955172      0.050503  0.949497   0.959775   \n",
       "5   OverSampledNeuralNetwork  0.946794      0.046696  0.953304   0.708750   \n",
       "6   OverSampledNeuralNetwork  0.906061      0.017834  0.982166   0.564972   \n",
       "7   OverSampledNeuralNetwork  0.984380      0.120531  0.879469   0.990779   \n",
       "\n",
       "   F1 Score  \n",
       "0  0.939121  \n",
       "1  0.917514  \n",
       "2  0.932544  \n",
       "3  0.856438  \n",
       "4  0.954608  \n",
       "5  0.813035  \n",
       "6  0.717319  \n",
       "7  0.931812  "
      ]
     },
     "execution_count": 96,
     "metadata": {},
     "output_type": "execute_result"
    }
   ],
   "source": [
    "### Store results in dataframe for comparing various Models\n",
    "model_results = pd.DataFrame([['OverSampledNeuralNetwork', acc, 1-rec, rec, prec, f1]],\n",
    "               columns = ['Model', 'Accuracy', 'FalseNegRate', 'Recall', 'Precision', 'F1 Score'])\n",
    "results_testset = results_testset.append(model_results, ignore_index = True)\n",
    "results_testset"
   ]
  },
  {
   "cell_type": "markdown",
   "metadata": {},
   "source": [
    "### Plot ROC curves of all the models "
   ]
  },
  {
   "cell_type": "code",
   "execution_count": 178,
   "metadata": {},
   "outputs": [],
   "source": [
    "from sklearn.metrics import roc_auc_score, confusion_matrix"
   ]
  },
  {
   "cell_type": "code",
   "execution_count": 189,
   "metadata": {},
   "outputs": [
    {
     "name": "stdout",
     "output_type": "stream",
     "text": [
      "Baseline AUC-ROC: 0.9405774350130177\n",
      "Weighted AUC-ROC: 0.9557261432614623\n",
      "Undersampled AUC-ROC: 0.9524851519486712\n",
      "Oversampled SMOTE AUC-ROC: 0.9495994263297022\n",
      "Oversampled ADASYN AUC-ROC: 0.9388578362849281\n",
      "Oversampled TGAN AUC-ROC: 0.9391694358436479\n",
      "Baseline Confusion Matrix : \n",
      " [[83921   119]\n",
      " [ 1363 10244]]\n"
     ]
    },
    {
     "data": {
      "image/png": "[encoded data removed]",
      "text/plain": [
       "<Figure size 864x720 with 1 Axes>"
      ]
     },
     "metadata": {
      "needs_background": "light"
     },
     "output_type": "display_data"
    }
   ],
   "source": [
    "plot_roc(\"Train Baseline\", y_train_baseline, train_predictions_baseline, color=colors[0])\n",
    "plot_roc(\"Test Baseline\", y_test, test_predictions_baseline, color=colors[0], linestyle='--')\n",
    "\n",
    "plot_roc(\"Train Weighted\", y_train_baseline, train_predictions_weighted, color=colors[5])\n",
    "plot_roc(\"Test Weighted\", y_test, test_predictions_weighted, color=colors[5], linestyle='--')\n",
    "\n",
    "plot_roc(\"Train Undersampled\", y_train_undersampled, train_predictions_undersampled, color=colors[1])\n",
    "plot_roc(\"Test Undersampled\", y_test_undersampled, test_predictions_undersampled, color=colors[1], linestyle='--')\n",
    "\n",
    "plot_roc(\"Train Oversampled-SMOTE\", y_train_SMOTE, train_predictions_oversampled_SMOTE, color=colors[2])\n",
    "plot_roc(\"Test Oversampled-SMOTE\", y_test, test_predictions_oversampled_SMOTE, color=colors[2], linestyle='--')\n",
    "\n",
    "plot_roc(\"Train Oversampled-ADASYN\", y_train_ADASYN, train_predictions_oversampled_ADASYN, color=colors[5])\n",
    "plot_roc(\"Test Oversampled-ADASYN\", y_test, test_predictions_oversampled_ADASYN, color=colors[5], linestyle='--')\n",
    "\n",
    "plot_roc(\"Train Oversampled-TGAN\", y_train_TGAN, train_predictions_oversampled_TGAN, color=colors[9])\n",
    "plot_roc(\"Test Oversampled-TGAN\", y_test, test_predictions_oversampled_TGAN, color=colors[9], linestyle='--')\n",
    "\n",
    "plt.legend(loc='lower right')\n",
    "\n",
    "print('Baseline AUC-ROC:',roc_auc_score(y_test, test_predictions_baseline.round()))\n",
    "print('Weighted AUC-ROC:',roc_auc_score(y_test, test_predictions_weighted.round()))\n",
    "print('Undersampled AUC-ROC:',roc_auc_score(y_test_undersampled, test_predictions_undersampled.round()))\n",
    "print('Oversampled SMOTE AUC-ROC:',roc_auc_score(y_test, test_predictions_oversampled_SMOTE.round()))\n",
    "print('Oversampled ADASYN AUC-ROC:',roc_auc_score(y_test, test_predictions_oversampled_ADASYN.round()))\n",
    "print('Oversampled TGAN AUC-ROC:',roc_auc_score(y_test, test_predictions_oversampled_TGAN.round()))\n",
    "\n",
    "print('Baseline Confusion Matrix : \\n', confusion_matrix(y_test, test_predictions_baseline.round()))\n"
   ]
  },
  {
   "cell_type": "code",
   "execution_count": 104,
   "metadata": {},
   "outputs": [
    {
     "data": {
      "text/plain": [
       "(505860, 1)"
      ]
     },
     "execution_count": 104,
     "metadata": {},
     "output_type": "execute_result"
    }
   ],
   "source": [
    "train_predictions_oversampled_ADASYN.shape"
   ]
  },
  {
   "cell_type": "code",
   "execution_count": 181,
   "metadata": {},
   "outputs": [
    {
     "data": {
      "text/plain": [
       "array([[0.        ],\n",
       "       [0.10863179],\n",
       "       [0.        ],\n",
       "       ...,\n",
       "       [0.        ],\n",
       "       [0.        ],\n",
       "       [0.08387432]], dtype=float32)"
      ]
     },
     "execution_count": 181,
     "metadata": {},
     "output_type": "execute_result"
    }
   ],
   "source": [
    "test_predictions_baseline"
   ]
  },
  {
   "cell_type": "code",
   "execution_count": null,
   "metadata": {},
   "outputs": [],
   "source": []
  }
 ],
 "metadata": {
  "kernelspec": {
   "display_name": "Python 3",
   "language": "python",
   "name": "python3"
  },
  "language_info": {
   "codemirror_mode": {
    "name": "ipython",
    "version": 3
   },
   "file_extension": ".py",
   "mimetype": "text/x-python",
   "name": "python",
   "nbconvert_exporter": "python",
   "pygments_lexer": "ipython3",
   "version": "3.7.9"
  }
 },
 "nbformat": 4,
 "nbformat_minor": 2
}
