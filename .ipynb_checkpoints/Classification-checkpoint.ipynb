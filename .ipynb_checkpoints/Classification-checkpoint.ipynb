{
 "cells": [
  {
   "cell_type": "code",
   "execution_count": 11,
   "metadata": {},
   "outputs": [],
   "source": [
    "# Importing the libraries\n",
    "import numpy as np\n",
    "import matplotlib.pyplot as plt\n",
    "import pandas as pd"
   ]
  },
  {
   "cell_type": "code",
   "execution_count": 12,
   "metadata": {},
   "outputs": [],
   "source": [
    "# Importing the dataset\n",
    "Data = pd.read_csv('./Data/df_final_preprocessed.csv')"
   ]
  },
  {
   "cell_type": "code",
   "execution_count": 13,
   "metadata": {},
   "outputs": [],
   "source": [
    "X = Data.iloc[:, :-1]\n",
    "y = pd.DataFrame(Data.iloc[:, -1])"
   ]
  },
  {
   "cell_type": "code",
   "execution_count": 17,
   "metadata": {},
   "outputs": [
    {
     "name": "stdout",
     "output_type": "stream",
     "text": [
      "['No of Days Stayed' 'Net Amt' 'settlement_delay' 'age' 'Start_year'\n",
      " 'Start_month' 'Start_week' 'Start_day' 'Start_dayofweek' 'Reported_year'\n",
      " 'Reported_month' 'Reported_week' 'Reported_day' 'Reported_dayofweek'\n",
      " 'Commencement_year' 'Commencement_month' 'Commencement_week'\n",
      " 'Commencement_day' 'Commencement_dayofweek' 'Termination_year'\n",
      " 'Termination_month' 'Termination_week' 'Termination_day'\n",
      " 'Termination_dayofweek' 'Benefit Type_MEDICAL' 'Benefit Type_SURGICAL'\n",
      " 'Claim Status_Cancelled / Rejected' 'Claim Status_Outstanding'\n",
      " 'Claim Status_Paid' 'Claim Status_Pre-Auth Approved'\n",
      " 'ClaimEvent_TPA_ID_51381' 'ClaimEvent_TPA_ID_59682'\n",
      " 'Primary Diagnosis Code_-N' 'Primary Diagnosis Code_M1'\n",
      " 'Primary Diagnosis Code_M2' 'Primary Diagnosis Code_M3'\n",
      " 'Primary Diagnosis Code_M4' 'Primary Diagnosis Code_M5'\n",
      " 'Primary Diagnosis Code_M6' 'Primary Diagnosis Code_M7'\n",
      " 'Primary Diagnosis Code_M8' 'Primary Diagnosis Code_MC'\n",
      " 'Primary Diagnosis Code_MG' 'Primary Diagnosis Code_MM'\n",
      " 'Primary Diagnosis Code_MO' 'Primary Diagnosis Code_MP'\n",
      " 'Primary Diagnosis Code_MR' 'Primary Diagnosis Code_S1'\n",
      " 'Primary Diagnosis Code_S2' 'Primary Diagnosis Code_S3'\n",
      " 'Primary Diagnosis Code_S4' 'Primary Diagnosis Code_S5'\n",
      " 'Primary Diagnosis Code_S6' 'Primary Diagnosis Code_S7'\n",
      " 'Primary Diagnosis Code_S8' 'Primary Diagnosis Code_S9'\n",
      " 'Primary Diagnosis Code_SB' 'Primary Diagnosis Code_SC'\n",
      " 'Primary Diagnosis Code_SE' 'Primary Diagnosis Code_SG'\n",
      " 'Primary Diagnosis Code_SL' 'Primary Diagnosis Code_SN'\n",
      " 'Primary Diagnosis Code_SO' 'Primary Diagnosis Code_ST'\n",
      " 'Primary Diagnosis Code_SV' 'Primary Diagnosis Code_U1'\n",
      " 'Hospital Type_Private' 'Hospital Type_Public' 'TPA NAME_FHPL'\n",
      " 'TPA NAME_Vidal' 'Benefit Code_MEDICAL' 'Benefit Code_SURGICAL'\n",
      " 'Gender Code_Female' 'Gender Code_Male' 'Residence Location_AMRITSAR'\n",
      " 'Residence Location_BARNALA' 'Residence Location_BATHINDA'\n",
      " 'Residence Location_FARIDKOT' 'Residence Location_FATEHGARH SAHIB'\n",
      " 'Residence Location_FAZILKA' 'Residence Location_FIROZEPUR'\n",
      " 'Residence Location_GURDASPUR' 'Residence Location_HOSHIARPUR'\n",
      " 'Residence Location_JALANDHAR' 'Residence Location_KAPURTHALA'\n",
      " 'Residence Location_LUDHIANA' 'Residence Location_MANSA'\n",
      " 'Residence Location_MOGA' 'Residence Location_PATHANKOT'\n",
      " 'Residence Location_PATIALA' 'Residence Location_RUPNAGAR'\n",
      " 'Residence Location_S.A.S Nagar' 'Residence Location_SANGRUR'\n",
      " 'Residence Location_SRI MUKTSAR SAHIB'\n",
      " 'Residence Location_Shahid Bhagat Singh Nagar'\n",
      " 'Residence Location_Tarn Taran' 'Reject status more than 3 months_0'\n",
      " 'Reject status more than 3 months_1']\n"
     ]
    }
   ],
   "source": [
    "print(X.columns.values)"
   ]
  },
  {
   "cell_type": "code",
   "execution_count": 18,
   "metadata": {},
   "outputs": [],
   "source": [
    "# X.drop(['Reject status more than 3 months_0', 'Reject status more than 3 months_1', 'Class'], axis=1, inplace=True)"
   ]
  },
  {
   "cell_type": "code",
   "execution_count": 19,
   "metadata": {},
   "outputs": [],
   "source": [
    "# Splitting the dataset into the Training set and Test set  \n",
    "#to use sklearn we need data in matrix not in data frame\n",
    "from sklearn.model_selection import train_test_split \n",
    "X_train, X_test, y_train, y_test = train_test_split(X, y, test_size = 0.25, random_state = 0)"
   ]
  },
  {
   "cell_type": "code",
   "execution_count": 20,
   "metadata": {},
   "outputs": [],
   "source": [
    "# Feature Scaling #no need feature scaling for DT as they ar not based on euclidean dist and also will be easy to interpret\n",
    "from sklearn.preprocessing import StandardScaler #but to visalize with high reolution(0.01),feature scaling helps to execute lot faster\n",
    "sc = StandardScaler()                       #so we are keeping the feature scaling, but we can also remove feature scaling\n",
    "X_train = sc.fit_transform(X_train)\n",
    "X_test = sc.transform(X_test)"
   ]
  },
  {
   "cell_type": "markdown",
   "metadata": {},
   "source": [
    "# Decision Tree Classification"
   ]
  },
  {
   "cell_type": "code",
   "execution_count": 21,
   "metadata": {},
   "outputs": [
    {
     "data": {
      "text/plain": [
       "DecisionTreeClassifier(criterion='entropy', random_state=0)"
      ]
     },
     "execution_count": 21,
     "metadata": {},
     "output_type": "execute_result"
    }
   ],
   "source": [
    "# Fitting Decision Tree to the Training set\n",
    "from sklearn.tree import DecisionTreeClassifier\n",
    "classifier = DecisionTreeClassifier(criterion = 'entropy', random_state = 0)\n",
    "classifier.fit(X_train, y_train)"
   ]
  },
  {
   "cell_type": "code",
   "execution_count": 22,
   "metadata": {},
   "outputs": [],
   "source": [
    "# Predicting the Test set results\n",
    "y_pred = classifier.predict(X_test)"
   ]
  },
  {
   "cell_type": "code",
   "execution_count": 23,
   "metadata": {
    "scrolled": true
   },
   "outputs": [
    {
     "name": "stdout",
     "output_type": "stream",
     "text": [
      "Confusion Matrix : \n",
      " [[83075   965]\n",
      " [  872 10735]]\n",
      "Accuracy Score is 0.9808\n",
      "Classification Report : \n",
      "               precision    recall  f1-score   support\n",
      "\n",
      "           0       0.99      0.99      0.99     84040\n",
      "           1       0.92      0.92      0.92     11607\n",
      "\n",
      "    accuracy                           0.98     95647\n",
      "   macro avg       0.95      0.96      0.96     95647\n",
      "weighted avg       0.98      0.98      0.98     95647\n",
      "\n",
      "AUC-ROC: 0.9566951470962782\n",
      "LOGLOSS Value is 0.6634\n"
     ]
    },
    {
     "data": {
      "image/png": "[encoded data removed]",
      "text/plain": [
       "<Figure size 432x288 with 1 Axes>"
      ]
     },
     "metadata": {
      "needs_background": "light"
     },
     "output_type": "display_data"
    }
   ],
   "source": [
    "from sklearn.metrics import confusion_matrix, accuracy_score, classification_report, roc_auc_score, log_loss, roc_curve, auc\n",
    "fpr, tpr, thresholds = roc_curve(y_test, y_pred)\n",
    "roc_auc = auc(fpr, tpr)\n",
    "results = confusion_matrix(y_test, y_pred)\n",
    "print ('Confusion Matrix : \\n', results)\n",
    "print ('Accuracy Score is %.4f' % (accuracy_score(y_test, y_pred)))\n",
    "print ('Classification Report : \\n', classification_report(y_test, y_pred))\n",
    "print('AUC-ROC:',roc_auc_score(y_test, y_pred))\n",
    "print('LOGLOSS Value is %.4f' % log_loss(y_test, y_pred))\n",
    "plt.title('Receiver Operating Characteristic')\n",
    "plt.plot(fpr, tpr, 'y', label = 'AUC = %0.2f' % roc_auc)\n",
    "plt.legend(loc = 'lower right')\n",
    "plt.plot([0, 1], [0, 1],'r--')\n",
    "plt.xlim([0, 1])\n",
    "plt.ylim([0, 1])\n",
    "plt.ylabel('True Positive Rate')\n",
    "plt.xlabel('False Positive Rate')\n",
    "plt.show()"
   ]
  },
  {
   "cell_type": "markdown",
   "metadata": {},
   "source": [
    "# Random Forest Classification"
   ]
  },
  {
   "cell_type": "code",
   "execution_count": 24,
   "metadata": {},
   "outputs": [
    {
     "name": "stderr",
     "output_type": "stream",
     "text": [
      "C:\\Users\\Owner\\Anaconda3\\lib\\site-packages\\ipykernel_launcher.py:4: DataConversionWarning: A column-vector y was passed when a 1d array was expected. Please change the shape of y to (n_samples,), for example using ravel().\n",
      "  after removing the cwd from sys.path.\n"
     ]
    },
    {
     "data": {
      "text/plain": [
       "RandomForestClassifier(criterion='entropy', n_estimators=10, random_state=0)"
      ]
     },
     "execution_count": 24,
     "metadata": {},
     "output_type": "execute_result"
    }
   ],
   "source": [
    "# Fitting Random Forest Classification to the Training set\n",
    "from sklearn.ensemble import RandomForestClassifier\n",
    "classifier = RandomForestClassifier(n_estimators = 10, criterion= 'entropy', random_state = 0)\n",
    "classifier.fit(X_train, y_train)"
   ]
  },
  {
   "cell_type": "code",
   "execution_count": 25,
   "metadata": {},
   "outputs": [],
   "source": [
    "# Predicting the Test set results\n",
    "y_pred = classifier.predict(X_test)"
   ]
  },
  {
   "cell_type": "code",
   "execution_count": 26,
   "metadata": {},
   "outputs": [
    {
     "name": "stdout",
     "output_type": "stream",
     "text": [
      "Confusion Matrix : \n",
      " [[83849   191]\n",
      " [ 1223 10384]]\n",
      "Accuracy Score is 0.9852\n",
      "Classification Report : \n",
      "               precision    recall  f1-score   support\n",
      "\n",
      "           0       0.99      1.00      0.99     84040\n",
      "           1       0.98      0.89      0.94     11607\n",
      "\n",
      "    accuracy                           0.99     95647\n",
      "   macro avg       0.98      0.95      0.96     95647\n",
      "weighted avg       0.99      0.99      0.98     95647\n",
      "\n",
      "AUC-ROC: 0.9461799110254784\n",
      "LOGLOSS Value is 0.5106\n"
     ]
    },
    {
     "data": {
      "image/png": "[encoded data removed]",
      "text/plain": [
       "<Figure size 432x288 with 1 Axes>"
      ]
     },
     "metadata": {
      "needs_background": "light"
     },
     "output_type": "display_data"
    }
   ],
   "source": [
    "from sklearn.metrics import confusion_matrix, accuracy_score, classification_report, roc_auc_score, log_loss, roc_curve, auc\n",
    "fpr, tpr, thresholds = roc_curve(y_test, y_pred)\n",
    "roc_auc = auc(fpr, tpr)\n",
    "results = confusion_matrix(y_test, y_pred)\n",
    "print ('Confusion Matrix : \\n', results)\n",
    "print ('Accuracy Score is %.4f' % (accuracy_score(y_test, y_pred)))\n",
    "print ('Classification Report : \\n', classification_report(y_test, y_pred))\n",
    "print('AUC-ROC:',roc_auc_score(y_test, y_pred))\n",
    "print('LOGLOSS Value is %.4f' % log_loss(y_test, y_pred))\n",
    "plt.title('Receiver Operating Characteristic')\n",
    "plt.plot(fpr, tpr, 'y', label = 'AUC = %0.2f' % roc_auc)\n",
    "plt.legend(loc = 'lower right')\n",
    "plt.plot([0, 1], [0, 1],'r--')\n",
    "plt.xlim([0, 1])\n",
    "plt.ylim([0, 1])\n",
    "plt.ylabel('True Positive Rate')\n",
    "plt.xlabel('False Positive Rate')\n",
    "plt.show()"
   ]
  },
  {
   "cell_type": "markdown",
   "metadata": {},
   "source": [
    "# XGBoost"
   ]
  },
  {
   "cell_type": "code",
   "execution_count": 27,
   "metadata": {},
   "outputs": [],
   "source": [
    "# xgboost for classification\n",
    "from numpy import asarray\n",
    "from numpy import mean\n",
    "from numpy import std\n",
    "from sklearn.datasets import make_classification\n",
    "from xgboost import XGBClassifier\n",
    "from sklearn.model_selection import cross_val_score\n",
    "from sklearn.model_selection import RepeatedStratifiedKFold\n",
    "from matplotlib import pyplot\n",
    "# define dataset\n",
    "#X, y = make_classification(n_samples=1000, n_features=10, n_informative=5, n_redundant=5, random_state=1)"
   ]
  },
  {
   "cell_type": "code",
   "execution_count": 28,
   "metadata": {},
   "outputs": [
    {
     "name": "stderr",
     "output_type": "stream",
     "text": [
      "C:\\Users\\Owner\\Anaconda3\\lib\\site-packages\\sklearn\\utils\\validation.py:72: DataConversionWarning: A column-vector y was passed when a 1d array was expected. Please change the shape of y to (n_samples, ), for example using ravel().\n",
      "  return f(**kwargs)\n"
     ]
    },
    {
     "data": {
      "text/plain": [
       "XGBClassifier()"
      ]
     },
     "execution_count": 28,
     "metadata": {},
     "output_type": "execute_result"
    }
   ],
   "source": [
    "# fit the model on the whole dataset\n",
    "classifier = XGBClassifier()\n",
    "classifier.fit(X_train, y_train)"
   ]
  },
  {
   "cell_type": "code",
   "execution_count": 29,
   "metadata": {},
   "outputs": [],
   "source": [
    "# Predicting the Test set results\n",
    "y_pred = classifier.predict(X_test)"
   ]
  },
  {
   "cell_type": "code",
   "execution_count": 30,
   "metadata": {},
   "outputs": [
    {
     "name": "stdout",
     "output_type": "stream",
     "text": [
      "Confusion Matrix : \n",
      " [[84029    11]\n",
      " [ 1607 10000]]\n",
      "Accuracy Score is 0.9831\n",
      "Classification Report : \n",
      "               precision    recall  f1-score   support\n",
      "\n",
      "           0       0.98      1.00      0.99     84040\n",
      "           1       1.00      0.86      0.93     11607\n",
      "\n",
      "    accuracy                           0.98     95647\n",
      "   macro avg       0.99      0.93      0.96     95647\n",
      "weighted avg       0.98      0.98      0.98     95647\n",
      "\n",
      "AUC-ROC: 0.9307090875834542\n",
      "LOGLOSS Value is 0.5843\n"
     ]
    },
    {
     "data": {
      "image/png": "[encoded data removed]",
      "text/plain": [
       "<Figure size 432x288 with 1 Axes>"
      ]
     },
     "metadata": {
      "needs_background": "light"
     },
     "output_type": "display_data"
    }
   ],
   "source": [
    "from sklearn.metrics import confusion_matrix, accuracy_score, classification_report, roc_auc_score, log_loss, roc_curve, auc\n",
    "fpr, tpr, thresholds = roc_curve(y_test, y_pred)\n",
    "roc_auc = auc(fpr, tpr)\n",
    "results = confusion_matrix(y_test, y_pred)\n",
    "print ('Confusion Matrix : \\n', results)\n",
    "print ('Accuracy Score is %.4f' % (accuracy_score(y_test, y_pred)))\n",
    "print ('Classification Report : \\n', classification_report(y_test, y_pred))\n",
    "print('AUC-ROC:',roc_auc_score(y_test, y_pred))\n",
    "print('LOGLOSS Value is %.4f' % log_loss(y_test, y_pred))\n",
    "plt.title('Receiver Operating Characteristic')\n",
    "plt.plot(fpr, tpr, 'y', label = 'AUC = %0.2f' % roc_auc)\n",
    "plt.legend(loc = 'lower right')\n",
    "plt.plot([0, 1], [0, 1],'r--')\n",
    "plt.xlim([0, 1])\n",
    "plt.ylim([0, 1])\n",
    "plt.ylabel('True Positive Rate')\n",
    "plt.xlabel('False Positive Rate')\n",
    "plt.show()"
   ]
  },
  {
   "cell_type": "markdown",
   "metadata": {},
   "source": [
    "# LigthGBM"
   ]
  },
  {
   "cell_type": "code",
   "execution_count": 31,
   "metadata": {},
   "outputs": [],
   "source": [
    "from numpy import mean\n",
    "from numpy import std\n",
    "from sklearn.datasets import make_classification\n",
    "from lightgbm import LGBMClassifier\n",
    "from sklearn.model_selection import cross_val_score\n",
    "from sklearn.model_selection import RepeatedStratifiedKFold\n",
    "from matplotlib import pyplot"
   ]
  },
  {
   "cell_type": "code",
   "execution_count": 32,
   "metadata": {},
   "outputs": [
    {
     "name": "stderr",
     "output_type": "stream",
     "text": [
      "C:\\Users\\Owner\\Anaconda3\\lib\\site-packages\\sklearn\\utils\\validation.py:72: DataConversionWarning: A column-vector y was passed when a 1d array was expected. Please change the shape of y to (n_samples, ), for example using ravel().\n",
      "  return f(**kwargs)\n"
     ]
    },
    {
     "data": {
      "text/plain": [
       "LGBMClassifier()"
      ]
     },
     "execution_count": 32,
     "metadata": {},
     "output_type": "execute_result"
    }
   ],
   "source": [
    "# fit the model on the whole dataset\n",
    "classifier = LGBMClassifier()\n",
    "classifier.fit(X_train, y_train)"
   ]
  },
  {
   "cell_type": "code",
   "execution_count": 33,
   "metadata": {},
   "outputs": [],
   "source": [
    "# Predicting the Test set results\n",
    "y_pred = classifier.predict(X_test)"
   ]
  },
  {
   "cell_type": "code",
   "execution_count": 34,
   "metadata": {
    "scrolled": true
   },
   "outputs": [
    {
     "name": "stdout",
     "output_type": "stream",
     "text": [
      "Confusion Matrix : \n",
      " [[83984    56]\n",
      " [ 1178 10429]]\n",
      "Accuracy Score is 0.9871\n",
      "Classification Report : \n",
      "               precision    recall  f1-score   support\n",
      "\n",
      "           0       0.99      1.00      0.99     84040\n",
      "           1       0.99      0.90      0.94     11607\n",
      "\n",
      "    accuracy                           0.99     95647\n",
      "   macro avg       0.99      0.95      0.97     95647\n",
      "weighted avg       0.99      0.99      0.99     95647\n",
      "\n",
      "AUC-ROC: 0.9489215853798609\n",
      "LOGLOSS Value is 0.4456\n"
     ]
    },
    {
     "data": {
      "image/png": "[encoded data removed]",
      "text/plain": [
       "<Figure size 432x288 with 1 Axes>"
      ]
     },
     "metadata": {
      "needs_background": "light"
     },
     "output_type": "display_data"
    }
   ],
   "source": [
    "from sklearn.metrics import confusion_matrix, accuracy_score, classification_report, roc_auc_score, log_loss, roc_curve, auc\n",
    "fpr, tpr, thresholds = roc_curve(y_test, y_pred)\n",
    "roc_auc = auc(fpr, tpr)\n",
    "results = confusion_matrix(y_test, y_pred)\n",
    "print ('Confusion Matrix : \\n', results)\n",
    "print ('Accuracy Score is %.4f' % (accuracy_score(y_test, y_pred)))\n",
    "print ('Classification Report : \\n', classification_report(y_test, y_pred))\n",
    "print('AUC-ROC:',roc_auc_score(y_test, y_pred))\n",
    "print('LOGLOSS Value is %.4f' % log_loss(y_test, y_pred))\n",
    "plt.title('Receiver Operating Characteristic')\n",
    "plt.plot(fpr, tpr, 'y', label = 'AUC = %0.2f' % roc_auc)\n",
    "plt.legend(loc = 'lower right')\n",
    "plt.plot([0, 1], [0, 1],'r--')\n",
    "plt.xlim([0, 1])\n",
    "plt.ylim([0, 1])\n",
    "plt.ylabel('True Positive Rate')\n",
    "plt.xlabel('False Positive Rate')\n",
    "plt.show()"
   ]
  },
  {
   "cell_type": "markdown",
   "metadata": {},
   "source": [
    "# Gradient Boosting Machine"
   ]
  },
  {
   "cell_type": "code",
   "execution_count": 35,
   "metadata": {},
   "outputs": [],
   "source": [
    "# gradient boosting for classification in scikit-learn\n",
    "from numpy import mean\n",
    "from numpy import std\n",
    "from sklearn.datasets import make_classification\n",
    "from sklearn.ensemble import GradientBoostingClassifier\n",
    "from sklearn.model_selection import cross_val_score\n",
    "from sklearn.model_selection import RepeatedStratifiedKFold\n",
    "from matplotlib import pyplot"
   ]
  },
  {
   "cell_type": "code",
   "execution_count": 36,
   "metadata": {},
   "outputs": [
    {
     "name": "stderr",
     "output_type": "stream",
     "text": [
      "C:\\Users\\Owner\\Anaconda3\\lib\\site-packages\\sklearn\\utils\\validation.py:72: DataConversionWarning: A column-vector y was passed when a 1d array was expected. Please change the shape of y to (n_samples, ), for example using ravel().\n",
      "  return f(**kwargs)\n"
     ]
    },
    {
     "data": {
      "text/plain": [
       "GradientBoostingClassifier()"
      ]
     },
     "execution_count": 36,
     "metadata": {},
     "output_type": "execute_result"
    }
   ],
   "source": [
    "# fit the model on the whole dataset\n",
    "classifier = GradientBoostingClassifier()\n",
    "classifier.fit(X_train, y_train)"
   ]
  },
  {
   "cell_type": "code",
   "execution_count": 37,
   "metadata": {},
   "outputs": [],
   "source": [
    "# Predicting the Test set results\n",
    "y_pred = classifier.predict(X_test)"
   ]
  },
  {
   "cell_type": "code",
   "execution_count": 38,
   "metadata": {},
   "outputs": [
    {
     "name": "stdout",
     "output_type": "stream",
     "text": [
      "Confusion Matrix : \n",
      " [[84014    26]\n",
      " [ 1332 10275]]\n",
      "Accuracy Score is 0.9858\n",
      "Classification Report : \n",
      "               precision    recall  f1-score   support\n",
      "\n",
      "           0       0.98      1.00      0.99     84040\n",
      "           1       1.00      0.89      0.94     11607\n",
      "\n",
      "    accuracy                           0.99     95647\n",
      "   macro avg       0.99      0.94      0.96     95647\n",
      "weighted avg       0.99      0.99      0.99     95647\n",
      "\n",
      "AUC-ROC: 0.9424661440127035\n",
      "LOGLOSS Value is 0.4904\n"
     ]
    },
    {
     "data": {
      "image/png": "[encoded data removed]",
      "text/plain": [
       "<Figure size 432x288 with 1 Axes>"
      ]
     },
     "metadata": {
      "needs_background": "light"
     },
     "output_type": "display_data"
    }
   ],
   "source": [
    "from sklearn.metrics import confusion_matrix, accuracy_score, classification_report, roc_auc_score, log_loss, roc_curve, auc\n",
    "fpr, tpr, thresholds = roc_curve(y_test, y_pred)\n",
    "roc_auc = auc(fpr, tpr)\n",
    "results = confusion_matrix(y_test, y_pred)\n",
    "print ('Confusion Matrix : \\n', results)\n",
    "print ('Accuracy Score is %.4f' % (accuracy_score(y_test, y_pred)))\n",
    "print ('Classification Report : \\n', classification_report(y_test, y_pred))\n",
    "print('AUC-ROC:',roc_auc_score(y_test, y_pred))\n",
    "print('LOGLOSS Value is %.4f' % log_loss(y_test, y_pred))\n",
    "plt.title('Receiver Operating Characteristic')\n",
    "plt.plot(fpr, tpr, 'y', label = 'AUC = %0.2f' % roc_auc)\n",
    "plt.legend(loc = 'lower right')\n",
    "plt.plot([0, 1], [0, 1],'r--')\n",
    "plt.xlim([0, 1])\n",
    "plt.ylim([0, 1])\n",
    "plt.ylabel('True Positive Rate')\n",
    "plt.xlabel('False Positive Rate')\n",
    "plt.show()"
   ]
  },
  {
   "cell_type": "markdown",
   "metadata": {},
   "source": [
    "# Logistic Regression"
   ]
  },
  {
   "cell_type": "code",
   "execution_count": 41,
   "metadata": {},
   "outputs": [
    {
     "name": "stderr",
     "output_type": "stream",
     "text": [
      "C:\\Users\\Owner\\Anaconda3\\lib\\site-packages\\sklearn\\utils\\validation.py:72: DataConversionWarning: A column-vector y was passed when a 1d array was expected. Please change the shape of y to (n_samples, ), for example using ravel().\n",
      "  return f(**kwargs)\n",
      "C:\\Users\\Owner\\Anaconda3\\lib\\site-packages\\sklearn\\linear_model\\_logistic.py:764: ConvergenceWarning: lbfgs failed to converge (status=1):\n",
      "STOP: TOTAL NO. of ITERATIONS REACHED LIMIT.\n",
      "\n",
      "Increase the number of iterations (max_iter) or scale the data as shown in:\n",
      "    https://scikit-learn.org/stable/modules/preprocessing.html\n",
      "Please also refer to the documentation for alternative solver options:\n",
      "    https://scikit-learn.org/stable/modules/linear_model.html#logistic-regression\n",
      "  extra_warning_msg=_LOGISTIC_SOLVER_CONVERGENCE_MSG)\n"
     ]
    },
    {
     "data": {
      "text/plain": [
       "LogisticRegression(random_state=0)"
      ]
     },
     "execution_count": 41,
     "metadata": {},
     "output_type": "execute_result"
    }
   ],
   "source": [
    "#fitting logistic regression to the training set  #logistic is linear classifier\n",
    "                     #(since here in 2D,our 2 categories of users will be seperated by a straight line)\n",
    "from sklearn.linear_model import LogisticRegression\n",
    "classifier = LogisticRegression(random_state = 0) #classifier is the object of logistic reg class\n",
    "classifier.fit(X_train, y_train)"
   ]
  },
  {
   "cell_type": "code",
   "execution_count": 42,
   "metadata": {},
   "outputs": [],
   "source": [
    "#predicting the test set results\n",
    "y_pred = classifier.predict(X_test)    #vector of predictions-of each of test set observation"
   ]
  },
  {
   "cell_type": "code",
   "execution_count": 43,
   "metadata": {},
   "outputs": [
    {
     "name": "stdout",
     "output_type": "stream",
     "text": [
      "Confusion Matrix : \n",
      " [[83932   108]\n",
      " [ 1715  9892]]\n",
      "Accuracy Score is 0.9809\n",
      "Classification Report : \n",
      "               precision    recall  f1-score   support\n",
      "\n",
      "           0       0.98      1.00      0.99     84040\n",
      "           1       0.99      0.85      0.92     11607\n",
      "\n",
      "    accuracy                           0.98     95647\n",
      "   macro avg       0.98      0.93      0.95     95647\n",
      "weighted avg       0.98      0.98      0.98     95647\n",
      "\n",
      "AUC-ROC: 0.9254796164913366\n",
      "LOGLOSS Value is 0.6583\n"
     ]
    },
    {
     "data": {
      "image/png": "[encoded data removed]",
      "text/plain": [
       "<Figure size 432x288 with 1 Axes>"
      ]
     },
     "metadata": {
      "needs_background": "light"
     },
     "output_type": "display_data"
    }
   ],
   "source": [
    "from sklearn.metrics import confusion_matrix, accuracy_score, classification_report, roc_auc_score, log_loss, roc_curve, auc\n",
    "fpr, tpr, thresholds = roc_curve(y_test, y_pred)\n",
    "roc_auc = auc(fpr, tpr)\n",
    "results = confusion_matrix(y_test, y_pred)\n",
    "print ('Confusion Matrix : \\n', results)\n",
    "print ('Accuracy Score is %.4f' % (accuracy_score(y_test, y_pred)))\n",
    "print ('Classification Report : \\n', classification_report(y_test, y_pred))\n",
    "print('AUC-ROC:',roc_auc_score(y_test, y_pred))\n",
    "print('LOGLOSS Value is %.4f' % log_loss(y_test, y_pred))\n",
    "plt.title('Receiver Operating Characteristic')\n",
    "plt.plot(fpr, tpr, 'y', label = 'AUC = %0.2f' % roc_auc)\n",
    "plt.legend(loc = 'lower right')\n",
    "plt.plot([0, 1], [0, 1],'r--')\n",
    "plt.xlim([0, 1])\n",
    "plt.ylim([0, 1])\n",
    "plt.ylabel('True Positive Rate')\n",
    "plt.xlabel('False Positive Rate')\n",
    "plt.show()"
   ]
  },
  {
   "cell_type": "code",
   "execution_count": 44,
   "metadata": {},
   "outputs": [
    {
     "data": {
      "image/png": "[encoded data removed]",
      "text/plain": [
       "<Figure size 432x288 with 1 Axes>"
      ]
     },
     "metadata": {
      "needs_background": "light"
     },
     "output_type": "display_data"
    }
   ],
   "source": [
    "#We can extract probability values and create a prediction based on a specified cut of value.\n",
    "prob_pred= classifier.predict_proba(X_test)\n",
    "y_pred = 1*(prob_pred[:,0] > 0.6) # giving cut_of_value = 0.6 \n",
    "plt.clf() # to remove previous plot\n",
    "plt.hist(prob_pred[:, 0])\n",
    "plt.show()"
   ]
  },
  {
   "cell_type": "markdown",
   "metadata": {},
   "source": [
    "# Naive Bayes"
   ]
  },
  {
   "cell_type": "code",
   "execution_count": 45,
   "metadata": {},
   "outputs": [
    {
     "name": "stderr",
     "output_type": "stream",
     "text": [
      "C:\\Users\\Owner\\Anaconda3\\lib\\site-packages\\sklearn\\utils\\validation.py:72: DataConversionWarning: A column-vector y was passed when a 1d array was expected. Please change the shape of y to (n_samples, ), for example using ravel().\n",
      "  return f(**kwargs)\n"
     ]
    },
    {
     "data": {
      "text/plain": [
       "GaussianNB()"
      ]
     },
     "execution_count": 45,
     "metadata": {},
     "output_type": "execute_result"
    }
   ],
   "source": [
    "# Fitting Naive Bayes to the Training set\n",
    "from sklearn.naive_bayes import GaussianNB\n",
    "classifier = GaussianNB()\n",
    "classifier.fit(X_train, y_train)"
   ]
  },
  {
   "cell_type": "code",
   "execution_count": 46,
   "metadata": {},
   "outputs": [],
   "source": [
    "# Predicting the Test set results\n",
    "y_pred = classifier.predict(X_test)"
   ]
  },
  {
   "cell_type": "code",
   "execution_count": 47,
   "metadata": {},
   "outputs": [
    {
     "name": "stdout",
     "output_type": "stream",
     "text": [
      "Confusion Matrix : \n",
      " [[83573   467]\n",
      " [ 1990  9617]]\n",
      "Accuracy Score is 0.9743\n",
      "Classification Report : \n",
      "               precision    recall  f1-score   support\n",
      "\n",
      "           0       0.98      0.99      0.99     84040\n",
      "           1       0.95      0.83      0.89     11607\n",
      "\n",
      "    accuracy                           0.97     95647\n",
      "   macro avg       0.97      0.91      0.94     95647\n",
      "weighted avg       0.97      0.97      0.97     95647\n",
      "\n",
      "AUC-ROC: 0.911497429172035\n",
      "LOGLOSS Value is 0.8872\n"
     ]
    },
    {
     "data": {
      "image/png": "[encoded data removed]",
      "text/plain": [
       "<Figure size 432x288 with 1 Axes>"
      ]
     },
     "metadata": {
      "needs_background": "light"
     },
     "output_type": "display_data"
    }
   ],
   "source": [
    "from sklearn.metrics import confusion_matrix, accuracy_score, classification_report, roc_auc_score, log_loss, roc_curve, auc\n",
    "fpr, tpr, thresholds = roc_curve(y_test, y_pred)\n",
    "roc_auc = auc(fpr, tpr)\n",
    "results = confusion_matrix(y_test, y_pred)\n",
    "print ('Confusion Matrix : \\n', results)\n",
    "print ('Accuracy Score is %.4f' % (accuracy_score(y_test, y_pred)))\n",
    "print ('Classification Report : \\n', classification_report(y_test, y_pred))\n",
    "print('AUC-ROC:',roc_auc_score(y_test, y_pred))\n",
    "print('LOGLOSS Value is %.4f' % log_loss(y_test, y_pred))\n",
    "plt.title('Receiver Operating Characteristic')\n",
    "plt.plot(fpr, tpr, 'y', label = 'AUC = %0.2f' % roc_auc)\n",
    "plt.legend(loc = 'lower right')\n",
    "plt.plot([0, 1], [0, 1],'r--')\n",
    "plt.xlim([0, 1])\n",
    "plt.ylim([0, 1])\n",
    "plt.ylabel('True Positive Rate')\n",
    "plt.xlabel('False Positive Rate')\n",
    "plt.show()"
   ]
  },
  {
   "cell_type": "code",
   "execution_count": null,
   "metadata": {},
   "outputs": [],
   "source": []
  }
 ],
 "metadata": {
  "kernelspec": {
   "display_name": "Python 3",
   "language": "python",
   "name": "python3"
  },
  "language_info": {
   "codemirror_mode": {
    "name": "ipython",
    "version": 3
   },
   "file_extension": ".py",
   "mimetype": "text/x-python",
   "name": "python",
   "nbconvert_exporter": "python",
   "pygments_lexer": "ipython3",
   "version": "3.7.9"
  }
 },
 "nbformat": 4,
 "nbformat_minor": 2
}
