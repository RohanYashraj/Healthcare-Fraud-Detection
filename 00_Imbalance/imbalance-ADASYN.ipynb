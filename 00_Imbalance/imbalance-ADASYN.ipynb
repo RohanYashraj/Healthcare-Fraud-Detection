{
 "cells": [
  {
   "cell_type": "markdown",
   "metadata": {
    "_cell_guid": "7be856b9-7903-5cf3-19b3-fce7ece95502"
   },
   "source": [
    "# ADASYN with Imbalance Data"
   ]
  },
  {
   "cell_type": "code",
   "execution_count": 1,
   "metadata": {
    "_cell_guid": "21256b6b-21dd-5dbb-7e8a-43af8b852cdd"
   },
   "outputs": [],
   "source": [
    "import pandas  as pd\n",
    "import matplotlib.pyplot as plt\n",
    "import numpy as np\n",
    "\n",
    "%matplotlib inline"
   ]
  },
  {
   "cell_type": "code",
   "execution_count": 2,
   "metadata": {},
   "outputs": [],
   "source": [
    "Data = pd.read_csv('./Data/train.csv')"
   ]
  },
  {
   "cell_type": "code",
   "execution_count": 3,
   "metadata": {},
   "outputs": [],
   "source": [
    "X = Data.iloc[:, :-1]\n",
    "y = Data.iloc[:, -1]"
   ]
  },
  {
   "cell_type": "code",
   "execution_count": 4,
   "metadata": {},
   "outputs": [],
   "source": [
    "y=pd.DataFrame(y)"
   ]
  },
  {
   "cell_type": "code",
   "execution_count": 5,
   "metadata": {},
   "outputs": [
    {
     "data": {
      "text/plain": [
       "pandas.core.frame.DataFrame"
      ]
     },
     "execution_count": 5,
     "metadata": {},
     "output_type": "execute_result"
    }
   ],
   "source": [
    "type(y)"
   ]
  },
  {
   "cell_type": "code",
   "execution_count": 6,
   "metadata": {},
   "outputs": [
    {
     "data": {
      "text/plain": [
       "pandas.core.frame.DataFrame"
      ]
     },
     "execution_count": 6,
     "metadata": {},
     "output_type": "execute_result"
    }
   ],
   "source": [
    "type(X)"
   ]
  },
  {
   "cell_type": "code",
   "execution_count": 7,
   "metadata": {
    "_cell_guid": "6b44dc91-42aa-a99a-d4ff-e9e2f8002bdf"
   },
   "outputs": [
    {
     "data": {
      "text/plain": [
       "Index(['No of Days Stayed', 'Net Amt', 'settlement_delay', 'age', 'Start_year',\n",
       "       'Start_month', 'Start_week', 'Start_day', 'Start_dayofweek',\n",
       "       'Reported_year', 'Reported_month', 'Reported_week', 'Reported_day',\n",
       "       'Reported_dayofweek', 'Commencement_year', 'Commencement_month',\n",
       "       'Commencement_week', 'Commencement_day', 'Commencement_dayofweek',\n",
       "       'Termination_year', 'Termination_month', 'Termination_week',\n",
       "       'Termination_day', 'Termination_dayofweek', 'Benefit Type_MEDICAL',\n",
       "       'Benefit Type_SURGICAL', 'Claim Status_Cancelled / Rejected',\n",
       "       'Claim Status_Outstanding', 'Claim Status_Paid',\n",
       "       'Claim Status_Pre-Auth Approved', 'ClaimEvent_TPA_ID_51381',\n",
       "       'ClaimEvent_TPA_ID_59682', 'Primary Diagnosis Code_-N',\n",
       "       'Primary Diagnosis Code_M1', 'Primary Diagnosis Code_M2',\n",
       "       'Primary Diagnosis Code_M3', 'Primary Diagnosis Code_M4',\n",
       "       'Primary Diagnosis Code_M5', 'Primary Diagnosis Code_M6',\n",
       "       'Primary Diagnosis Code_M7', 'Primary Diagnosis Code_M8',\n",
       "       'Primary Diagnosis Code_MC', 'Primary Diagnosis Code_MG',\n",
       "       'Primary Diagnosis Code_MM', 'Primary Diagnosis Code_MO',\n",
       "       'Primary Diagnosis Code_MP', 'Primary Diagnosis Code_MR',\n",
       "       'Primary Diagnosis Code_S1', 'Primary Diagnosis Code_S2',\n",
       "       'Primary Diagnosis Code_S3', 'Primary Diagnosis Code_S4',\n",
       "       'Primary Diagnosis Code_S5', 'Primary Diagnosis Code_S6',\n",
       "       'Primary Diagnosis Code_S7', 'Primary Diagnosis Code_S8',\n",
       "       'Primary Diagnosis Code_S9', 'Primary Diagnosis Code_SB',\n",
       "       'Primary Diagnosis Code_SC', 'Primary Diagnosis Code_SE',\n",
       "       'Primary Diagnosis Code_SG', 'Primary Diagnosis Code_SL',\n",
       "       'Primary Diagnosis Code_SN', 'Primary Diagnosis Code_SO',\n",
       "       'Primary Diagnosis Code_ST', 'Primary Diagnosis Code_SV',\n",
       "       'Primary Diagnosis Code_U1', 'Hospital Type_Private',\n",
       "       'Hospital Type_Public', 'TPA NAME_FHPL', 'TPA NAME_Vidal',\n",
       "       'Benefit Code_MEDICAL', 'Benefit Code_SURGICAL', 'Gender Code_Female',\n",
       "       'Gender Code_Male', 'Residence Location_AMRITSAR',\n",
       "       'Residence Location_BARNALA', 'Residence Location_BATHINDA',\n",
       "       'Residence Location_FARIDKOT', 'Residence Location_FATEHGARH SAHIB',\n",
       "       'Residence Location_FAZILKA', 'Residence Location_FIROZEPUR',\n",
       "       'Residence Location_GURDASPUR', 'Residence Location_HOSHIARPUR',\n",
       "       'Residence Location_JALANDHAR', 'Residence Location_KAPURTHALA',\n",
       "       'Residence Location_LUDHIANA', 'Residence Location_MANSA',\n",
       "       'Residence Location_MOGA', 'Residence Location_PATHANKOT',\n",
       "       'Residence Location_PATIALA', 'Residence Location_RUPNAGAR',\n",
       "       'Residence Location_S.A.S Nagar', 'Residence Location_SANGRUR',\n",
       "       'Residence Location_SRI MUKTSAR SAHIB',\n",
       "       'Residence Location_Shahid Bhagat Singh Nagar',\n",
       "       'Residence Location_Tarn Taran', 'Reject status more than 3 months_0',\n",
       "       'Reject status more than 3 months_1'],\n",
       "      dtype='object')"
      ]
     },
     "execution_count": 7,
     "metadata": {},
     "output_type": "execute_result"
    }
   ],
   "source": [
    "headers = X.columns.copy()\n",
    "headers"
   ]
  },
  {
   "cell_type": "code",
   "execution_count": 8,
   "metadata": {
    "_cell_guid": "ece4502d-7ac4-adcc-8a44-0c33a92f5e44"
   },
   "outputs": [
    {
     "data": {
      "text/plain": [
       "0    252147\n",
       "1     34793\n",
       "Name: FraudFound, dtype: int64"
      ]
     },
     "execution_count": 8,
     "metadata": {},
     "output_type": "execute_result"
    },
    {
     "data": {
      "image/png": "[encoded data removed]",
      "text/plain": [
       "<Figure size 432x288 with 1 Axes>"
      ]
     },
     "metadata": {
      "needs_background": "light"
     },
     "output_type": "display_data"
    }
   ],
   "source": [
    "pd.value_counts(y['FraudFound']).plot.bar()\n",
    "plt.title('Fraud class histogram')\n",
    "plt.xlabel('Class')\n",
    "plt.ylabel('Frequency')\n",
    "y['FraudFound'].value_counts()"
   ]
  },
  {
   "cell_type": "code",
   "execution_count": 9,
   "metadata": {
    "scrolled": true
   },
   "outputs": [
    {
     "data": {
      "text/html": [
       "<div>\n",
       "<style scoped>\n",
       "    .dataframe tbody tr th:only-of-type {\n",
       "        vertical-align: middle;\n",
       "    }\n",
       "\n",
       "    .dataframe tbody tr th {\n",
       "        vertical-align: top;\n",
       "    }\n",
       "\n",
       "    .dataframe thead th {\n",
       "        text-align: right;\n",
       "    }\n",
       "</style>\n",
       "<table border=\"1\" class=\"dataframe\">\n",
       "  <thead>\n",
       "    <tr style=\"text-align: right;\">\n",
       "      <th></th>\n",
       "      <th>No of Days Stayed</th>\n",
       "      <th>Net Amt</th>\n",
       "      <th>settlement_delay</th>\n",
       "      <th>age</th>\n",
       "      <th>Start_year</th>\n",
       "      <th>Start_month</th>\n",
       "      <th>Start_week</th>\n",
       "      <th>Start_day</th>\n",
       "      <th>Start_dayofweek</th>\n",
       "      <th>Reported_year</th>\n",
       "      <th>...</th>\n",
       "      <th>Residence Location_PATHANKOT</th>\n",
       "      <th>Residence Location_PATIALA</th>\n",
       "      <th>Residence Location_RUPNAGAR</th>\n",
       "      <th>Residence Location_S.A.S Nagar</th>\n",
       "      <th>Residence Location_SANGRUR</th>\n",
       "      <th>Residence Location_SRI MUKTSAR SAHIB</th>\n",
       "      <th>Residence Location_Shahid Bhagat Singh Nagar</th>\n",
       "      <th>Residence Location_Tarn Taran</th>\n",
       "      <th>Reject status more than 3 months_0</th>\n",
       "      <th>Reject status more than 3 months_1</th>\n",
       "    </tr>\n",
       "  </thead>\n",
       "  <tbody>\n",
       "    <tr>\n",
       "      <th>0</th>\n",
       "      <td>0.012346</td>\n",
       "      <td>0.089984</td>\n",
       "      <td>0.366211</td>\n",
       "      <td>1.0</td>\n",
       "      <td>1.0</td>\n",
       "      <td>0.272727</td>\n",
       "      <td>0.274510</td>\n",
       "      <td>0.233333</td>\n",
       "      <td>0.333333</td>\n",
       "      <td>1.0</td>\n",
       "      <td>...</td>\n",
       "      <td>0.0</td>\n",
       "      <td>0.0</td>\n",
       "      <td>0.0</td>\n",
       "      <td>0.0</td>\n",
       "      <td>1.0</td>\n",
       "      <td>0.0</td>\n",
       "      <td>0.0</td>\n",
       "      <td>0.0</td>\n",
       "      <td>1.0</td>\n",
       "      <td>0.0</td>\n",
       "    </tr>\n",
       "    <tr>\n",
       "      <th>1</th>\n",
       "      <td>0.008230</td>\n",
       "      <td>0.021340</td>\n",
       "      <td>0.445312</td>\n",
       "      <td>1.0</td>\n",
       "      <td>1.0</td>\n",
       "      <td>0.090909</td>\n",
       "      <td>0.098039</td>\n",
       "      <td>0.200000</td>\n",
       "      <td>0.666667</td>\n",
       "      <td>1.0</td>\n",
       "      <td>...</td>\n",
       "      <td>0.0</td>\n",
       "      <td>0.0</td>\n",
       "      <td>0.0</td>\n",
       "      <td>0.0</td>\n",
       "      <td>0.0</td>\n",
       "      <td>0.0</td>\n",
       "      <td>0.0</td>\n",
       "      <td>0.0</td>\n",
       "      <td>1.0</td>\n",
       "      <td>0.0</td>\n",
       "    </tr>\n",
       "    <tr>\n",
       "      <th>2</th>\n",
       "      <td>0.024691</td>\n",
       "      <td>0.030730</td>\n",
       "      <td>0.396484</td>\n",
       "      <td>1.0</td>\n",
       "      <td>1.0</td>\n",
       "      <td>0.000000</td>\n",
       "      <td>0.039216</td>\n",
       "      <td>0.433333</td>\n",
       "      <td>0.166667</td>\n",
       "      <td>1.0</td>\n",
       "      <td>...</td>\n",
       "      <td>0.0</td>\n",
       "      <td>0.0</td>\n",
       "      <td>0.0</td>\n",
       "      <td>0.0</td>\n",
       "      <td>0.0</td>\n",
       "      <td>0.0</td>\n",
       "      <td>0.0</td>\n",
       "      <td>0.0</td>\n",
       "      <td>1.0</td>\n",
       "      <td>0.0</td>\n",
       "    </tr>\n",
       "    <tr>\n",
       "      <th>3</th>\n",
       "      <td>0.012346</td>\n",
       "      <td>0.042680</td>\n",
       "      <td>0.359375</td>\n",
       "      <td>1.0</td>\n",
       "      <td>1.0</td>\n",
       "      <td>0.000000</td>\n",
       "      <td>0.039216</td>\n",
       "      <td>0.566667</td>\n",
       "      <td>0.833333</td>\n",
       "      <td>1.0</td>\n",
       "      <td>...</td>\n",
       "      <td>0.0</td>\n",
       "      <td>0.0</td>\n",
       "      <td>0.0</td>\n",
       "      <td>0.0</td>\n",
       "      <td>0.0</td>\n",
       "      <td>0.0</td>\n",
       "      <td>0.0</td>\n",
       "      <td>1.0</td>\n",
       "      <td>1.0</td>\n",
       "      <td>0.0</td>\n",
       "    </tr>\n",
       "    <tr>\n",
       "      <th>4</th>\n",
       "      <td>0.000000</td>\n",
       "      <td>0.005691</td>\n",
       "      <td>0.456055</td>\n",
       "      <td>1.0</td>\n",
       "      <td>0.0</td>\n",
       "      <td>1.000000</td>\n",
       "      <td>0.000000</td>\n",
       "      <td>0.966667</td>\n",
       "      <td>0.000000</td>\n",
       "      <td>1.0</td>\n",
       "      <td>...</td>\n",
       "      <td>0.0</td>\n",
       "      <td>0.0</td>\n",
       "      <td>0.0</td>\n",
       "      <td>1.0</td>\n",
       "      <td>0.0</td>\n",
       "      <td>0.0</td>\n",
       "      <td>0.0</td>\n",
       "      <td>0.0</td>\n",
       "      <td>1.0</td>\n",
       "      <td>0.0</td>\n",
       "    </tr>\n",
       "  </tbody>\n",
       "</table>\n",
       "<p>5 rows × 98 columns</p>\n",
       "</div>"
      ],
      "text/plain": [
       "   No of Days Stayed   Net Amt  settlement_delay  age  Start_year  \\\n",
       "0           0.012346  0.089984          0.366211  1.0         1.0   \n",
       "1           0.008230  0.021340          0.445312  1.0         1.0   \n",
       "2           0.024691  0.030730          0.396484  1.0         1.0   \n",
       "3           0.012346  0.042680          0.359375  1.0         1.0   \n",
       "4           0.000000  0.005691          0.456055  1.0         0.0   \n",
       "\n",
       "   Start_month  Start_week  Start_day  Start_dayofweek  Reported_year  ...  \\\n",
       "0     0.272727    0.274510   0.233333         0.333333            1.0  ...   \n",
       "1     0.090909    0.098039   0.200000         0.666667            1.0  ...   \n",
       "2     0.000000    0.039216   0.433333         0.166667            1.0  ...   \n",
       "3     0.000000    0.039216   0.566667         0.833333            1.0  ...   \n",
       "4     1.000000    0.000000   0.966667         0.000000            1.0  ...   \n",
       "\n",
       "   Residence Location_PATHANKOT  Residence Location_PATIALA  \\\n",
       "0                           0.0                         0.0   \n",
       "1                           0.0                         0.0   \n",
       "2                           0.0                         0.0   \n",
       "3                           0.0                         0.0   \n",
       "4                           0.0                         0.0   \n",
       "\n",
       "   Residence Location_RUPNAGAR  Residence Location_S.A.S Nagar  \\\n",
       "0                          0.0                             0.0   \n",
       "1                          0.0                             0.0   \n",
       "2                          0.0                             0.0   \n",
       "3                          0.0                             0.0   \n",
       "4                          0.0                             1.0   \n",
       "\n",
       "   Residence Location_SANGRUR  Residence Location_SRI MUKTSAR SAHIB  \\\n",
       "0                         1.0                                   0.0   \n",
       "1                         0.0                                   0.0   \n",
       "2                         0.0                                   0.0   \n",
       "3                         0.0                                   0.0   \n",
       "4                         0.0                                   0.0   \n",
       "\n",
       "   Residence Location_Shahid Bhagat Singh Nagar  \\\n",
       "0                                           0.0   \n",
       "1                                           0.0   \n",
       "2                                           0.0   \n",
       "3                                           0.0   \n",
       "4                                           0.0   \n",
       "\n",
       "   Residence Location_Tarn Taran  Reject status more than 3 months_0  \\\n",
       "0                            0.0                                 1.0   \n",
       "1                            0.0                                 1.0   \n",
       "2                            0.0                                 1.0   \n",
       "3                            1.0                                 1.0   \n",
       "4                            0.0                                 1.0   \n",
       "\n",
       "   Reject status more than 3 months_1  \n",
       "0                                 0.0  \n",
       "1                                 0.0  \n",
       "2                                 0.0  \n",
       "3                                 0.0  \n",
       "4                                 0.0  \n",
       "\n",
       "[5 rows x 98 columns]"
      ]
     },
     "execution_count": 9,
     "metadata": {},
     "output_type": "execute_result"
    }
   ],
   "source": [
    "X.head()"
   ]
  },
  {
   "cell_type": "markdown",
   "metadata": {
    "_cell_guid": "f66f8804-2605-d915-cb7a-d6f1b0afcf13"
   },
   "source": []
  },
  {
   "cell_type": "code",
   "execution_count": 10,
   "metadata": {
    "_cell_guid": "ada96df8-6788-87df-6ffc-2fe29ad94521"
   },
   "outputs": [
    {
     "name": "stdout",
     "output_type": "stream",
     "text": [
      "Shape of X: (286940, 98)\n",
      "Shape of y: (286940, 1)\n"
     ]
    }
   ],
   "source": [
    "X = np.array(X)\n",
    "y = np.array(y)\n",
    "print('Shape of X: {}'.format(X.shape))\n",
    "print('Shape of y: {}'.format(y.shape))"
   ]
  },
  {
   "cell_type": "code",
   "execution_count": 11,
   "metadata": {},
   "outputs": [
    {
     "data": {
      "text/plain": [
       "numpy.ndarray"
      ]
     },
     "execution_count": 11,
     "metadata": {},
     "output_type": "execute_result"
    }
   ],
   "source": [
    "type(X)"
   ]
  },
  {
   "cell_type": "code",
   "execution_count": 12,
   "metadata": {
    "scrolled": false
   },
   "outputs": [
    {
     "name": "stderr",
     "output_type": "stream",
     "text": [
      "Using TensorFlow backend.\n"
     ]
    }
   ],
   "source": [
    "from imblearn.over_sampling import ADASYN #, SMOTE \n",
    "from collections import Counter\n",
    "from sklearn.svm import LinearSVC"
   ]
  },
  {
   "cell_type": "code",
   "execution_count": 13,
   "metadata": {},
   "outputs": [
    {
     "name": "stdout",
     "output_type": "stream",
     "text": [
      "Before OverSampling, counts of label '1': [34793]\n",
      "Before OverSampling, counts of label '0': [252147] \n",
      "\n",
      "After OverSampling, the shape of train_X: (505860, 98)\n",
      "After OverSampling, the shape of train_y: (505860,) \n",
      "\n",
      "After OverSampling, counts of label '1': 253713\n",
      "After OverSampling, counts of label '0': 252147\n"
     ]
    }
   ],
   "source": [
    "print(\"Before OverSampling, counts of label '1': {}\".format(sum(y==1)))\n",
    "print(\"Before OverSampling, counts of label '0': {} \\n\".format(sum(y==0)))\n",
    "\n",
    "# sm = SMOTE(random_state=2)\n",
    "X_res, y_res = ADASYN().fit_resample(X, y)\n",
    "\n",
    "print('After OverSampling, the shape of train_X: {}'.format(X_res.shape))\n",
    "print('After OverSampling, the shape of train_y: {} \\n'.format(y_res.shape))\n",
    "\n",
    "print(\"After OverSampling, counts of label '1': {}\".format(sum(y_res==1)))\n",
    "print(\"After OverSampling, counts of label '0': {}\".format(sum(y_res==0)))"
   ]
  },
  {
   "cell_type": "code",
   "execution_count": 14,
   "metadata": {},
   "outputs": [],
   "source": [
    "# pd.value_counts(y['FraudFound']).plot.bar()\n",
    "# plt.title('Fraud class histogram')\n",
    "# plt.xlabel('Class')\n",
    "# plt.ylabel('Frequency')\n",
    "# y['FraudFound'].value_counts()"
   ]
  },
  {
   "cell_type": "code",
   "execution_count": 15,
   "metadata": {},
   "outputs": [
    {
     "data": {
      "text/plain": [
       "numpy.ndarray"
      ]
     },
     "execution_count": 15,
     "metadata": {},
     "output_type": "execute_result"
    }
   ],
   "source": [
    "type(X_res)"
   ]
  },
  {
   "cell_type": "code",
   "execution_count": 16,
   "metadata": {},
   "outputs": [
    {
     "data": {
      "text/plain": [
       "numpy.ndarray"
      ]
     },
     "execution_count": 16,
     "metadata": {},
     "output_type": "execute_result"
    }
   ],
   "source": [
    "type(y_res)"
   ]
  },
  {
   "cell_type": "code",
   "execution_count": 17,
   "metadata": {},
   "outputs": [],
   "source": [
    "X_ADASYN = pd.DataFrame(X_res)\n",
    "X_ADASYN.columns = headers"
   ]
  },
  {
   "cell_type": "code",
   "execution_count": 18,
   "metadata": {},
   "outputs": [
    {
     "data": {
      "text/plain": [
       "numpy.ndarray"
      ]
     },
     "execution_count": 18,
     "metadata": {},
     "output_type": "execute_result"
    }
   ],
   "source": [
    "type(y_res)"
   ]
  },
  {
   "cell_type": "code",
   "execution_count": 19,
   "metadata": {
    "scrolled": true
   },
   "outputs": [
    {
     "data": {
      "text/html": [
       "<div>\n",
       "<style scoped>\n",
       "    .dataframe tbody tr th:only-of-type {\n",
       "        vertical-align: middle;\n",
       "    }\n",
       "\n",
       "    .dataframe tbody tr th {\n",
       "        vertical-align: top;\n",
       "    }\n",
       "\n",
       "    .dataframe thead th {\n",
       "        text-align: right;\n",
       "    }\n",
       "</style>\n",
       "<table border=\"1\" class=\"dataframe\">\n",
       "  <thead>\n",
       "    <tr style=\"text-align: right;\">\n",
       "      <th></th>\n",
       "      <th>FraudFound</th>\n",
       "    </tr>\n",
       "  </thead>\n",
       "  <tbody>\n",
       "    <tr>\n",
       "      <th>0</th>\n",
       "      <td>1</td>\n",
       "    </tr>\n",
       "    <tr>\n",
       "      <th>1</th>\n",
       "      <td>0</td>\n",
       "    </tr>\n",
       "    <tr>\n",
       "      <th>2</th>\n",
       "      <td>0</td>\n",
       "    </tr>\n",
       "    <tr>\n",
       "      <th>3</th>\n",
       "      <td>0</td>\n",
       "    </tr>\n",
       "    <tr>\n",
       "      <th>4</th>\n",
       "      <td>0</td>\n",
       "    </tr>\n",
       "  </tbody>\n",
       "</table>\n",
       "</div>"
      ],
      "text/plain": [
       "   FraudFound\n",
       "0           1\n",
       "1           0\n",
       "2           0\n",
       "3           0\n",
       "4           0"
      ]
     },
     "execution_count": 19,
     "metadata": {},
     "output_type": "execute_result"
    }
   ],
   "source": [
    "y_ADASYN = pd.DataFrame(y_res)\n",
    "y_ADASYN.columns = ['FraudFound']\n",
    "y_ADASYN.head()"
   ]
  },
  {
   "cell_type": "code",
   "execution_count": 20,
   "metadata": {},
   "outputs": [],
   "source": [
    "X_ADASYN.to_csv(r\"./Data/ADASYN/X_ADASYN.csv\", index=False)\n",
    "y_ADASYN.to_csv(r\"./Data/ADASYN/y_ADASYN.csv\", index=False)"
   ]
  },
  {
   "cell_type": "code",
   "execution_count": 21,
   "metadata": {},
   "outputs": [],
   "source": [
    "ADASYN = X_ADASYN\n",
    "ADASYN['FraudFound'] = y_res"
   ]
  },
  {
   "cell_type": "code",
   "execution_count": 22,
   "metadata": {},
   "outputs": [],
   "source": [
    "ADASYN.to_csv(r\"./Data/ADASYN/ADASYN.csv\", index=False)"
   ]
  }
 ],
 "metadata": {
  "_change_revision": 440,
  "_is_fork": false,
  "kernelspec": {
   "display_name": "Python 3",
   "language": "python",
   "name": "python3"
  },
  "language_info": {
   "codemirror_mode": {
    "name": "ipython",
    "version": 3
   },
   "file_extension": ".py",
   "mimetype": "text/x-python",
   "name": "python",
   "nbconvert_exporter": "python",
   "pygments_lexer": "ipython3",
   "version": "3.7.9"
  }
 },
 "nbformat": 4,
 "nbformat_minor": 1
}
