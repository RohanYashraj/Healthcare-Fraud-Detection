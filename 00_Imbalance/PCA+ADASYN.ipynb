{
 "cells": [
  {
   "cell_type": "markdown",
   "metadata": {
    "_cell_guid": "7be856b9-7903-5cf3-19b3-fce7ece95502"
   },
   "source": [
    "# ADASYN with Imbalance Data"
   ]
  },
  {
   "cell_type": "code",
   "execution_count": 1,
   "metadata": {
    "_cell_guid": "21256b6b-21dd-5dbb-7e8a-43af8b852cdd"
   },
   "outputs": [],
   "source": [
    "import pandas  as pd\n",
    "import matplotlib.pyplot as plt\n",
    "import numpy as np\n",
    "\n",
    "%matplotlib inline"
   ]
  },
  {
   "cell_type": "code",
   "execution_count": 2,
   "metadata": {},
   "outputs": [],
   "source": [
    "Data = pd.read_csv('../01_Embedding/PCA/EmbeddedData/train_PCA.csv')"
   ]
  },
  {
   "cell_type": "code",
   "execution_count": 3,
   "metadata": {},
   "outputs": [],
   "source": [
    "X = Data.iloc[:, :-1]\n",
    "y = Data.iloc[:, -1]"
   ]
  },
  {
   "cell_type": "code",
   "execution_count": 4,
   "metadata": {},
   "outputs": [],
   "source": [
    "y=pd.DataFrame(y)"
   ]
  },
  {
   "cell_type": "code",
   "execution_count": 5,
   "metadata": {},
   "outputs": [
    {
     "data": {
      "text/plain": [
       "pandas.core.frame.DataFrame"
      ]
     },
     "execution_count": 5,
     "metadata": {},
     "output_type": "execute_result"
    }
   ],
   "source": [
    "type(y)"
   ]
  },
  {
   "cell_type": "code",
   "execution_count": 6,
   "metadata": {},
   "outputs": [
    {
     "data": {
      "text/plain": [
       "pandas.core.frame.DataFrame"
      ]
     },
     "execution_count": 6,
     "metadata": {},
     "output_type": "execute_result"
    }
   ],
   "source": [
    "type(X)"
   ]
  },
  {
   "cell_type": "code",
   "execution_count": 7,
   "metadata": {
    "_cell_guid": "6b44dc91-42aa-a99a-d4ff-e9e2f8002bdf"
   },
   "outputs": [
    {
     "data": {
      "text/plain": [
       "Index(['0', '1', '2', '3', '4', '5', '6', '7', '8', '9', '10', '11', '12',\n",
       "       '13', '14', '15', '16', '17', '18', '19', '20', '21', '22', '23', '24',\n",
       "       '25', '26', '27', '28', '29', '30', '31', '32', '33', '34', '35', '36',\n",
       "       '37', '38', '39'],\n",
       "      dtype='object')"
      ]
     },
     "execution_count": 7,
     "metadata": {},
     "output_type": "execute_result"
    }
   ],
   "source": [
    "headers = X.columns.copy()\n",
    "headers"
   ]
  },
  {
   "cell_type": "code",
   "execution_count": 8,
   "metadata": {
    "_cell_guid": "ece4502d-7ac4-adcc-8a44-0c33a92f5e44"
   },
   "outputs": [
    {
     "data": {
      "text/plain": [
       "0    252147\n",
       "1     34793\n",
       "Name: FraudFound, dtype: int64"
      ]
     },
     "execution_count": 8,
     "metadata": {},
     "output_type": "execute_result"
    },
    {
     "data": {
      "image/png": "[encoded data removed]",
      "text/plain": [
       "<Figure size 432x288 with 1 Axes>"
      ]
     },
     "metadata": {
      "needs_background": "light"
     },
     "output_type": "display_data"
    }
   ],
   "source": [
    "pd.value_counts(y['FraudFound']).plot.bar()\n",
    "plt.title('Fraud class histogram')\n",
    "plt.xlabel('Class')\n",
    "plt.ylabel('Frequency')\n",
    "y['FraudFound'].value_counts()"
   ]
  },
  {
   "cell_type": "code",
   "execution_count": 9,
   "metadata": {
    "scrolled": true
   },
   "outputs": [
    {
     "data": {
      "text/html": [
       "<div>\n",
       "<style scoped>\n",
       "    .dataframe tbody tr th:only-of-type {\n",
       "        vertical-align: middle;\n",
       "    }\n",
       "\n",
       "    .dataframe tbody tr th {\n",
       "        vertical-align: top;\n",
       "    }\n",
       "\n",
       "    .dataframe thead th {\n",
       "        text-align: right;\n",
       "    }\n",
       "</style>\n",
       "<table border=\"1\" class=\"dataframe\">\n",
       "  <thead>\n",
       "    <tr style=\"text-align: right;\">\n",
       "      <th></th>\n",
       "      <th>0</th>\n",
       "      <th>1</th>\n",
       "      <th>2</th>\n",
       "      <th>3</th>\n",
       "      <th>4</th>\n",
       "      <th>5</th>\n",
       "      <th>6</th>\n",
       "      <th>7</th>\n",
       "      <th>8</th>\n",
       "      <th>9</th>\n",
       "      <th>...</th>\n",
       "      <th>30</th>\n",
       "      <th>31</th>\n",
       "      <th>32</th>\n",
       "      <th>33</th>\n",
       "      <th>34</th>\n",
       "      <th>35</th>\n",
       "      <th>36</th>\n",
       "      <th>37</th>\n",
       "      <th>38</th>\n",
       "      <th>39</th>\n",
       "    </tr>\n",
       "  </thead>\n",
       "  <tbody>\n",
       "    <tr>\n",
       "      <th>0</th>\n",
       "      <td>-1.293363</td>\n",
       "      <td>0.484208</td>\n",
       "      <td>-0.778605</td>\n",
       "      <td>0.196901</td>\n",
       "      <td>0.203080</td>\n",
       "      <td>-0.276181</td>\n",
       "      <td>0.163840</td>\n",
       "      <td>-0.727228</td>\n",
       "      <td>0.164783</td>\n",
       "      <td>0.282505</td>\n",
       "      <td>...</td>\n",
       "      <td>0.280461</td>\n",
       "      <td>0.112511</td>\n",
       "      <td>-0.167565</td>\n",
       "      <td>0.241680</td>\n",
       "      <td>0.134053</td>\n",
       "      <td>0.049167</td>\n",
       "      <td>0.008604</td>\n",
       "      <td>-0.335652</td>\n",
       "      <td>0.338084</td>\n",
       "      <td>0.639564</td>\n",
       "    </tr>\n",
       "    <tr>\n",
       "      <th>1</th>\n",
       "      <td>-1.000537</td>\n",
       "      <td>0.782714</td>\n",
       "      <td>0.641157</td>\n",
       "      <td>-1.262007</td>\n",
       "      <td>0.339296</td>\n",
       "      <td>-0.191242</td>\n",
       "      <td>-0.052936</td>\n",
       "      <td>-0.478059</td>\n",
       "      <td>0.381229</td>\n",
       "      <td>-0.075820</td>\n",
       "      <td>...</td>\n",
       "      <td>-0.035147</td>\n",
       "      <td>-0.003026</td>\n",
       "      <td>0.012833</td>\n",
       "      <td>-0.265793</td>\n",
       "      <td>0.115587</td>\n",
       "      <td>0.252825</td>\n",
       "      <td>0.117377</td>\n",
       "      <td>0.803869</td>\n",
       "      <td>-0.029065</td>\n",
       "      <td>0.325390</td>\n",
       "    </tr>\n",
       "    <tr>\n",
       "      <th>2</th>\n",
       "      <td>0.880765</td>\n",
       "      <td>1.668059</td>\n",
       "      <td>-0.147633</td>\n",
       "      <td>-1.082997</td>\n",
       "      <td>0.056403</td>\n",
       "      <td>0.058890</td>\n",
       "      <td>-0.613773</td>\n",
       "      <td>0.164287</td>\n",
       "      <td>0.020482</td>\n",
       "      <td>0.257657</td>\n",
       "      <td>...</td>\n",
       "      <td>0.115437</td>\n",
       "      <td>0.045513</td>\n",
       "      <td>0.115059</td>\n",
       "      <td>0.073766</td>\n",
       "      <td>-0.026498</td>\n",
       "      <td>-0.047192</td>\n",
       "      <td>-0.012115</td>\n",
       "      <td>-0.004044</td>\n",
       "      <td>0.008801</td>\n",
       "      <td>0.080400</td>\n",
       "    </tr>\n",
       "    <tr>\n",
       "      <th>3</th>\n",
       "      <td>-0.386926</td>\n",
       "      <td>-1.223401</td>\n",
       "      <td>-0.066371</td>\n",
       "      <td>-1.067165</td>\n",
       "      <td>-0.538200</td>\n",
       "      <td>0.248088</td>\n",
       "      <td>-0.471275</td>\n",
       "      <td>-0.860523</td>\n",
       "      <td>0.083781</td>\n",
       "      <td>-0.325903</td>\n",
       "      <td>...</td>\n",
       "      <td>-0.329045</td>\n",
       "      <td>-0.427553</td>\n",
       "      <td>0.368932</td>\n",
       "      <td>0.338526</td>\n",
       "      <td>0.166647</td>\n",
       "      <td>0.040206</td>\n",
       "      <td>-0.188958</td>\n",
       "      <td>0.034582</td>\n",
       "      <td>-0.090650</td>\n",
       "      <td>-0.045612</td>\n",
       "    </tr>\n",
       "    <tr>\n",
       "      <th>4</th>\n",
       "      <td>-1.477190</td>\n",
       "      <td>0.319217</td>\n",
       "      <td>-0.624764</td>\n",
       "      <td>0.611954</td>\n",
       "      <td>0.157849</td>\n",
       "      <td>-0.009979</td>\n",
       "      <td>-0.583149</td>\n",
       "      <td>0.228993</td>\n",
       "      <td>-0.282527</td>\n",
       "      <td>0.152813</td>\n",
       "      <td>...</td>\n",
       "      <td>0.050633</td>\n",
       "      <td>0.076408</td>\n",
       "      <td>-0.140688</td>\n",
       "      <td>0.208800</td>\n",
       "      <td>-0.307799</td>\n",
       "      <td>-0.133149</td>\n",
       "      <td>-0.013142</td>\n",
       "      <td>-0.109237</td>\n",
       "      <td>-0.255567</td>\n",
       "      <td>0.134722</td>\n",
       "    </tr>\n",
       "  </tbody>\n",
       "</table>\n",
       "<p>5 rows × 40 columns</p>\n",
       "</div>"
      ],
      "text/plain": [
       "          0         1         2         3         4         5         6  \\\n",
       "0 -1.293363  0.484208 -0.778605  0.196901  0.203080 -0.276181  0.163840   \n",
       "1 -1.000537  0.782714  0.641157 -1.262007  0.339296 -0.191242 -0.052936   \n",
       "2  0.880765  1.668059 -0.147633 -1.082997  0.056403  0.058890 -0.613773   \n",
       "3 -0.386926 -1.223401 -0.066371 -1.067165 -0.538200  0.248088 -0.471275   \n",
       "4 -1.477190  0.319217 -0.624764  0.611954  0.157849 -0.009979 -0.583149   \n",
       "\n",
       "          7         8         9  ...        30        31        32        33  \\\n",
       "0 -0.727228  0.164783  0.282505  ...  0.280461  0.112511 -0.167565  0.241680   \n",
       "1 -0.478059  0.381229 -0.075820  ... -0.035147 -0.003026  0.012833 -0.265793   \n",
       "2  0.164287  0.020482  0.257657  ...  0.115437  0.045513  0.115059  0.073766   \n",
       "3 -0.860523  0.083781 -0.325903  ... -0.329045 -0.427553  0.368932  0.338526   \n",
       "4  0.228993 -0.282527  0.152813  ...  0.050633  0.076408 -0.140688  0.208800   \n",
       "\n",
       "         34        35        36        37        38        39  \n",
       "0  0.134053  0.049167  0.008604 -0.335652  0.338084  0.639564  \n",
       "1  0.115587  0.252825  0.117377  0.803869 -0.029065  0.325390  \n",
       "2 -0.026498 -0.047192 -0.012115 -0.004044  0.008801  0.080400  \n",
       "3  0.166647  0.040206 -0.188958  0.034582 -0.090650 -0.045612  \n",
       "4 -0.307799 -0.133149 -0.013142 -0.109237 -0.255567  0.134722  \n",
       "\n",
       "[5 rows x 40 columns]"
      ]
     },
     "execution_count": 9,
     "metadata": {},
     "output_type": "execute_result"
    }
   ],
   "source": [
    "X.head()"
   ]
  },
  {
   "cell_type": "markdown",
   "metadata": {
    "_cell_guid": "f66f8804-2605-d915-cb7a-d6f1b0afcf13"
   },
   "source": []
  },
  {
   "cell_type": "code",
   "execution_count": 10,
   "metadata": {
    "_cell_guid": "ada96df8-6788-87df-6ffc-2fe29ad94521"
   },
   "outputs": [
    {
     "name": "stdout",
     "output_type": "stream",
     "text": [
      "Shape of X: (286940, 40)\n",
      "Shape of y: (286940, 1)\n"
     ]
    }
   ],
   "source": [
    "X = np.array(X)\n",
    "y = np.array(y)\n",
    "print('Shape of X: {}'.format(X.shape))\n",
    "print('Shape of y: {}'.format(y.shape))"
   ]
  },
  {
   "cell_type": "code",
   "execution_count": 11,
   "metadata": {},
   "outputs": [
    {
     "data": {
      "text/plain": [
       "numpy.ndarray"
      ]
     },
     "execution_count": 11,
     "metadata": {},
     "output_type": "execute_result"
    }
   ],
   "source": [
    "type(X)"
   ]
  },
  {
   "cell_type": "code",
   "execution_count": 12,
   "metadata": {
    "scrolled": false
   },
   "outputs": [
    {
     "name": "stderr",
     "output_type": "stream",
     "text": [
      "Using TensorFlow backend.\n"
     ]
    }
   ],
   "source": [
    "from imblearn.over_sampling import ADASYN #, SMOTE \n",
    "from collections import Counter\n",
    "from sklearn.svm import LinearSVC"
   ]
  },
  {
   "cell_type": "code",
   "execution_count": 13,
   "metadata": {},
   "outputs": [
    {
     "name": "stdout",
     "output_type": "stream",
     "text": [
      "Before OverSampling, counts of label '1': [34793]\n",
      "Before OverSampling, counts of label '0': [252147] \n",
      "\n",
      "After OverSampling, the shape of train_X: (504354, 40)\n",
      "After OverSampling, the shape of train_y: (504354,) \n",
      "\n",
      "After OverSampling, counts of label '1': 252207\n",
      "After OverSampling, counts of label '0': 252147\n"
     ]
    }
   ],
   "source": [
    "print(\"Before OverSampling, counts of label '1': {}\".format(sum(y==1)))\n",
    "print(\"Before OverSampling, counts of label '0': {} \\n\".format(sum(y==0)))\n",
    "\n",
    "# sm = SMOTE(random_state=2)\n",
    "X_res, y_res = ADASYN().fit_resample(X, y)\n",
    "\n",
    "print('After OverSampling, the shape of train_X: {}'.format(X_res.shape))\n",
    "print('After OverSampling, the shape of train_y: {} \\n'.format(y_res.shape))\n",
    "\n",
    "print(\"After OverSampling, counts of label '1': {}\".format(sum(y_res==1)))\n",
    "print(\"After OverSampling, counts of label '0': {}\".format(sum(y_res==0)))"
   ]
  },
  {
   "cell_type": "code",
   "execution_count": 20,
   "metadata": {},
   "outputs": [],
   "source": [
    "# pd.value_counts(y['FraudFound']).plot.bar()\n",
    "# plt.title('Fraud class histogram')\n",
    "# plt.xlabel('Class')\n",
    "# plt.ylabel('Frequency')\n",
    "# y['FraudFound'].value_counts()"
   ]
  },
  {
   "cell_type": "code",
   "execution_count": 21,
   "metadata": {},
   "outputs": [
    {
     "data": {
      "text/plain": [
       "numpy.ndarray"
      ]
     },
     "execution_count": 21,
     "metadata": {},
     "output_type": "execute_result"
    }
   ],
   "source": [
    "type(X_res)"
   ]
  },
  {
   "cell_type": "code",
   "execution_count": 22,
   "metadata": {},
   "outputs": [
    {
     "data": {
      "text/plain": [
       "numpy.ndarray"
      ]
     },
     "execution_count": 22,
     "metadata": {},
     "output_type": "execute_result"
    }
   ],
   "source": [
    "type(y_res)"
   ]
  },
  {
   "cell_type": "code",
   "execution_count": 23,
   "metadata": {},
   "outputs": [],
   "source": [
    "X_ADASYN = pd.DataFrame(X_res)\n",
    "X_ADASYN.columns = headers"
   ]
  },
  {
   "cell_type": "code",
   "execution_count": 24,
   "metadata": {},
   "outputs": [
    {
     "data": {
      "text/plain": [
       "numpy.ndarray"
      ]
     },
     "execution_count": 24,
     "metadata": {},
     "output_type": "execute_result"
    }
   ],
   "source": [
    "type(y_res)"
   ]
  },
  {
   "cell_type": "code",
   "execution_count": 25,
   "metadata": {
    "scrolled": true
   },
   "outputs": [
    {
     "data": {
      "text/html": [
       "<div>\n",
       "<style scoped>\n",
       "    .dataframe tbody tr th:only-of-type {\n",
       "        vertical-align: middle;\n",
       "    }\n",
       "\n",
       "    .dataframe tbody tr th {\n",
       "        vertical-align: top;\n",
       "    }\n",
       "\n",
       "    .dataframe thead th {\n",
       "        text-align: right;\n",
       "    }\n",
       "</style>\n",
       "<table border=\"1\" class=\"dataframe\">\n",
       "  <thead>\n",
       "    <tr style=\"text-align: right;\">\n",
       "      <th></th>\n",
       "      <th>FraudFound</th>\n",
       "    </tr>\n",
       "  </thead>\n",
       "  <tbody>\n",
       "    <tr>\n",
       "      <th>0</th>\n",
       "      <td>1</td>\n",
       "    </tr>\n",
       "    <tr>\n",
       "      <th>1</th>\n",
       "      <td>0</td>\n",
       "    </tr>\n",
       "    <tr>\n",
       "      <th>2</th>\n",
       "      <td>0</td>\n",
       "    </tr>\n",
       "    <tr>\n",
       "      <th>3</th>\n",
       "      <td>0</td>\n",
       "    </tr>\n",
       "    <tr>\n",
       "      <th>4</th>\n",
       "      <td>0</td>\n",
       "    </tr>\n",
       "  </tbody>\n",
       "</table>\n",
       "</div>"
      ],
      "text/plain": [
       "   FraudFound\n",
       "0           1\n",
       "1           0\n",
       "2           0\n",
       "3           0\n",
       "4           0"
      ]
     },
     "execution_count": 25,
     "metadata": {},
     "output_type": "execute_result"
    }
   ],
   "source": [
    "y_ADASYN = pd.DataFrame(y_res)\n",
    "y_ADASYN.columns = ['FraudFound']\n",
    "y_ADASYN.head()"
   ]
  },
  {
   "cell_type": "code",
   "execution_count": 26,
   "metadata": {},
   "outputs": [],
   "source": [
    "X_ADASYN.to_csv(r\"../Data/ADASYN/X_PCA_ADASYN.csv\", index=False)\n",
    "y_ADASYN.to_csv(r\"../Data/ADASYN/y_PCA_ADASYN.csv\", index=False)"
   ]
  },
  {
   "cell_type": "code",
   "execution_count": 27,
   "metadata": {},
   "outputs": [],
   "source": [
    "ADASYN = X_ADASYN\n",
    "ADASYN['FraudFound'] = y_res"
   ]
  },
  {
   "cell_type": "code",
   "execution_count": 28,
   "metadata": {},
   "outputs": [],
   "source": [
    "ADASYN.to_csv(r\"../Data/ADASYN/PCA_ADASYN.csv\", index=False)"
   ]
  },
  {
   "cell_type": "code",
   "execution_count": null,
   "metadata": {},
   "outputs": [],
   "source": []
  }
 ],
 "metadata": {
  "_change_revision": 440,
  "_is_fork": false,
  "kernelspec": {
   "display_name": "Python 3",
   "language": "python",
   "name": "python3"
  },
  "language_info": {
   "codemirror_mode": {
    "name": "ipython",
    "version": 3
   },
   "file_extension": ".py",
   "mimetype": "text/x-python",
   "name": "python",
   "nbconvert_exporter": "python",
   "pygments_lexer": "ipython3",
   "version": "3.7.9"
  }
 },
 "nbformat": 4,
 "nbformat_minor": 1
}
